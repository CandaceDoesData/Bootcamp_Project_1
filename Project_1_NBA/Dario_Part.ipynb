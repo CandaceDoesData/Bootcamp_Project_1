{
 "cells": [
  {
   "cell_type": "code",
   "execution_count": null,
   "metadata": {},
   "outputs": [],
   "source": [
    "# Dependencies and Setup\n",
    "import matplotlib.pyplot as plt\n",
    "import matplotlib.image as mpimg\n",
    "import matplotlib.offsetbox as offsetbox\n",
    "import pandas as pd\n",
    "import scipy.stats as st\n",
    "import numpy as np"
   ]
  },
  {
   "cell_type": "code",
   "execution_count": null,
   "metadata": {},
   "outputs": [],
   "source": [
    "# Set path for to locate dataset\n",
    "nba1 = \"../league_data/general_1-50.csv\"\n",
    "nba2 = \"../league_data/general_51-100.csv\" \n",
    "nba3 = \"../league_data/general_101-150.csv\"\n",
    "nba4 = \"../league_data/general_151-200.csv\"\n"
   ]
  },
  {
   "cell_type": "code",
   "execution_count": null,
   "metadata": {},
   "outputs": [],
   "source": [
    "#\n",
    "nba01 = pd.read_csv(nba1)\n",
    "nba02 = pd.read_csv(nba2)\n",
    "nba03 = pd.read_csv(nba3)\n",
    "nba04 = pd.read_csv(nba4)\n",
    "magic23 = pd.read_csv(\"../orlando_data/magic_22_23.csv\")"
   ]
  },
  {
   "cell_type": "code",
   "execution_count": null,
   "metadata": {},
   "outputs": [],
   "source": [
    "# Combine the data into a single dataset\n",
    "frames = [nba01,nba02,nba03,nba04]\n",
    "league_df = pd.concat(frames)"
   ]
  },
  {
   "cell_type": "code",
   "execution_count": null,
   "metadata": {},
   "outputs": [],
   "source": [
    "# Dataframe of the best 200 players in the NBA stat averages per game of the 2023 season\n",
    "league_df.head(75)"
   ]
  },
  {
   "cell_type": "code",
   "execution_count": null,
   "metadata": {},
   "outputs": [],
   "source": [
    "#Name of the columns\n",
    "league_df.columns"
   ]
  },
  {
   "cell_type": "code",
   "execution_count": null,
   "metadata": {},
   "outputs": [],
   "source": [
    "#DataFrame of the Orlando Magic Team of 2023\n",
    "magic23.head(5)"
   ]
  },
  {
   "cell_type": "code",
   "execution_count": null,
   "metadata": {},
   "outputs": [],
   "source": [
    "#Replaced a string inside the column of the magic file to match the other dataset\n",
    "magic23[\"Position\"] = magic23[\"Position\"].str.replace(\"Forwards\",\"Forward\", regex=False)\n",
    "\n",
    "magic23.head(15)"
   ]
  },
  {
   "cell_type": "code",
   "execution_count": null,
   "metadata": {},
   "outputs": [],
   "source": [
    "#League average of players by position\n",
    "league_positions_age = league_df.groupby(['Position'])[\"AGE\"].mean()"
   ]
  },
  {
   "cell_type": "code",
   "execution_count": null,
   "metadata": {},
   "outputs": [],
   "source": [
    "#League average games played by position\n",
    "league_positions_gp = league_df.groupby(['Position'])[\"Games Played\"].mean()"
   ]
  },
  {
   "cell_type": "code",
   "execution_count": null,
   "metadata": {},
   "outputs": [],
   "source": [
    "#League average minutes played by position\n",
    "league_positions_mins = league_df.groupby(['Position'])[\"Minutes\"].mean()"
   ]
  },
  {
   "cell_type": "code",
   "execution_count": null,
   "metadata": {},
   "outputs": [],
   "source": [
    "#League average points per game by position\n",
    "league_positions_ppg = league_df.groupby(['Position'])[\"Points\"].mean()\n",
    "league_positions_ppg"
   ]
  },
  {
   "cell_type": "code",
   "execution_count": null,
   "metadata": {},
   "outputs": [],
   "source": [
    "#League average field goals attmepted per game by position\n",
    "league_positions_fga = league_df.groupby(['Position'])[\"Field Goals Attmepted \"].mean()"
   ]
  },
  {
   "cell_type": "code",
   "execution_count": null,
   "metadata": {},
   "outputs": [],
   "source": [
    "#League average field goals percentage per game by position\n",
    "league_positions_fgp = league_df.groupby(['Position'])[\"Field Goal %\"].mean()"
   ]
  },
  {
   "cell_type": "code",
   "execution_count": null,
   "metadata": {},
   "outputs": [],
   "source": [
    "#League average 3 points attmepted per game by position\n",
    "league_positions_3pa = league_df.groupby(['Position'])[\"3 Points Attempted\"].mean()"
   ]
  },
  {
   "cell_type": "code",
   "execution_count": null,
   "metadata": {},
   "outputs": [],
   "source": [
    "#League average 3 points percentage per game by position\n",
    "league_positions_3pp = league_df.groupby(['Position'])[\"3 Point %\"].mean()"
   ]
  },
  {
   "cell_type": "code",
   "execution_count": null,
   "metadata": {},
   "outputs": [],
   "source": [
    "#League average free throws attmepted per game by position\n",
    "league_positions_fta = league_df.groupby(['Position'])[\"Free throw Attempted\"].mean()"
   ]
  },
  {
   "cell_type": "code",
   "execution_count": null,
   "metadata": {},
   "outputs": [],
   "source": [
    "#League average free throws percentage per game by position\n",
    "league_positions_ftp = league_df.groupby(['Position'])[\"Free Throw %\"].mean()"
   ]
  },
  {
   "cell_type": "code",
   "execution_count": null,
   "metadata": {},
   "outputs": [],
   "source": [
    "#League average offensive rebounds per game by position\n",
    "league_positions_orb = league_df.groupby(['Position'])[\"Offensive Rebound\"].mean()"
   ]
  },
  {
   "cell_type": "code",
   "execution_count": null,
   "metadata": {},
   "outputs": [],
   "source": [
    "#League average defensive rebounds per game by position\n",
    "league_positions_drb = league_df.groupby(['Position'])[\"Defensive Rebound\"].mean()"
   ]
  },
  {
   "cell_type": "code",
   "execution_count": null,
   "metadata": {},
   "outputs": [],
   "source": [
    "league_positions_trb = league_df.groupby(['Position'])[\"Rebounds\"].mean()"
   ]
  },
  {
   "cell_type": "code",
   "execution_count": null,
   "metadata": {},
   "outputs": [],
   "source": [
    "#League average assists per game by position\n",
    "league_positions_ast = league_df.groupby(['Position'])[\"Assists \"].mean()"
   ]
  },
  {
   "cell_type": "code",
   "execution_count": null,
   "metadata": {},
   "outputs": [],
   "source": [
    "#League average steals per game by position\n",
    "league_positions_to = league_df.groupby(['Position'])[\"Turnover\"].mean()"
   ]
  },
  {
   "cell_type": "code",
   "execution_count": null,
   "metadata": {},
   "outputs": [],
   "source": [
    "#League average turnovers per game by position\n",
    "league_positions_stl = league_df.groupby(['Position'])[\"Steals\"].mean()"
   ]
  },
  {
   "cell_type": "code",
   "execution_count": null,
   "metadata": {},
   "outputs": [],
   "source": [
    "#League average blocks per game by position\n",
    "league_positions_blk = league_df.groupby(['Position'])[\"Blocks\"].mean()"
   ]
  },
  {
   "cell_type": "code",
   "execution_count": null,
   "metadata": {},
   "outputs": [],
   "source": [
    "#League average personal foul per game by position\n",
    "league_positions_pf = league_df.groupby(['Position'])[\"Personal Foul\"].mean()"
   ]
  },
  {
   "cell_type": "code",
   "execution_count": null,
   "metadata": {},
   "outputs": [],
   "source": [
    "#League average plus-minus per game by position\n",
    "league_positions_eff = league_df.groupby(['Position'])[\"Plus-Minus\"].mean()"
   ]
  },
  {
   "cell_type": "code",
   "execution_count": null,
   "metadata": {},
   "outputs": [],
   "source": [
    "#Made New DF with the average of each player but organized by position\n",
    "league_average_position = pd.DataFrame({\"Age\":league_positions_age,\"Games Played\":league_positions_gp,\n",
    "                                        \"Minutes\":league_positions_mins,\"Points\":league_positions_ppg,\n",
    "                                        \"Field Goals Attmepted\":league_positions_fga,\"Field Goal %\":league_positions_fgp,\n",
    "                                       \"3 Points Attempted\":league_positions_3pa,\"3 Point %\":league_positions_3pp,\n",
    "                                       \"Free throw Attempted\":league_positions_fta,\"Free Throw %\":league_positions_ftp,\n",
    "                                       \"Offensive Rebound\":league_positions_orb,\"Defensive Rebound\":league_positions_drb,\n",
    "                                        \"Rebounds\":league_positions_drb,\n",
    "                                      \"Assists\":league_positions_ast,\"Steals\":league_positions_stl,\"Turnover\":league_positions_to,\n",
    "                                        \"Blocks\":league_positions_blk,\"Personal Foul\":league_positions_pf,\n",
    "                                        \"Plus-Minus\":league_positions_eff})\n",
    "#Formated DF\n",
    "league_average_position[\"Age\"]=league_average_position[\"Age\"].map(\"{:,.1f}\".format)\n",
    "league_average_position[\"Games Played\"]=league_average_position[\"Games Played\"].map(\"{:,.1f}\".format)\n",
    "league_average_position[\"Minutes\"]=league_average_position[\"Minutes\"].map(\"{:,.2f}\".format)\n",
    "league_average_position[\"Points\"]=league_average_position[\"Points\"].map(\"{:,.2f}\".format)\n",
    "league_average_position[\"Field Goals Attmepted\"]=league_average_position[\"Field Goals Attmepted\"].map(\"{:,.2f}\".format)\n",
    "league_average_position[\"Field Goal %\"]=league_average_position[\"Field Goal %\"].map(\"{:,.2f}\".format)\n",
    "league_average_position[\"3 Points Attempted\"]=league_average_position[\"3 Points Attempted\"].map(\"{:,.2f}\".format)\n",
    "league_average_position[\"3 Point %\"]=league_average_position[\"3 Point %\"].map(\"{:,.2f}\".format)\n",
    "league_average_position[\"Free throw Attempted\"]=league_average_position[\"Free throw Attempted\"].map(\"{:,.2f}\".format)\n",
    "league_average_position[\"Free Throw %\"]=league_average_position[\"Free Throw %\"].map(\"{:,.2f}\".format)\n",
    "league_average_position[\"Offensive Rebound\"]=league_average_position[\"Offensive Rebound\"].map(\"{:,.2f}\".format)\n",
    "league_average_position[\"Defensive Rebound\"]=league_average_position[\"Defensive Rebound\"].map(\"{:,.2f}\".format)\n",
    "league_average_position[\"Rebounds\"]=league_average_position[\"Rebounds\"].map(\"{:,.2f}\".format)\n",
    "league_average_position[\"Assists\"]=league_average_position[\"Assists\"].map(\"{:,.2f}\".format)\n",
    "league_average_position[\"Steals\"]=league_average_position[\"Steals\"].map(\"{:,.2f}\".format)\n",
    "league_average_position[\"Turnover\"]=league_average_position[\"Turnover\"].map(\"{:,.2f}\".format)\n",
    "league_average_position[\"Blocks\"]=league_average_position[\"Blocks\"].map(\"{:,.2f}\".format)\n",
    "league_average_position[\"Personal Foul\"]=league_average_position[\"Personal Foul\"].map(\"{:,.2f}\".format)\n",
    "league_average_position[\"Plus-Minus\"]=league_average_position[\"Plus-Minus\"].map(\"{:,.2f}\".format)\n",
    "\n",
    "\n",
    "league_average_position.head(5)"
   ]
  },
  {
   "cell_type": "code",
   "execution_count": null,
   "metadata": {},
   "outputs": [],
   "source": [
    "#Used Loc to have the ability to call items by position from average by posistion DF(The df above)\n",
    "league_average_forward = league_average_position.loc[\"Forward\"].astype(float)"
   ]
  },
  {
   "cell_type": "code",
   "execution_count": null,
   "metadata": {},
   "outputs": [],
   "source": [
    "#Used Loc to have the ability to call items by position from average by posistion DF(The df above)\n",
    "league_average_center = league_average_position.loc[\"Center\"].astype(float)"
   ]
  },
  {
   "cell_type": "code",
   "execution_count": null,
   "metadata": {},
   "outputs": [],
   "source": [
    "#Used Loc to have the ability to call items by position from average by posistion DF(The df above)\n",
    "league_average_guard = league_average_position.loc[\"Guard\"].astype(float)"
   ]
  },
  {
   "cell_type": "code",
   "execution_count": null,
   "metadata": {},
   "outputs": [],
   "source": [
    "#Made DF from the Magic23 DF and grouped it by player\n",
    "orl_players23 = magic23.groupby([\"PLAYER\"]).mean(numeric_only=True)\n",
    "orl_players23"
   ]
  },
  {
   "cell_type": "code",
   "execution_count": null,
   "metadata": {},
   "outputs": [],
   "source": [
    "#Used Loc to get each of the Gaurds in the DF above so I can access each row\n",
    "m_fultz = orl_players23.loc[\"Markelle Fultz\"].astype(float)\n",
    "mc_will=orl_players23.loc[\"Michael Carter-Williams\"].astype(float)\n",
    "j_sug=orl_players23.loc[\"Jalen Suggs\"].astype(float)\n",
    "g_har=orl_players23.loc[\"Gary Harris\"].astype(float)\n",
    "c_ant=orl_players23.loc[\"Cole Anthony\"].astype(float)\n",
    "j_scrub=orl_players23.loc[\"Jay Scrubb\"].astype(float)\n",
    "C_hou=orl_players23.loc[\"Caleb Houstan\"].astype(float)\n",
    "k_har=orl_players23.loc[\"Kevon Harris\"].astype(float)"
   ]
  },
  {
   "cell_type": "code",
   "execution_count": null,
   "metadata": {},
   "outputs": [],
   "source": [
    "#Used Loc to get each of the Forwards in the DF above so I can access each row\n",
    "p_banchero = orl_players23.loc[\"Paolo Banchero\"].astype(float)\n",
    "fr_wag = orl_players23.loc[\"Franz Wagner\"].astype(float)\n",
    "jon_isa = orl_players23.loc[\"Jonathan Isaac\"].astype(float)\n",
    "ad_s = orl_players23.loc[\"Admiral Schofield\"].astype(float)\n",
    "c_oke = orl_players23.loc[\"Chuma Okeke\"].astype(float)"
   ]
  },
  {
   "cell_type": "code",
   "execution_count": null,
   "metadata": {},
   "outputs": [],
   "source": [
    "bol = orl_players23.loc[\"Bol Bol\"].astype(float)\n",
    "wen_car = orl_players23.loc[\"Wendell Carter Jr.\"].astype(float)\n",
    "mo_wag = orl_players23.loc[\"Moritz Wagner\"].astype(float)\n",
    "go_bit = orl_players23.loc[\"Goga Bitadze\"].astype(float)"
   ]
  },
  {
   "cell_type": "code",
   "execution_count": null,
   "metadata": {},
   "outputs": [],
   "source": [
    "orl_players23.columns"
   ]
  },
  {
   "cell_type": "code",
   "execution_count": null,
   "metadata": {},
   "outputs": [],
   "source": [
    "#\n",
    "plt.bar(league_average_guard[\"Games Played\"],league_average_guard[\"Minutes\"],color=\"r\",label=\"League Average\", width=1.5)\n",
    "plt.bar(m_fultz[\"Games Played\"],m_fultz[\"Minutes\"],color=\"blue\",label=\"Markelle Fultz\", width=1.5)\n",
    "plt.bar(mc_will[\"Games Played\"],mc_will[\"Minutes\"],color=\"g\",label=\"Michael Carter-Williams\", width=1.5)\n",
    "plt.bar(j_sug[\"Games Played\"],j_sug[\"Minutes\"],color=\"y\",label=\"Jalen Suggs\", width=1.5)\n",
    "plt.bar(g_har[\"Games Played\"],g_har[\"Minutes\"],color=\"orange\",label=\"Gary Harris\", width=1.5)\n",
    "plt.bar(c_ant[\"Games Played\"],c_ant[\"Minutes\"],color=\"black\",label=\"Cole Anthony\", width=1.5)\n",
    "plt.bar(j_scrub[\"Games Played\"],j_scrub[\"Minutes\"],color=\"silver\",label=\"Jay Scrubb\", width=1.5)\n",
    "plt.bar(C_hou[\"Games Played\"],C_hou[\"Minutes\"],color=\"purple\",label=\"Caleb Houstan\", width=1.5)\n",
    "plt.bar(k_har[\"Games Played\"],k_har[\"Minutes\"],color=\"pink\",label=\"Kevon Harris\", width=1.5)\n",
    "\n",
    "plt.title(\"2023 Season Guards Availablity\")\n",
    "plt.xlabel(\"Games Played\")\n",
    "plt.ylabel(\"Minutes Played\")\n",
    "plt.legend(fontsize=\"small\")\n",
    "plt.xlim(0,82)\n",
    "plt.grid()\n",
    "plt.savefig(\"images/Guard1.png\")\n",
    "plt.show()"
   ]
  },
  {
   "cell_type": "code",
   "execution_count": null,
   "metadata": {},
   "outputs": [],
   "source": [
    "#Used the games played as an X, then what i wanted to measure as a Y, and made a bar graph\n",
    "plt.bar(league_average_guard[\"Games Played\"],league_average_guard[\"Points\"],color=\"r\",label=\"League Average\", width=1.5)\n",
    "plt.bar(m_fultz[\"Games Played\"],m_fultz[\"Points\"],color=\"blue\",label=\"Markelle Fultz\", width=1.5)\n",
    "plt.bar(mc_will[\"Games Played\"],mc_will[\"Points\"],color=\"g\",label=\"Michael Carter-Williams\", width=1.5)\n",
    "plt.bar(j_sug[\"Games Played\"],j_sug[\"Points\"],color=\"y\",label=\"Jalen Suggs\", width=1.5)\n",
    "plt.bar(g_har[\"Games Played\"],g_har[\"Points\"],color=\"orange\",label=\"Gary Harris\", width=1.5)\n",
    "plt.bar(c_ant[\"Games Played\"],c_ant[\"Points\"],color=\"black\",label=\"Cole Anthony\", width=1.5)\n",
    "plt.bar(j_scrub[\"Games Played\"],j_scrub[\"Points\"],color=\"brown\",label=\"Jay Scrubb\", width=1.5)\n",
    "plt.bar(C_hou[\"Games Played\"],C_hou[\"Points\"],color=\"purple\",label=\"Caleb Houstan\", width=1.5)\n",
    "plt.bar(k_har[\"Games Played\"],k_har[\"Points\"],color=\"pink\",label=\"Kevon Harris\", width=1.5)\n",
    "\n",
    "plt.title(\"2023 Season Guards Points Average\")\n",
    "plt.xlabel(\"Games Played\")\n",
    "plt.ylabel(\"Points Scored\")\n",
    "plt.legend()\n",
    "plt.xlim(0,82)\n",
    "plt.grid()\n",
    "plt.savefig(\"images/Guard2.png\")\n",
    "plt.show()"
   ]
  },
  {
   "cell_type": "code",
   "execution_count": null,
   "metadata": {},
   "outputs": [],
   "source": [
    "#\n",
    "plt.scatter(league_average_guard[\"Field Goals Attmepted\"],league_average_guard[\"Field Goal %\"],color=\"r\",label=\"League Average\")\n",
    "plt.scatter(m_fultz[\"Field Goals Attmepted \"],m_fultz[\"Field Goal %\"],color=\"blue\",label=\"Markelle Fultz\")\n",
    "plt.scatter(mc_will[\"Field Goals Attmepted \"],mc_will[\"Field Goal %\"],color=\"g\",label=\"Michael Carter-Williams\")\n",
    "plt.scatter(j_sug[\"Field Goals Attmepted \"],j_sug[\"Field Goal %\"],color=\"y\",label=\"Jalen Suggs\")\n",
    "plt.scatter(g_har[\"Field Goals Attmepted \"],g_har[\"Field Goal %\"],color=\"orange\",label=\"Gary Harris\")\n",
    "plt.scatter(c_ant[\"Field Goals Attmepted \"],c_ant[\"Field Goal %\"],color=\"black\",label=\"Cole Anthony\")\n",
    "plt.scatter(j_scrub[\"Field Goals Attmepted \"],j_scrub[\"Field Goal %\"],color=\"brown\",label=\"Jay Scrubb\")\n",
    "plt.scatter(C_hou[\"Field Goals Attmepted \"],C_hou[\"Field Goal %\"],color=\"purple\",label=\"Caleb Houstan\")\n",
    "plt.scatter(k_har[\"Field Goals Attmepted \"],k_har[\"Field Goal %\"],color=\"pink\",label=\"Kevon Harris\")\n",
    "\n",
    "plt.title(\"2023 Guard Shooting Percentage Average Per Game\")\n",
    "plt.xlabel(\"Field Goals Attmepted\")\n",
    "plt.ylabel(\"Field Goals Percentage\")\n",
    "plt.legend(fontsize=\"small\")\n",
    "plt.xlim(0,20)\n",
    "plt.ylim(30,80)\n",
    "plt.grid()\n",
    "plt.savefig(\"images/Guard3.png\")\n",
    "plt.show()"
   ]
  },
  {
   "cell_type": "code",
   "execution_count": null,
   "metadata": {},
   "outputs": [],
   "source": [
    "#\n",
    "plt.scatter(league_average_guard[\"3 Points Attempted\"],league_average_guard[\"3 Point %\"],color=\"r\",label=\"League Average\")\n",
    "plt.scatter(m_fultz[\"3 Points Attempted\"],m_fultz[\"3 Point %\"],color=\"blue\",label=\"Markelle Fultz\")\n",
    "plt.scatter(mc_will[\"3 Points Attempted\"],mc_will[\"3 Point %\"],color=\"g\",label=\"Michael Carter-Williams\")\n",
    "plt.scatter(j_sug[\"3 Points Attempted\"],j_sug[\"3 Point %\"],color=\"y\",label=\"Jalen Suggs\")\n",
    "plt.scatter(g_har[\"3 Points Attempted\"],g_har[\"3 Point %\"],color=\"orange\",label=\"Gary Harris\")\n",
    "plt.scatter(c_ant[\"3 Points Attempted\"],c_ant[\"3 Point %\"],color=\"black\",label=\"Cole Anthony\")\n",
    "plt.scatter(j_scrub[\"3 Points Attempted\"],j_scrub[\"3 Point %\"],color=\"brown\",label=\"Jay Scrubb\")\n",
    "plt.scatter(C_hou[\"3 Points Attempted\"],C_hou[\"3 Point %\"],color=\"purple\",label=\"Caleb Houstan\")\n",
    "plt.scatter(k_har[\"3 Points Attempted\"],k_har[\"3 Point %\"],color=\"pink\",label=\"Kevon Harris\")\n",
    "\n",
    "plt.title(\"2023 Guard 3pt Shooting Percentage Average Per Game\")\n",
    "plt.xlabel(\"3pt Field Goals Attmepted\")\n",
    "plt.ylabel(\"3pt Field Goals Percentage\")\n",
    "plt.legend(fontsize=\"small\")\n",
    "plt.xlim(0,8)\n",
    "plt.ylim(20,105)\n",
    "plt.grid()\n",
    "plt.savefig(\"images/Guard3ptB.png\")\n",
    "plt.show()"
   ]
  },
  {
   "cell_type": "code",
   "execution_count": null,
   "metadata": {},
   "outputs": [],
   "source": [
    "plt.scatter(league_average_guard[\"Free throw Attempted\"],league_average_guard[\"Free Throw %\"],color=\"r\",label=\"League Average\")\n",
    "plt.scatter(m_fultz[\"Free throw Attempted\"],m_fultz[\"Free Throw %\"],color=\"blue\",label=\"Markelle Fultz\")\n",
    "plt.scatter(mc_will[\"Free throw Attempted\"],mc_will[\"Free Throw %\"],color=\"g\",label=\"Michael Carter-Williams\")\n",
    "plt.scatter(j_sug[\"Free throw Attempted\"],j_sug[\"Free Throw %\"],color=\"y\",label=\"Jalen Suggs\")\n",
    "plt.scatter(g_har[\"Free throw Attempted\"],g_har[\"Free Throw %\"],color=\"orange\",label=\"Gary Harris\")\n",
    "plt.scatter(c_ant[\"Free throw Attempted\"],c_ant[\"Free Throw %\"],color=\"black\",label=\"Cole Anthony\")\n",
    "plt.scatter(j_scrub[\"Free throw Attempted\"],j_scrub[\"Free Throw %\"],color=\"brown\",label=\"Jay Scrubb\")\n",
    "plt.scatter(C_hou[\"Free throw Attempted\"],C_hou[\"Free Throw %\"],color=\"purple\",label=\"Caleb Houstan\")\n",
    "plt.scatter(k_har[\"Free throw Attempted\"],k_har[\"Free Throw %\"],color=\"pink\",label=\"Kevon Harris\")\n",
    "\n",
    "plt.title(\"2023 Guard Free Throw Shooting Percentage Average Per Game\")\n",
    "plt.xlabel(\"Free Throws Attmepted\")\n",
    "plt.ylabel(\"Free Throws Percentage\")\n",
    "plt.legend(fontsize=\"small\")\n",
    "plt.xlim(0,8)\n",
    "plt.ylim(40,95)\n",
    "plt.grid()\n",
    "plt.show()"
   ]
  },
  {
   "cell_type": "code",
   "execution_count": null,
   "metadata": {},
   "outputs": [],
   "source": [
    "plt.bar(league_average_guard[\"Minutes\"],league_average_guard[\"Offensive Rebound\"],color=\"r\",label=\"League Average\")\n",
    "\n",
    "plt.bar(m_fultz[\"Minutes\"],m_fultz[\"Offensive Rebound\"],color=\"blue\",label=\"Markelle Fultz\", width=.5)\n",
    "\n",
    "plt.bar(mc_will[\"Minutes\"],mc_will[\"Offensive Rebound\"],color=\"g\",label=\"Michael Carter-Williams\")\n",
    "\n",
    "plt.bar(j_sug[\"Minutes\"],j_sug[\"Offensive Rebound\"],color=\"y\",label=\"Jalen Suggs\")\n",
    "\n",
    "plt.bar(g_har[\"Minutes\"],g_har[\"Offensive Rebound\"],color=\"orange\",label=\"Gary Harris\")\n",
    "\n",
    "plt.bar(c_ant[\"Minutes\"],c_ant[\"Offensive Rebound\"],color=\"black\",label=\"Cole Anthony\")\n",
    "\n",
    "plt.bar(j_scrub[\"Minutes\"],j_scrub[\"Offensive Rebound\"],color=\"silver\",label=\"Jay Scrubb\")\n",
    "plt.bar(C_hou[\"Minutes\"],C_hou[\"Offensive Rebound\"],color=\"purple\",label=\"Caleb Houstan\")\n",
    "plt.bar(k_har[\"Minutes\"],k_har[\"Offensive Rebound\"],color=\"pink\",label=\"Kevon Harris\")\n",
    "\n",
    "\n",
    "plt.title(\"2023 Guard Offensive Rebounds Average\")\n",
    "plt.xlabel(\"Minutes Played\")\n",
    "plt.ylabel(\"Offensive Rebounds\")\n",
    "plt.legend(fontsize=\"small\")\n",
    "plt.xlim(0,32)\n",
    "plt.grid()\n",
    "plt.savefig(\"images/GuardOReb.png\")\n",
    "plt.show()"
   ]
  },
  {
   "cell_type": "code",
   "execution_count": null,
   "metadata": {},
   "outputs": [],
   "source": [
    "plt.bar(league_average_guard[\"Minutes\"],league_average_guard[\"Defensive Rebound\"],color=\"r\",label=\"League Average\")\n",
    "plt.bar(m_fultz[\"Minutes\"],m_fultz[\"Defensive Rebound\"],color=\"blue\",label=\"Markelle Fultz\")\n",
    "plt.bar(mc_will[\"Minutes\"],mc_will[\"Defensive Rebound\"],color=\"g\",label=\"Michael Carter-Williams\")\n",
    "plt.bar(j_sug[\"Minutes\"],j_sug[\"Defensive Rebound\"],color=\"y\",label=\"Jalen Suggs\")\n",
    "plt.bar(g_har[\"Minutes\"],g_har[\"Defensive Rebound\"],color=\"orange\",label=\"Gary Harris\")\n",
    "plt.bar(c_ant[\"Minutes\"],c_ant[\"Defensive Rebound\"],color=\"black\",label=\"Cole Anthony\")\n",
    "plt.bar(j_scrub[\"Minutes\"],j_scrub[\"Defensive Rebound\"],color=\"silver\",label=\"Jay Scrubb\")\n",
    "plt.bar(C_hou[\"Minutes\"],C_hou[\"Defensive Rebound\"],color=\"purple\",label=\"Caleb Houstan\")\n",
    "plt.bar(k_har[\"Minutes\"],k_har[\"Defensive Rebound\"],color=\"pink\",label=\"Kevon Harris\")\n",
    "\n",
    "plt.title(\"2023 Guard Defensive Rebounds Average\")\n",
    "plt.xlabel(\"Minutes Played\")\n",
    "plt.ylabel(\"Defensive Rebounds\")\n",
    "plt.legend(fontsize=\"small\")\n",
    "plt.xlim(0,32)\n",
    "plt.grid()\n",
    "plt.savefig(\"images/GuardDReb.png\")\n",
    "plt.show()"
   ]
  },
  {
   "cell_type": "code",
   "execution_count": null,
   "metadata": {},
   "outputs": [],
   "source": [
    "plt.bar(league_average_guard[\"Minutes\"],league_average_guard[\"Assists\"],color=\"r\",label=\"League Average\")\n",
    "plt.bar(m_fultz[\"Minutes\"],m_fultz[\"Assists \"],color=\"blue\",label=\"Markelle Fultz\", width=.5)\n",
    "plt.bar(mc_will[\"Minutes\"],mc_will[\"Assists \"],color=\"g\",label=\"Michael Carter-Williams\")\n",
    "plt.bar(j_sug[\"Minutes\"],j_sug[\"Assists \"],color=\"y\",label=\"Jalen Suggs\")\n",
    "plt.bar(g_har[\"Minutes\"],g_har[\"Assists \"],color=\"orange\",label=\"Gary Harris\")\n",
    "plt.bar(c_ant[\"Minutes\"],c_ant[\"Assists \"],color=\"black\",label=\"Cole Anthony\")\n",
    "plt.bar(j_scrub[\"Minutes\"],j_scrub[\"Assists \"],color=\"silver\",label=\"Jay Scrubb\")\n",
    "plt.bar(C_hou[\"Minutes\"],C_hou[\"Assists \"],color=\"purple\",label=\"Caleb Houstan\")\n",
    "plt.bar(k_har[\"Minutes\"],k_har[\"Assists \"],color=\"pink\",label=\"Kevon Harris\")\n",
    "\n",
    "plt.title(\"2023 Guard Assists Average\")\n",
    "plt.xlabel(\"Minutes played\")\n",
    "plt.ylabel(\"Assists\")\n",
    "plt.legend(fontsize=\"x-small\")\n",
    "plt.xlim(0,32)\n",
    "plt.ylim(0,7)\n",
    "plt.grid()\n",
    "plt.savefig(\"images/GuardAstG.png\")\n",
    "plt.show()"
   ]
  },
  {
   "cell_type": "code",
   "execution_count": null,
   "metadata": {},
   "outputs": [],
   "source": [
    "plt.bar(league_average_guard[\"Minutes\"],league_average_guard[\"Turnover\"],color=\"r\",label=\"League Average\")\n",
    "plt.bar(m_fultz[\"Minutes\"],m_fultz[\"Turnover\"],color=\"blue\",label=\"Markelle Fultz\", width=.5)\n",
    "plt.bar(mc_will[\"Minutes\"],mc_will[\"Turnover\"],color=\"g\",label=\"Michael Carter-Williams\")\n",
    "plt.bar(j_sug[\"Minutes\"],j_sug[\"Turnover\"],color=\"y\",label=\"Jalen Suggs\")\n",
    "plt.bar(g_har[\"Minutes\"],g_har[\"Turnover\"],color=\"orange\",label=\"Gary Harris\")\n",
    "plt.bar(c_ant[\"Minutes\"],c_ant[\"Turnover\"],color=\"black\",label=\"Cole Anthony\")\n",
    "plt.bar(j_scrub[\"Minutes\"],j_scrub[\"Turnover\"],color=\"silver\",label=\"Jay Scrubb\")\n",
    "plt.bar(C_hou[\"Minutes\"],C_hou[\"Turnover\"],color=\"purple\",label=\"Caleb Houstan\")\n",
    "plt.bar(k_har[\"Minutes\"],k_har[\"Turnover\"],color=\"pink\",label=\"Kevon Harris\")\n",
    "\n",
    "plt.title(\"2023 Guard Turnover Average\")\n",
    "plt.xlabel(\"Minutes played\")\n",
    "plt.ylabel(\"Turnovers\")\n",
    "plt.legend(fontsize=\"x-small\")\n",
    "plt.xlim(0,32)\n",
    "plt.ylim(0,3)\n",
    "plt.grid()\n",
    "plt.savefig(\"images/GuardTOB.png\")\n",
    "plt.show()"
   ]
  },
  {
   "cell_type": "code",
   "execution_count": null,
   "metadata": {},
   "outputs": [],
   "source": [
    "plt.bar(league_average_guard[\"Minutes\"],league_average_guard[\"Steals\"],color=\"r\",label=\"League Average\")\n",
    "plt.bar(m_fultz[\"Minutes\"],m_fultz[\"Steals\"],color=\"blue\",label=\"Markelle Fultz\", width=.5)\n",
    "plt.bar(mc_will[\"Minutes\"],mc_will[\"Steals\"],color=\"g\",label=\"Michael Carter-Williams\")\n",
    "plt.bar(j_sug[\"Minutes\"],j_sug[\"Steals\"],color=\"y\",label=\"Jalen Suggs\")\n",
    "plt.bar(g_har[\"Minutes\"],g_har[\"Steals\"],color=\"orange\",label=\"Gary Harris\")\n",
    "plt.bar(c_ant[\"Minutes\"],c_ant[\"Steals\"],color=\"black\",label=\"Cole Anthony\")\n",
    "plt.bar(j_scrub[\"Minutes\"],j_scrub[\"Steals\"],color=\"silver\",label=\"Jay Scrubb\")\n",
    "plt.bar(C_hou[\"Minutes\"],C_hou[\"Steals\"],color=\"purple\",label=\"Caleb Houstan\")\n",
    "plt.bar(k_har[\"Minutes\"],k_har[\"Steals\"],color=\"pink\",label=\"Kevon Harris\")\n",
    "\n",
    "plt.title(\"2023 Guard Steals Average\")\n",
    "plt.xlabel(\"Minutes played\")\n",
    "plt.ylabel(\"Steals\")\n",
    "plt.legend(fontsize=\"x-small\")\n",
    "plt.xlim(0,32)\n",
    "plt.ylim(0,2)\n",
    "plt.grid()\n",
    "plt.show()"
   ]
  },
  {
   "cell_type": "code",
   "execution_count": null,
   "metadata": {},
   "outputs": [],
   "source": [
    "plt.bar(league_average_guard[\"Minutes\"],league_average_guard[\"Blocks\"],color=\"r\",label=\"League Average\")\n",
    "plt.bar(m_fultz[\"Minutes\"],m_fultz[\"Blocks\"],color=\"blue\",label=\"Markelle Fultz\", width=.5)\n",
    "plt.bar(mc_will[\"Minutes\"],mc_will[\"Blocks\"],color=\"g\",label=\"Michael Carter-Williams\")\n",
    "plt.bar(j_sug[\"Minutes\"],j_sug[\"Blocks\"],color=\"y\",label=\"Jalen Suggs\")\n",
    "plt.bar(g_har[\"Minutes\"],g_har[\"Blocks\"],color=\"orange\",label=\"Gary Harris\")\n",
    "plt.bar(c_ant[\"Minutes\"],c_ant[\"Blocks\"],color=\"black\",label=\"Cole Anthony\")\n",
    "plt.bar(j_scrub[\"Minutes\"],j_scrub[\"Blocks\"],color=\"silver\",label=\"Jay Scrubb\")\n",
    "plt.bar(C_hou[\"Minutes\"],C_hou[\"Blocks\"],color=\"purple\",label=\"Caleb Houstan\")\n",
    "plt.bar(k_har[\"Minutes\"],k_har[\"Blocks\"],color=\"pink\",label=\"Kevon Harris\")\n",
    "\n",
    "plt.title(\"2023 Guards Blocks Average\")\n",
    "plt.xlabel(\"Minutes played\")\n",
    "plt.ylabel(\"Blocks\")\n",
    "plt.legend(fontsize=\"x-small\")\n",
    "plt.xlim(0,32)\n",
    "plt.ylim(0,.8)\n",
    "plt.grid()\n",
    "plt.show()"
   ]
  },
  {
   "cell_type": "code",
   "execution_count": null,
   "metadata": {},
   "outputs": [],
   "source": [
    "plt.bar(league_average_guard[\"Minutes\"],league_average_guard[\"Personal Foul\"],color=\"r\",label=\"League Average\")\n",
    "plt.bar(m_fultz[\"Minutes\"],m_fultz[\"Personal Foul\"],color=\"blue\",label=\"Markelle Fultz\", width=.5)\n",
    "plt.bar(mc_will[\"Minutes\"],mc_will[\"Personal Foul\"],color=\"g\",label=\"Michael Carter-Williams\")\n",
    "plt.bar(j_sug[\"Minutes\"],j_sug[\"Personal Foul\"],color=\"y\",label=\"Jalen Suggs\")\n",
    "plt.bar(g_har[\"Minutes\"],g_har[\"Personal Foul\"],color=\"orange\",label=\"Gary Harris\")\n",
    "plt.bar(c_ant[\"Minutes\"],c_ant[\"Personal Foul\"],color=\"black\",label=\"Cole Anthony\")\n",
    "plt.bar(j_scrub[\"Minutes\"],j_scrub[\"Personal Foul\"],color=\"silver\",label=\"Jay Scrubb\")\n",
    "plt.bar(C_hou[\"Minutes\"],C_hou[\"Personal Foul\"],color=\"purple\",label=\"Caleb Houstan\")\n",
    "plt.bar(k_har[\"Minutes\"],k_har[\"Personal Foul\"],color=\"pink\",label=\"Kevon Harris\")\n",
    "\n",
    "plt.title(\"2023 Guards Personal Fouls Average\")\n",
    "plt.xlabel(\"Minutes played\")\n",
    "plt.ylabel(\"Personal Fouls\")\n",
    "plt.legend(fontsize=\"x-small\")\n",
    "plt.xlim(0,32)\n",
    "plt.ylim(0,4)\n",
    "plt.grid()\n",
    "plt.savefig(\"images/GuardPFB.png\")\n",
    "plt.show()"
   ]
  },
  {
   "cell_type": "code",
   "execution_count": null,
   "metadata": {},
   "outputs": [],
   "source": [
    "plt.scatter(league_average_guard[\"Minutes\"],league_average_guard[\"Plus-Minus\"],color=\"r\",label=\"League Average\")\n",
    "plt.scatter(m_fultz[\"Minutes\"],m_fultz[\"Plus-Minus\"],color=\"blue\",label=\"Markelle Fultz\")\n",
    "plt.scatter(mc_will[\"Minutes\"],mc_will[\"Plus-Minus\"],color=\"g\",label=\"Michael Carter-Williams\")\n",
    "plt.scatter(j_sug[\"Minutes\"],j_sug[\"Plus-Minus\"],color=\"y\",label=\"Jalen Suggs\")\n",
    "plt.scatter(g_har[\"Minutes\"],g_har[\"Plus-Minus\"],color=\"orange\",label=\"Gary Harris\")\n",
    "plt.scatter(c_ant[\"Minutes\"],c_ant[\"Plus-Minus\"],color=\"black\",label=\"Cole Anthony\")\n",
    "plt.scatter(j_scrub[\"Minutes\"],j_scrub[\"Plus-Minus\"],color=\"brown\",label=\"Jay Scrubb\")\n",
    "plt.scatter(C_hou[\"Minutes\"],C_hou[\"Plus-Minus\"],color=\"purple\",label=\"Caleb Houstan\")\n",
    "plt.scatter(k_har[\"Minutes\"],k_har[\"Plus-Minus\"],color=\"pink\",label=\"Kevon Harris\")\n",
    "\n",
    "plt.title(\"2023 Guards Plus-Minus Average\")\n",
    "plt.xlabel(\"Minutes played\")\n",
    "plt.ylabel(\"Plus-Minus\")\n",
    "plt.legend(fontsize=\"x-small\")\n",
    "plt.xlim(0,50)\n",
    "plt.ylim(-9,2)\n",
    "plt.grid()\n",
    "plt.savefig(\"images/GuardPlusminB.png\")\n",
    "plt.show()"
   ]
  },
  {
   "cell_type": "markdown",
   "metadata": {},
   "source": [
    "# Forwards"
   ]
  },
  {
   "cell_type": "code",
   "execution_count": null,
   "metadata": {},
   "outputs": [],
   "source": [
    "plt.bar(league_average_forward[\"Games Played\"],league_average_forward[\"Minutes\"],color=\"r\",label=\"League Average\",width=2)\n",
    "plt.bar(p_banchero[\"Games Played\"],p_banchero[\"Minutes\"],color=\"blue\",label=\"Paolo Banchero\",width=2)\n",
    "plt.bar(fr_wag[\"Games Played\"],fr_wag[\"Minutes\"],color=\"g\",label=\"Franz Wagner\",width=2)\n",
    "plt.bar(jon_isa[\"Games Played\"],jon_isa[\"Minutes\"],color=\"y\",label=\"Jonathan Isaac\",width=2)\n",
    "plt.bar(ad_s[\"Games Played\"],ad_s[\"Minutes\"],color=\"orange\",label=\"Admiral Schofield\",width=2)\n",
    "plt.bar(c_oke[\"Games Played\"],c_oke[\"Minutes\"],color=\"black\",label=\"Chuma Okeke\",width=2)\n",
    "\n",
    "\n",
    "plt.title(\"2023 Season Forwards Availablity\")\n",
    "plt.xlabel(\"Games Played\")\n",
    "plt.ylabel(\"Minutes Played\")\n",
    "plt.legend()\n",
    "plt.xlim(0,82)\n",
    "plt.grid()\n",
    "plt.savefig(\"images/foward_games1.png\")\n",
    "plt.show()"
   ]
  },
  {
   "cell_type": "code",
   "execution_count": null,
   "metadata": {},
   "outputs": [],
   "source": [
    "plt.bar(league_average_forward[\"Games Played\"],league_average_forward[\"Points\"],color=\"r\",label=\"League Average\",width=2)\n",
    "plt.bar(p_banchero[\"Games Played\"],p_banchero[\"Points\"],color=\"blue\",label=\"Paolo Banchero\",width=2)\n",
    "plt.bar(fr_wag[\"Games Played\"],fr_wag[\"Points\"],color=\"g\",label=\"Franz Wagner\",width=2)\n",
    "plt.bar(jon_isa[\"Games Played\"],jon_isa[\"Points\"],color=\"y\",label=\"Jonathan Isaac\",width=2)\n",
    "plt.bar(ad_s[\"Games Played\"],ad_s[\"Points\"],color=\"orange\",label=\"Admiral Schofield\",width=2)\n",
    "plt.bar(c_oke[\"Games Played\"],c_oke[\"Points\"],color=\"black\",label=\"Chuma Okeke\",width=2)\n",
    "\n",
    "\n",
    "plt.title(\"2023 Season Forward Points Average\")\n",
    "plt.xlabel(\"Games Played\")\n",
    "plt.ylabel(\"Points Scored\")\n",
    "plt.legend()\n",
    "plt.xlim(0,82)\n",
    "plt.grid()\n",
    "plt.savefig(\"images/fowards_PpgG1.png\")\n",
    "plt.show()"
   ]
  },
  {
   "cell_type": "code",
   "execution_count": null,
   "metadata": {},
   "outputs": [],
   "source": [
    "plt.scatter(league_average_forward[\"Field Goals Attmepted\"],league_average_forward[\"Field Goal %\"],color=\"r\",label=\"League Average\")\n",
    "plt.scatter(p_banchero[\"Field Goals Attmepted \"],p_banchero[\"Field Goal %\"],color=\"blue\",label=\"Paolo Banchero\")\n",
    "plt.scatter(fr_wag[\"Field Goals Attmepted \"],fr_wag[\"Field Goal %\"],color=\"g\",label=\"Franz Wagner\")\n",
    "plt.scatter(jon_isa[\"Field Goals Attmepted \"],jon_isa[\"Field Goal %\"],color=\"y\",label=\"Jonathan Isaac\")\n",
    "plt.scatter(ad_s[\"Field Goals Attmepted \"],ad_s[\"Field Goal %\"],color=\"orange\",label=\"Admiral Schofield\")\n",
    "plt.scatter(c_oke[\"Field Goals Attmepted \"],c_oke[\"Field Goal %\"],color=\"black\",label=\"Chuma Okeke\")\n",
    "\n",
    "\n",
    "plt.title(\"2023 Forward Shooting Percentage Average Per Game\")\n",
    "plt.xlabel(\"Field Goals Attmepted\")\n",
    "plt.ylabel(\"Field Goals Percentage\")\n",
    "plt.legend(fontsize=\"x-small\",loc=\"best\")\n",
    "plt.xlim(0,20)\n",
    "plt.ylim(30,55)\n",
    "plt.grid()\n",
    "plt.savefig(\"images/foward_ShtG.png\")\n",
    "plt.show()"
   ]
  },
  {
   "cell_type": "code",
   "execution_count": null,
   "metadata": {},
   "outputs": [],
   "source": [
    "plt.scatter(league_average_forward[\"3 Points Attempted\"],league_average_forward[\"3 Point %\"],color=\"r\",label=\"League Average\")\n",
    "plt.scatter(p_banchero[\"3 Points Attempted\"],p_banchero[\"3 Point %\"],color=\"blue\",label=\"Paolo Banchero\")\n",
    "plt.scatter(fr_wag[\"3 Points Attempted\"],fr_wag[\"3 Point %\"],color=\"g\",label=\"Franz Wagner\")\n",
    "plt.scatter(jon_isa[\"3 Points Attempted\"],jon_isa[\"3 Point %\"],color=\"y\",label=\"Jonathan Isaac\")\n",
    "plt.scatter(ad_s[\"3 Points Attempted\"],ad_s[\"3 Point %\"],color=\"orange\",label=\"Admiral Schofield\")\n",
    "plt.scatter(c_oke[\"3 Points Attempted\"],c_oke[\"3 Point %\"],color=\"black\",label=\"Chuma Okeke\")\n",
    "\n",
    "\n",
    "plt.title(\"2023 Forward 3pt Shooting Percentage Average Per Game\")\n",
    "plt.xlabel(\"3pt Field Goals Attmepted\")\n",
    "plt.ylabel(\"3pt Field Goals Percentage\")\n",
    "plt.legend(fontsize=\"small\")\n",
    "plt.xlim(0,8)\n",
    "plt.ylim(25,50)\n",
    "plt.grid()\n",
    "plt.savefig(\"images/foward_3ptB.png\")\n",
    "plt.show()"
   ]
  },
  {
   "cell_type": "code",
   "execution_count": null,
   "metadata": {},
   "outputs": [],
   "source": [
    "plt.scatter(league_average_forward[\"Free throw Attempted\"],league_average_forward[\"Free Throw %\"],color=\"r\",label=\"League Average\")\n",
    "plt.scatter(p_banchero[\"Free throw Attempted\"],p_banchero[\"Free Throw %\"],color=\"blue\",label=\"Paolo Banchero\")\n",
    "plt.scatter(fr_wag[\"Free throw Attempted\"],fr_wag[\"Free Throw %\"],color=\"g\",label=\"Franz Wagner\")\n",
    "plt.scatter(jon_isa[\"Free throw Attempted\"],jon_isa[\"Free Throw %\"],color=\"y\",label=\"Jonathan Isaac\")\n",
    "plt.scatter(ad_s[\"Free throw Attempted\"],ad_s[\"Free Throw %\"],color=\"orange\",label=\"Admiral Schofield\")\n",
    "plt.scatter(c_oke[\"Free throw Attempted\"],c_oke[\"Free Throw %\"],color=\"black\",label=\"Chuma Okeke\")\n",
    "\n",
    "\n",
    "plt.title(\"2023 Forward Free Throw Shooting Percentage Average Per Game\")\n",
    "plt.xlabel(\"Free Throws Attmepted\")\n",
    "plt.ylabel(\"Free Throws Percentage\")\n",
    "plt.legend(fontsize=\"small\")\n",
    "plt.xlim(0,8)\n",
    "plt.ylim(40,100)\n",
    "plt.grid()\n",
    "plt.savefig(\"images/foward_FTG.png\")\n",
    "plt.show()"
   ]
  },
  {
   "cell_type": "code",
   "execution_count": null,
   "metadata": {},
   "outputs": [],
   "source": [
    "plt.bar(league_average_forward[\"Minutes\"],league_average_forward[\"Offensive Rebound\"],color=\"r\",label=\"League Average\")\n",
    "\n",
    "plt.bar(p_banchero[\"Minutes\"],p_banchero[\"Offensive Rebound\"],color=\"blue\",label=\"Paolo Banchero\")\n",
    "\n",
    "plt.bar(fr_wag[\"Minutes\"],fr_wag[\"Offensive Rebound\"],color=\"g\",label=\"Franz Wagner\")\n",
    "\n",
    "plt.bar(jon_isa[\"Minutes\"],jon_isa[\"Offensive Rebound\"],color=\"purple\",label=\"Jonathan Isaac\")\n",
    "\n",
    "plt.bar(ad_s[\"Minutes\"],ad_s[\"Offensive Rebound\"],color=\"orange\",label=\"Admiral Schofield\")\n",
    "\n",
    "plt.bar(c_oke[\"Minutes\"],c_oke[\"Offensive Rebound\"],color=\"black\",label=\"Chuma Okeke\")\n",
    "\n",
    "\n",
    "\n",
    "\n",
    "plt.title(\"2023 Forward Offensive Rebounds Average\")\n",
    "plt.xlabel(\"Minutes Played\")\n",
    "plt.ylabel(\"Offensive Rebounds\")\n",
    "plt.legend(fontsize=\"x-small\", loc=\"best\")\n",
    "plt.xlim(0,40)\n",
    "plt.grid()\n",
    "plt.show()"
   ]
  },
  {
   "cell_type": "code",
   "execution_count": null,
   "metadata": {},
   "outputs": [],
   "source": [
    "plt.bar(league_average_forward[\"Minutes\"],league_average_forward[\"Defensive Rebound\"],color=\"r\",label=\"League Average\")\n",
    "plt.bar(p_banchero[\"Minutes\"],p_banchero[\"Defensive Rebound\"],color=\"blue\",label=\"Paolo Banchero\")\n",
    "plt.bar(fr_wag[\"Minutes\"],fr_wag[\"Defensive Rebound\"],color=\"g\",label=\"Franz Wagner\")\n",
    "plt.bar(jon_isa[\"Minutes\"],jon_isa[\"Defensive Rebound\"],color=\"y\",label=\"Jonathan Isaac\")\n",
    "plt.bar(ad_s[\"Minutes\"],ad_s[\"Defensive Rebound\"],color=\"orange\",label=\"Admiral Schofield\")\n",
    "plt.bar(c_oke[\"Minutes\"],c_oke[\"Defensive Rebound\"],color=\"black\",label=\"Chuma Okeke\")\n",
    "\n",
    "\n",
    "plt.title(\"2023 Forward Defensive Rebounds Average\")\n",
    "plt.xlabel(\"Minutes Played\")\n",
    "plt.ylabel(\"Defensive Rebounds\")\n",
    "plt.legend(fontsize=\"small\")\n",
    "plt.xlim(0,40)\n",
    "plt.grid()\n",
    "plt.show()"
   ]
  },
  {
   "cell_type": "code",
   "execution_count": null,
   "metadata": {},
   "outputs": [],
   "source": [
    "plt.bar(league_average_forward[\"Minutes\"],league_average_forward[\"Assists\"],color=\"r\",label=\"League Average\")\n",
    "plt.bar(p_banchero[\"Minutes\"],p_banchero[\"Assists \"],color=\"blue\",label=\"Paolo Banchero\")\n",
    "plt.bar(fr_wag[\"Minutes\"],fr_wag[\"Assists \"],color=\"g\",label=\"Franz Wagner\")\n",
    "plt.bar(jon_isa[\"Minutes\"],jon_isa[\"Assists \"],color=\"y\",label=\"Jonathan Isaac\")\n",
    "plt.bar(ad_s[\"Minutes\"],ad_s[\"Assists \"],color=\"orange\",label=\"Admiral Schofield\")\n",
    "plt.bar(c_oke[\"Minutes\"],c_oke[\"Assists \"],color=\"black\",label=\"Chuma Okeke\")\n",
    "\n",
    "\n",
    "plt.title(\"2023 Forward Assists Average\")\n",
    "plt.xlabel(\"Minutes played\")\n",
    "plt.ylabel(\"Assists\")\n",
    "plt.legend(fontsize=\"x-small\")\n",
    "plt.xlim(0,40)\n",
    "plt.ylim(0,5)\n",
    "plt.grid()\n",
    "plt.savefig(\"images/foward_AstG.png\")\n",
    "plt.show()"
   ]
  },
  {
   "cell_type": "code",
   "execution_count": null,
   "metadata": {},
   "outputs": [],
   "source": [
    "plt.bar(league_average_forward[\"Minutes\"],league_average_forward[\"Turnover\"],color=\"r\",label=\"League Average\")\n",
    "plt.bar(p_banchero[\"Minutes\"],p_banchero[\"Turnover\"],color=\"blue\",label=\"Paolo Banchero\")\n",
    "plt.bar(fr_wag[\"Minutes\"],fr_wag[\"Turnover\"],color=\"g\",label=\"Franz Wagner\")\n",
    "plt.bar(jon_isa[\"Minutes\"],jon_isa[\"Turnover\"],color=\"y\",label=\"Jonathan Isaac\")\n",
    "plt.bar(ad_s[\"Minutes\"],ad_s[\"Turnover\"],color=\"orange\",label=\"Admiral Schofield\")\n",
    "plt.bar(c_oke[\"Minutes\"],c_oke[\"Turnover\"],color=\"black\",label=\"Chuma Okeke\")\n",
    "\n",
    "\n",
    "plt.title(\"2023 Forward Turnovers Average\")\n",
    "plt.xlabel(\"Minutes played\")\n",
    "plt.ylabel(\"Turnovers\")\n",
    "plt.legend(fontsize=\"x-small\")\n",
    "plt.xlim(0,40)\n",
    "plt.ylim(0,3)\n",
    "plt.grid()\n",
    "plt.savefig(\"images/foward_toB.png\")\n",
    "plt.show()"
   ]
  },
  {
   "cell_type": "code",
   "execution_count": null,
   "metadata": {},
   "outputs": [],
   "source": [
    "plt.bar(league_average_forward[\"Minutes\"],league_average_forward[\"Steals\"],color=\"r\",label=\"League Average\")\n",
    "plt.bar(p_banchero[\"Minutes\"],p_banchero[\"Steals\"],color=\"blue\",label=\"Paolo Banchero\")\n",
    "plt.bar(fr_wag[\"Minutes\"],fr_wag[\"Steals\"],color=\"g\",label=\"Franz Wagner\")\n",
    "plt.bar(jon_isa[\"Minutes\"],jon_isa[\"Steals\"],color=\"y\",label=\"Jonathan Isaac\")\n",
    "plt.bar(ad_s[\"Minutes\"],ad_s[\"Steals\"],color=\"orange\",label=\"Admiral Schofield\")\n",
    "plt.bar(c_oke[\"Minutes\"],c_oke[\"Steals\"],color=\"black\",label=\"Chuma Okeke\")\n",
    "\n",
    "\n",
    "plt.title(\"2023 Forward Steals Average\")\n",
    "plt.xlabel(\"Minutes played\")\n",
    "plt.ylabel(\"Steals\")\n",
    "plt.legend(fontsize=\"x-small\")\n",
    "plt.xlim(0,40)\n",
    "plt.ylim(0,1.5)\n",
    "plt.grid()\n",
    "plt.show()"
   ]
  },
  {
   "cell_type": "code",
   "execution_count": null,
   "metadata": {},
   "outputs": [],
   "source": [
    "plt.bar(league_average_forward[\"Minutes\"],league_average_forward[\"Blocks\"],color=\"r\",label=\"League Average\")\n",
    "plt.bar(p_banchero[\"Minutes\"],p_banchero[\"Blocks\"],color=\"blue\",label=\"Paolo Banchero\")\n",
    "plt.bar(fr_wag[\"Minutes\"],fr_wag[\"Blocks\"],color=\"g\",label=\"Franz Wagner\")\n",
    "plt.bar(jon_isa[\"Minutes\"],jon_isa[\"Blocks\"],color=\"y\",label=\"Jonathan Isaac\")\n",
    "plt.bar(ad_s[\"Minutes\"],ad_s[\"Blocks\"],color=\"orange\",label=\"Admiral Schofield\")\n",
    "plt.bar(c_oke[\"Minutes\"],c_oke[\"Blocks\"],color=\"black\",label=\"Chuma Okeke\")\n",
    "\n",
    "\n",
    "plt.title(\"2023 Forward Blocks Average\")\n",
    "plt.xlabel(\"Minutes played\")\n",
    "plt.ylabel(\"Blocks\")\n",
    "plt.legend(fontsize=\"x-small\")\n",
    "plt.xlim(0,40)\n",
    "plt.ylim(0,.8)\n",
    "plt.grid()\n",
    "plt.show()"
   ]
  },
  {
   "cell_type": "code",
   "execution_count": null,
   "metadata": {},
   "outputs": [],
   "source": [
    "plt.bar(league_average_forward[\"Minutes\"],league_average_forward[\"Personal Foul\"],color=\"r\",label=\"League Average\")\n",
    "plt.bar(p_banchero[\"Minutes\"],p_banchero[\"Personal Foul\"],color=\"blue\",label=\"Paolo Banchero\")\n",
    "plt.bar(fr_wag[\"Minutes\"],fr_wag[\"Personal Foul\"],color=\"g\",label=\"Franz Wagner\")\n",
    "plt.bar(jon_isa[\"Minutes\"],jon_isa[\"Personal Foul\"],color=\"y\",label=\"Jonathan Isaac\")\n",
    "plt.bar(ad_s[\"Minutes\"],ad_s[\"Personal Foul\"],color=\"black\",label=\"Admiral Schofield\")\n",
    "plt.bar(c_oke[\"Minutes\"],c_oke[\"Personal Foul\"],color=\"silver\",label=\"Chuma Okeke\")\n",
    "\n",
    "plt.title(\"2023 Forward Personal Fouls Average\")\n",
    "plt.xlabel(\"Minutes played\")\n",
    "plt.ylabel(\"Personal Fouls\")\n",
    "plt.legend(fontsize=\"x-small\")\n",
    "plt.xlim(0,40)\n",
    "plt.ylim(0,3)\n",
    "plt.grid()\n",
    "plt.savefig(\"images/foward_PFG.png\")\n",
    "plt.show()"
   ]
  },
  {
   "cell_type": "code",
   "execution_count": null,
   "metadata": {},
   "outputs": [],
   "source": [
    "plt.scatter(league_average_forward[\"Minutes\"],league_average_forward[\"Plus-Minus\"],color=\"r\",label=\"League Average\")\n",
    "plt.scatter(p_banchero[\"Minutes\"],p_banchero[\"Plus-Minus\"],color=\"blue\",label=\"Paolo Banchero\")\n",
    "plt.scatter(fr_wag[\"Minutes\"],fr_wag[\"Plus-Minus\"],color=\"g\",label=\"Franz Wagner\")\n",
    "plt.scatter(jon_isa[\"Minutes\"],jon_isa[\"Plus-Minus\"],color=\"y\",label=\"Jonathan Isaac\")\n",
    "plt.scatter(ad_s[\"Minutes\"],ad_s[\"Plus-Minus\"],color=\"orange\",label=\"Admiral Schofield\")\n",
    "plt.scatter(c_oke[\"Minutes\"],c_oke[\"Plus-Minus\"],color=\"black\",label=\"Chuma Okeke\")\n",
    "\n",
    "\n",
    "plt.title(\"2023 Forward Plus-Minus Average\")\n",
    "plt.xlabel(\"Minutes played\")\n",
    "plt.ylabel(\"Plus-Minus\")\n",
    "plt.legend(fontsize=\"x-small\")\n",
    "plt.xlim(0,50)\n",
    "plt.ylim(-5,1)\n",
    "plt.grid()\n",
    "plt.savefig(\"images/foward_plusminusG.png\")\n",
    "plt.show()"
   ]
  },
  {
   "cell_type": "markdown",
   "metadata": {},
   "source": [
    "# Center"
   ]
  },
  {
   "cell_type": "code",
   "execution_count": null,
   "metadata": {},
   "outputs": [],
   "source": [
    "plt.bar(league_average_center[\"Games Played\"],league_average_center[\"Minutes\"],color=\"r\",label=\"League Average\",width=2)\n",
    "plt.bar(bol[\"Games Played\"],bol[\"Minutes\"],color=\"blue\",label=\"Bol Bol\",width=2)\n",
    "plt.bar(wen_car[\"Games Played\"],wen_car[\"Minutes\"],color=\"g\",label=\"Wendell Carter Jr.\",width=2)\n",
    "plt.bar(mo_wag[\"Games Played\"],mo_wag[\"Minutes\"],color=\"y\",label=\"Moritz Wagner\",width=2)\n",
    "plt.bar(go_bit[\"Games Played\"],go_bit[\"Minutes\"],color=\"orange\",label=\"Goga Bitadze\",width=2)\n",
    "\n",
    "\n",
    "plt.title(\"2023 Season Center Availablity\")\n",
    "plt.xlabel(\"Games Played\")\n",
    "plt.ylabel(\"Minutes Played\")\n",
    "plt.legend()\n",
    "plt.xlim(0,82)\n",
    "plt.grid()\n",
    "plt.savefig(\"images/center_games.png\")\n",
    "plt.show()"
   ]
  },
  {
   "cell_type": "code",
   "execution_count": null,
   "metadata": {},
   "outputs": [],
   "source": [
    "plt.bar(league_average_center[\"Games Played\"],league_average_center[\"Points\"],color=\"r\",label=\"League Average\",width=2)\n",
    "plt.bar(bol[\"Games Played\"],bol[\"Points\"],color=\"blue\",label=\"Bol Bol\",width=2)\n",
    "plt.bar(wen_car[\"Games Played\"],wen_car[\"Points\"],color=\"g\",label=\"Wendell Carter Jr.\",width=2)\n",
    "plt.bar(mo_wag[\"Games Played\"],mo_wag[\"Points\"],color=\"y\",label=\"Moritz Wagner\",width=2)\n",
    "plt.bar(go_bit[\"Games Played\"],go_bit[\"Points\"],color=\"orange\",label=\"Goga Bitadze\",width=2)\n",
    "\n",
    "\n",
    "\n",
    "plt.title(\"2023 Season Center Points Average\")\n",
    "plt.xlabel(\"Games Played\")\n",
    "plt.ylabel(\"Points Scored\")\n",
    "plt.legend()\n",
    "plt.xlim(0,82)\n",
    "plt.grid()\n",
    "plt.savefig(\"images/center_points.png\")\n",
    "plt.show()"
   ]
  },
  {
   "cell_type": "code",
   "execution_count": null,
   "metadata": {},
   "outputs": [],
   "source": [
    "plt.scatter(league_average_center[\"Field Goals Attmepted\"],league_average_center[\"Field Goal %\"],color=\"r\",label=\"League Average\")\n",
    "plt.scatter(bol[\"Field Goals Attmepted \"],bol[\"Field Goal %\"],color=\"blue\",label=\"Bol Bol\")\n",
    "plt.scatter(wen_car[\"Field Goals Attmepted \"],wen_car[\"Field Goal %\"],color=\"g\",label=\"Wendell Carter Jr.\")\n",
    "plt.scatter(mo_wag[\"Field Goals Attmepted \"],mo_wag[\"Field Goal %\"],color=\"y\",label=\"Moritz Wagner\")\n",
    "plt.scatter(go_bit[\"Field Goals Attmepted \"],go_bit[\"Field Goal %\"],color=\"orange\",label=\"Goga Bitadze\")\n",
    "\n",
    "\n",
    "\n",
    "plt.title(\"2023 Center Shooting Percentage Average Per Game\")\n",
    "plt.xlabel(\"Field Goals Attmepted\")\n",
    "plt.ylabel(\"Field Goals Percentage\")\n",
    "plt.legend(fontsize=\"xx-small\",loc=\"upper right\")\n",
    "plt.xlim(0,20)\n",
    "plt.ylim(40,60)\n",
    "plt.grid()\n",
    "plt.savefig(\"images/center_shooting.png\")\n",
    "plt.show()"
   ]
  },
  {
   "cell_type": "code",
   "execution_count": null,
   "metadata": {},
   "outputs": [],
   "source": [
    "plt.scatter(league_average_center[\"3 Points Attempted\"],league_average_center[\"3 Point %\"],color=\"r\",label=\"League Average\")\n",
    "plt.scatter(bol[\"3 Points Attempted\"],bol[\"3 Point %\"],color=\"blue\",label=\"Bol Bol\")\n",
    "plt.scatter(wen_car[\"3 Points Attempted\"],wen_car[\"3 Point %\"],color=\"g\",label=\"Wendell Carter Jr.\")\n",
    "plt.scatter(mo_wag[\"3 Points Attempted\"],mo_wag[\"3 Point %\"],color=\"y\",label=\"Moritz Wagner\")\n",
    "plt.scatter(go_bit[\"3 Points Attempted\"],go_bit[\"3 Point %\"],color=\"orange\",label=\"Goga Bitadze\")\n",
    "\n",
    "\n",
    "plt.title(\"2023 Center 3pt Shooting Percentage Average Per Game\")\n",
    "plt.xlabel(\"3pt Field Goals Attmepted\")\n",
    "plt.ylabel(\"3pt Field Goals Percentage\")\n",
    "plt.legend(fontsize=\"small\")\n",
    "plt.xlim(0,8)\n",
    "plt.ylim(15,45)\n",
    "plt.grid()\n",
    "plt.savefig(\"images/center_3pt.png\")\n",
    "plt.show()"
   ]
  },
  {
   "cell_type": "code",
   "execution_count": null,
   "metadata": {},
   "outputs": [],
   "source": [
    "plt.scatter(league_average_center[\"Free throw Attempted\"],league_average_center[\"Free Throw %\"],color=\"r\",label=\"League Average\")\n",
    "plt.scatter(bol[\"Free throw Attempted\"],bol[\"Free Throw %\"],color=\"blue\",label=\"Bol Bol\")\n",
    "plt.scatter(wen_car[\"Free throw Attempted\"],wen_car[\"Free Throw %\"],color=\"g\",label=\"Wendell Carter Jr.\")\n",
    "plt.scatter(mo_wag[\"Free throw Attempted\"],mo_wag[\"Free Throw %\"],color=\"y\",label=\"Moritz Wagner\")\n",
    "plt.scatter(go_bit[\"Free throw Attempted\"],go_bit[\"Free Throw %\"],color=\"orange\",label=\"Goga Bitadze\")\n",
    "\n",
    "\n",
    "plt.title(\"2023 Center Free Throw Shooting Percentage Average Per Game\")\n",
    "plt.xlabel(\"Free Throws Attmepted\")\n",
    "plt.ylabel(\"Free Throws Percentage\")\n",
    "plt.legend(fontsize=\"small\")\n",
    "plt.xlim(0,8)\n",
    "plt.ylim(50,90)\n",
    "plt.grid()\n",
    "plt.show()"
   ]
  },
  {
   "cell_type": "code",
   "execution_count": null,
   "metadata": {},
   "outputs": [],
   "source": [
    "plt.bar(league_average_center[\"Minutes\"],league_average_center[\"Offensive Rebound\"],color=\"r\",label=\"League Average\")\n",
    "\n",
    "plt.bar(bol[\"Minutes\"],bol[\"Offensive Rebound\"],color=\"blue\",label=\"Bol Bol\", width=.75)\n",
    "\n",
    "plt.bar(wen_car[\"Minutes\"],wen_car[\"Offensive Rebound\"],color=\"g\",label=\"Wendell Carter Jr.\")\n",
    "\n",
    "plt.bar(mo_wag[\"Minutes\"],mo_wag[\"Offensive Rebound\"],color=\"purple\",label=\"Moritz Wagner\")\n",
    "\n",
    "plt.bar(go_bit[\"Minutes\"],go_bit[\"Offensive Rebound\"],color=\"orange\",label=\"Goga Bitadze\")\n",
    "\n",
    "\n",
    "\n",
    "\n",
    "\n",
    "plt.title(\"2023 Center Offensive Rebounds Average\")\n",
    "plt.xlabel(\"Minutes Played\")\n",
    "plt.ylabel(\"Offensive Rebounds\")\n",
    "plt.legend(fontsize=\"x-small\", loc=\"best\")\n",
    "plt.xlim(0,40)\n",
    "plt.grid()\n",
    "plt.savefig(\"images/center_orebs.png\")\n",
    "plt.show()"
   ]
  },
  {
   "cell_type": "code",
   "execution_count": null,
   "metadata": {},
   "outputs": [],
   "source": [
    "plt.bar(league_average_center[\"Minutes\"],league_average_center[\"Defensive Rebound\"],color=\"r\",label=\"League Average\")\n",
    "plt.bar(bol[\"Minutes\"],bol[\"Defensive Rebound\"],color=\"blue\",label=\"Bol Bol\")\n",
    "plt.bar(wen_car[\"Minutes\"],wen_car[\"Defensive Rebound\"],color=\"g\",label=\"Wendell Carter Jr.\")\n",
    "plt.bar(mo_wag[\"Minutes\"],mo_wag[\"Defensive Rebound\"],color=\"y\",label=\"Moritz Wagner\")\n",
    "plt.bar(go_bit[\"Minutes\"],go_bit[\"Defensive Rebound\"],color=\"orange\",label=\"Goga Bitadze\")\n",
    "\n",
    "\n",
    "\n",
    "plt.title(\"2023 Center Defensive Rebounds Average\")\n",
    "plt.xlabel(\"Minutes Played\")\n",
    "plt.ylabel(\"Defensive Rebounds\")\n",
    "plt.legend(fontsize=\"small\")\n",
    "plt.xlim(0,40)\n",
    "plt.grid()\n",
    "plt.savefig(\"images/center_dreb.png\")\n",
    "plt.show()"
   ]
  },
  {
   "cell_type": "code",
   "execution_count": null,
   "metadata": {},
   "outputs": [],
   "source": [
    "plt.bar(league_average_center[\"Minutes\"],league_average_center[\"Assists\"],color=\"r\",label=\"League Average\")\n",
    "plt.bar(bol[\"Minutes\"],bol[\"Assists \"],color=\"blue\",label=\"Bol Bol\", width=.75)\n",
    "plt.bar(wen_car[\"Minutes\"],wen_car[\"Assists \"],color=\"g\",label=\"Wendell Carter Jr.\")\n",
    "plt.bar(mo_wag[\"Minutes\"],mo_wag[\"Assists \"],color=\"y\",label=\"Moritz Wagner\")\n",
    "plt.bar(go_bit[\"Minutes\"],go_bit[\"Assists \"],color=\"orange\",label=\"Goga Bitadze\")\n",
    "\n",
    "\n",
    "plt.title(\"2023 Center Assists Average\")\n",
    "plt.xlabel(\"Minutes played\")\n",
    "plt.ylabel(\"Assists\")\n",
    "plt.legend(fontsize=\"x-small\")\n",
    "plt.xlim(0,40)\n",
    "plt.ylim(0,5)\n",
    "\n",
    "plt.grid()\n",
    "plt.savefig(\"images/center_assists.png\")\n",
    "plt.show()"
   ]
  },
  {
   "cell_type": "code",
   "execution_count": null,
   "metadata": {},
   "outputs": [],
   "source": [
    "plt.bar(league_average_center[\"Minutes\"],league_average_center[\"Turnover\"],color=\"r\",label=\"League Average\")\n",
    "plt.bar(bol[\"Minutes\"],bol[\"Turnover\"],color=\"blue\",label=\"Bol Bol\")\n",
    "plt.bar(wen_car[\"Minutes\"],wen_car[\"Turnover\"],color=\"g\",label=\"Wendell Carter Jr.\")\n",
    "plt.bar(mo_wag[\"Minutes\"],mo_wag[\"Turnover\"],color=\"y\",label=\"Moritz Wagner\")\n",
    "plt.bar(go_bit[\"Minutes\"],go_bit[\"Turnover\"],color=\"black\",label=\"Goga Bitadze\")\n",
    "\n",
    "\n",
    "plt.title(\"2023 Center Turnovers Average\")\n",
    "plt.xlabel(\"Minutes played\")\n",
    "plt.ylabel(\"Turnovers\")\n",
    "plt.legend(fontsize=\"x-small\")\n",
    "plt.xlim(0,40)\n",
    "plt.ylim(0,3)\n",
    "plt.grid()\n",
    "plt.show()"
   ]
  },
  {
   "cell_type": "code",
   "execution_count": null,
   "metadata": {},
   "outputs": [],
   "source": [
    "plt.bar(league_average_center[\"Minutes\"],league_average_center[\"Steals\"],color=\"r\",label=\"League Average\")\n",
    "plt.bar(bol[\"Minutes\"],bol[\"Steals\"],color=\"blue\",label=\"Bol Bol\")\n",
    "plt.bar(wen_car[\"Minutes\"],wen_car[\"Steals\"],color=\"g\",label=\"Wendell Carter Jr.\")\n",
    "plt.bar(mo_wag[\"Minutes\"],mo_wag[\"Steals\"],color=\"y\",label=\"Moritz Wagner\")\n",
    "plt.bar(go_bit[\"Minutes\"],go_bit[\"Steals\"],color=\"orange\",label=\"Goga Bitadze\")\n",
    "\n",
    "\n",
    "\n",
    "plt.title(\"2023 Center Steals Average\")\n",
    "plt.xlabel(\"Minutes played\")\n",
    "plt.ylabel(\"Steals\")\n",
    "plt.legend(fontsize=\"x-small\")\n",
    "plt.xlim(0,40)\n",
    "plt.ylim(0,1.5)\n",
    "plt.grid()\n",
    "plt.show()"
   ]
  },
  {
   "cell_type": "code",
   "execution_count": null,
   "metadata": {},
   "outputs": [],
   "source": [
    "plt.bar(league_average_center[\"Minutes\"],league_average_center[\"Blocks\"],color=\"r\",label=\"League Average\")\n",
    "plt.bar(bol[\"Minutes\"],bol[\"Blocks\"],color=\"blue\",label=\"Bol Bol\")\n",
    "plt.bar(wen_car[\"Minutes\"],wen_car[\"Blocks\"],color=\"g\",label=\"Wendell Carter Jr.\", width=.75)\n",
    "plt.bar(mo_wag[\"Minutes\"],mo_wag[\"Blocks\"],color=\"y\",label=\"Moritz Wagner\")\n",
    "plt.bar(go_bit[\"Minutes\"],go_bit[\"Blocks\"],color=\"orange\",label=\"Goga Bitadze\")\n",
    "\n",
    "\n",
    "\n",
    "plt.title(\"2023 Center Blocks Average\")\n",
    "plt.xlabel(\"Minutes played\")\n",
    "plt.ylabel(\"Blocks\")\n",
    "plt.legend(fontsize=\"x-small\")\n",
    "plt.xlim(0,35)\n",
    "plt.ylim(0, 1.5)\n",
    "plt.grid()\n",
    "plt.savefig(\"images/center_blocks.png\")\n",
    "plt.show()"
   ]
  },
  {
   "cell_type": "code",
   "execution_count": null,
   "metadata": {},
   "outputs": [],
   "source": [
    "plt.bar(league_average_center[\"Minutes\"],league_average_center[\"Personal Foul\"],color=\"r\",label=\"League Average\")\n",
    "plt.bar(bol[\"Minutes\"],bol[\"Personal Foul\"],color=\"blue\",label=\"Bol Bol\")\n",
    "plt.bar(wen_car[\"Minutes\"],wen_car[\"Personal Foul\"],color=\"g\",label=\"Wendell Carter Jr.\", width=.75)\n",
    "plt.bar(mo_wag[\"Minutes\"],mo_wag[\"Personal Foul\"],color=\"y\",label=\"Moritz Wagner\")\n",
    "plt.bar(go_bit[\"Minutes\"],go_bit[\"Personal Foul\"],color=\"orange\",label=\"Goga Bitadze\")\n",
    "\n",
    "plt.title(\"2023 Center Personal Fouls Average\")\n",
    "plt.xlabel(\"Minutes played\")\n",
    "plt.ylabel(\"Personal Fouls\")\n",
    "plt.legend(fontsize=\"x-small\")\n",
    "plt.xlim(0,35)\n",
    "plt.ylim(0,4)\n",
    "plt.grid()\n",
    "plt.savefig(\"images/center_PF.png\")\n",
    "plt.show()"
   ]
  },
  {
   "cell_type": "code",
   "execution_count": null,
   "metadata": {},
   "outputs": [],
   "source": [
    "plt.scatter(league_average_center[\"Minutes\"],league_average_center[\"Plus-Minus\"],color=\"r\",label=\"League Average\")\n",
    "plt.scatter(bol[\"Minutes\"],bol[\"Plus-Minus\"],color=\"blue\",label=\"Bol Bol\")\n",
    "plt.scatter(wen_car[\"Minutes\"],wen_car[\"Plus-Minus\"],color=\"g\",label=\"Wendell Carter Jr.\")\n",
    "plt.scatter(mo_wag[\"Minutes\"],mo_wag[\"Plus-Minus\"],color=\"y\",label=\"Moritz Wagner\")\n",
    "plt.scatter(go_bit[\"Minutes\"],go_bit[\"Plus-Minus\"],color=\"orange\",label=\"Goga Bitadze\")\n",
    "\n",
    "\n",
    "\n",
    "plt.title(\"2023 Center Plus-Minus Average\")\n",
    "plt.xlabel(\"Minutes played\")\n",
    "plt.ylabel(\"Plus-Minus\")\n",
    "plt.legend(fontsize=\"x-small\")\n",
    "plt.xlim(0,35)\n",
    "plt.ylim(-2.5,1)\n",
    "plt.grid()\n",
    "plt.savefig(\"images/center_plusmins.png\")\n",
    "plt.show()\n"
   ]
  },
  {
   "cell_type": "code",
   "execution_count": null,
   "metadata": {},
   "outputs": [],
   "source": []
  }
 ],
 "metadata": {
  "kernelspec": {
   "display_name": "Python 3 (ipykernel)",
   "language": "python",
   "name": "python3"
  },
  "language_info": {
   "codemirror_mode": {
    "name": "ipython",
    "version": 3
   },
   "file_extension": ".py",
   "mimetype": "text/x-python",
   "name": "python",
   "nbconvert_exporter": "python",
   "pygments_lexer": "ipython3",
   "version": "3.10.9"
  },
  "vscode": {
   "interpreter": {
    "hash": "eb882ed8c848f19c90fcc85379b3fbc89a66895657e7761325dfc0ccc5dd370c"
   }
  }
 },
 "nbformat": 4,
 "nbformat_minor": 2
}
