{
 "cells": [
  {
   "cell_type": "markdown",
   "metadata": {},
   "source": [
    "## Rangel Condor Dario"
   ]
  },
  {
   "cell_type": "markdown",
   "metadata": {},
   "source": [
    "### Question 5 : How do the players compare by position?"
   ]
  },
  {
   "cell_type": "code",
   "execution_count": null,
   "metadata": {},
   "outputs": [],
   "source": [
    "# Dependencies and Setup\n",
    "import matplotlib.pyplot as plt\n",
    "import matplotlib.image as mpimg\n",
    "import matplotlib.offsetbox as offsetbox\n",
    "import pandas as pd\n",
    "import scipy.stats as st\n",
    "import numpy as np\n",
    "import seaborn as sns\n",
    "from scipy.stats import linregress\n",
    "import csv\n",
    "from pathlib import Path"
   ]
  },
  {
   "cell_type": "code",
   "execution_count": null,
   "metadata": {},
   "outputs": [],
   "source": [
    "# Set path for to locate dataset\n",
    "nba1 = \"../league_data/general_1-50.csv\"\n",
    "nba2 = \"../league_data/general_51-100.csv\" \n",
    "nba3 = \"../league_data/general_101-150.csv\"\n",
    "nba4 = \"../league_data/general_151-200.csv\"\n"
   ]
  },
  {
   "cell_type": "code",
   "execution_count": null,
   "metadata": {},
   "outputs": [],
   "source": [
    "#\n",
    "nba01 = pd.read_csv(nba1)\n",
    "nba02 = pd.read_csv(nba2)\n",
    "nba03 = pd.read_csv(nba3)\n",
    "nba04 = pd.read_csv(nba4)\n",
    "magic23 = pd.read_csv(\"../orlando_data/magic_22_23.csv\")\n",
    "magic22_23_df = magic23"
   ]
  },
  {
   "cell_type": "code",
   "execution_count": null,
   "metadata": {},
   "outputs": [],
   "source": [
    "# Combine the data into a single dataset\n",
    "frames = [nba01,nba02,nba03,nba04]\n",
    "league_df = pd.concat(frames)"
   ]
  },
  {
   "cell_type": "code",
   "execution_count": null,
   "metadata": {},
   "outputs": [],
   "source": [
    "# Dataframe of the best 200 players in the NBA stat averages per game of the 2023 season\n",
    "league_df.head(75)"
   ]
  },
  {
   "cell_type": "code",
   "execution_count": null,
   "metadata": {},
   "outputs": [],
   "source": [
    "#Name of the columns\n",
    "league_df.columns"
   ]
  },
  {
   "cell_type": "code",
   "execution_count": null,
   "metadata": {},
   "outputs": [],
   "source": [
    "#DataFrame of the Orlando Magic Team of 2023\n",
    "magic23.head(5)"
   ]
  },
  {
   "cell_type": "code",
   "execution_count": null,
   "metadata": {},
   "outputs": [],
   "source": [
    "#Replaced a string inside the column of the magic file to match the other dataset\n",
    "magic23[\"Position\"] = magic23[\"Position\"].str.replace(\"Forwards\",\"Forward\", regex=False)\n",
    "\n",
    "magic23.head(14)\n",
    "\n",
    "#League average of players by position\n",
    "league_positions_age = league_df.groupby(['Position'])[\"AGE\"].mean()\n",
    "\n",
    "#League average games played by position\n",
    "league_positions_gp = league_df.groupby(['Position'])[\"Games Played\"].mean()\n",
    "\n",
    "#League average minutes played by position\n",
    "league_positions_mins = league_df.groupby(['Position'])[\"Minutes\"].mean()\n",
    "\n",
    "#League average points per game by position\n",
    "league_positions_ppg = league_df.groupby(['Position'])[\"Points\"].mean()\n",
    "league_positions_ppg\n",
    "\n",
    "#League average field goals attmepted per game by position\n",
    "league_positions_fga = league_df.groupby(['Position'])[\"Field Goals Attmepted \"].mean()\n",
    "\n",
    "#League average field goals percentage per game by position\n",
    "league_positions_fgp = league_df.groupby(['Position'])[\"Field Goal %\"].mean()"
   ]
  },
  {
   "cell_type": "code",
   "execution_count": null,
   "metadata": {},
   "outputs": [],
   "source": [
    "#League average 3 points attmepted per game by position\n",
    "league_positions_3pa = league_df.groupby(['Position'])[\"3 Points Attempted\"].mean()"
   ]
  },
  {
   "cell_type": "code",
   "execution_count": null,
   "metadata": {},
   "outputs": [],
   "source": [
    "#League average 3 points percentage per game by position\n",
    "league_positions_3pp = league_df.groupby(['Position'])[\"3 Point %\"].mean()"
   ]
  },
  {
   "cell_type": "code",
   "execution_count": null,
   "metadata": {},
   "outputs": [],
   "source": [
    "#League average free throws attmepted per game by position\n",
    "league_positions_fta = league_df.groupby(['Position'])[\"Free throw Attempted\"].mean()"
   ]
  },
  {
   "cell_type": "code",
   "execution_count": null,
   "metadata": {},
   "outputs": [],
   "source": [
    "#League average free throws percentage per game by position\n",
    "league_positions_ftp = league_df.groupby(['Position'])[\"Free Throw %\"].mean()"
   ]
  },
  {
   "cell_type": "code",
   "execution_count": null,
   "metadata": {},
   "outputs": [],
   "source": [
    "#League average offensive rebounds per game by position\n",
    "league_positions_orb = league_df.groupby(['Position'])[\"Offensive Rebound\"].mean()"
   ]
  },
  {
   "cell_type": "code",
   "execution_count": null,
   "metadata": {},
   "outputs": [],
   "source": [
    "#League average defensive rebounds per game by position\n",
    "league_positions_drb = league_df.groupby(['Position'])[\"Defensive Rebound\"].mean()"
   ]
  },
  {
   "cell_type": "code",
   "execution_count": null,
   "metadata": {},
   "outputs": [],
   "source": [
    "#League average assists per game by position\n",
    "league_positions_ast = league_df.groupby(['Position'])[\"Assists \"].mean()"
   ]
  },
  {
   "cell_type": "code",
   "execution_count": null,
   "metadata": {},
   "outputs": [],
   "source": [
    "#League average steals per game by position\n",
    "league_positions_to = league_df.groupby(['Position'])[\"Turnover\"].mean()"
   ]
  },
  {
   "cell_type": "code",
   "execution_count": null,
   "metadata": {},
   "outputs": [],
   "source": [
    "#League average turnovers per game by position\n",
    "league_positions_stl = league_df.groupby(['Position'])[\"Steals\"].mean()"
   ]
  },
  {
   "cell_type": "code",
   "execution_count": null,
   "metadata": {},
   "outputs": [],
   "source": [
    "#League average blocks per game by position\n",
    "league_positions_blk = league_df.groupby(['Position'])[\"Blocks\"].mean()"
   ]
  },
  {
   "cell_type": "code",
   "execution_count": null,
   "metadata": {},
   "outputs": [],
   "source": [
    "#League average personal foul per game by position\n",
    "league_positions_pf = league_df.groupby(['Position'])[\"Personal Foul\"].mean()"
   ]
  },
  {
   "cell_type": "code",
   "execution_count": null,
   "metadata": {},
   "outputs": [],
   "source": [
    "#League average plus-minus per game by position\n",
    "league_positions_eff = league_df.groupby(['Position'])[\"Plus-Minus\"].mean()"
   ]
  },
  {
   "cell_type": "code",
   "execution_count": null,
   "metadata": {},
   "outputs": [],
   "source": [
    "#Made New DF with the average of each player but organized by position\n",
    "league_average_position = pd.DataFrame({\"Age\":league_positions_age,\"Games Played\":league_positions_gp,\n",
    "                                        \"Minutes\":league_positions_mins,\"Points\":league_positions_ppg,\n",
    "                                        \"Field Goals Attmepted\":league_positions_fga,\"Field Goal %\":league_positions_fgp,\n",
    "                                       \"3 Points Attempted\":league_positions_3pa,\"3 Point %\":league_positions_3pp,\n",
    "                                       \"Free throw Attempted\":league_positions_fta,\"Free Throw %\":league_positions_ftp,\n",
    "                                       \"Offensive Rebound\":league_positions_orb,\"Defensive Rebound\":league_positions_drb,\n",
    "                                        \"Rebounds\":league_positions_drb,\n",
    "                                      \"Assists\":league_positions_ast,\"Steals\":league_positions_stl,\"Turnover\":league_positions_to,\n",
    "                                        \"Blocks\":league_positions_blk,\"Personal Foul\":league_positions_pf,\n",
    "                                        \"Plus-Minus\":league_positions_eff})\n",
    "#Formated DF\n",
    "league_average_position[\"Age\"]=league_average_position[\"Age\"].map(\"{:,.1f}\".format)\n",
    "league_average_position[\"Games Played\"]=league_average_position[\"Games Played\"].map(\"{:,.1f}\".format)\n",
    "league_average_position[\"Minutes\"]=league_average_position[\"Minutes\"].map(\"{:,.2f}\".format)\n",
    "league_average_position[\"Points\"]=league_average_position[\"Points\"].map(\"{:,.2f}\".format)\n",
    "league_average_position[\"Field Goals Attmepted\"]=league_average_position[\"Field Goals Attmepted\"].map(\"{:,.2f}\".format)\n",
    "league_average_position[\"Field Goal %\"]=league_average_position[\"Field Goal %\"].map(\"{:,.2f}\".format)\n",
    "league_average_position[\"3 Points Attempted\"]=league_average_position[\"3 Points Attempted\"].map(\"{:,.2f}\".format)\n",
    "league_average_position[\"3 Point %\"]=league_average_position[\"3 Point %\"].map(\"{:,.2f}\".format)\n",
    "league_average_position[\"Free throw Attempted\"]=league_average_position[\"Free throw Attempted\"].map(\"{:,.2f}\".format)\n",
    "league_average_position[\"Free Throw %\"]=league_average_position[\"Free Throw %\"].map(\"{:,.2f}\".format)\n",
    "league_average_position[\"Offensive Rebound\"]=league_average_position[\"Offensive Rebound\"].map(\"{:,.2f}\".format)\n",
    "league_average_position[\"Defensive Rebound\"]=league_average_position[\"Defensive Rebound\"].map(\"{:,.2f}\".format)\n",
    "league_average_position[\"Rebounds\"]=league_average_position[\"Rebounds\"].map(\"{:,.2f}\".format)\n",
    "league_average_position[\"Assists\"]=league_average_position[\"Assists\"].map(\"{:,.2f}\".format)\n",
    "league_average_position[\"Steals\"]=league_average_position[\"Steals\"].map(\"{:,.2f}\".format)\n",
    "league_average_position[\"Turnover\"]=league_average_position[\"Turnover\"].map(\"{:,.2f}\".format)\n",
    "league_average_position[\"Blocks\"]=league_average_position[\"Blocks\"].map(\"{:,.2f}\".format)\n",
    "league_average_position[\"Personal Foul\"]=league_average_position[\"Personal Foul\"].map(\"{:,.2f}\".format)\n",
    "league_average_position[\"Plus-Minus\"]=league_average_position[\"Plus-Minus\"].map(\"{:,.2f}\".format)\n",
    "\n",
    "\n",
    "league_average_position.head(5)"
   ]
  },
  {
   "cell_type": "code",
   "execution_count": null,
   "metadata": {},
   "outputs": [],
   "source": [
    "#Used Loc to have the ability to call items by position from average by posistion DF(The df above)\n",
    "league_average_forward = league_average_position.loc[\"Forward\"].astype(float)"
   ]
  },
  {
   "cell_type": "code",
   "execution_count": null,
   "metadata": {},
   "outputs": [],
   "source": [
    "#Used Loc to have the ability to call items by position from average by posistion DF(The df above)\n",
    "league_average_center = league_average_position.loc[\"Center\"].astype(float)"
   ]
  },
  {
   "cell_type": "code",
   "execution_count": null,
   "metadata": {},
   "outputs": [],
   "source": [
    "#Used Loc to have the ability to call items by position from average by posistion DF(The df above)\n",
    "league_average_guard = league_average_position.loc[\"Guard\"].astype(float)"
   ]
  },
  {
   "cell_type": "code",
   "execution_count": null,
   "metadata": {},
   "outputs": [],
   "source": [
    "#Made DF from the Magic23 DF and grouped it by player\n",
    "orl_players23 = magic23.groupby([\"PLAYER\"]).mean(numeric_only=True)\n",
    "orl_players23"
   ]
  },
  {
   "cell_type": "code",
   "execution_count": null,
   "metadata": {},
   "outputs": [],
   "source": [
    "#Used Loc to get each of the Gaurds in the DF above so I can access each row\n",
    "m_fultz = orl_players23.loc[\"Markelle Fultz\"].astype(float)\n",
    "mc_will=orl_players23.loc[\"Michael Carter-Williams\"].astype(float)\n",
    "j_sug=orl_players23.loc[\"Jalen Suggs\"].astype(float)\n",
    "g_har=orl_players23.loc[\"Gary Harris\"].astype(float)\n",
    "c_ant=orl_players23.loc[\"Cole Anthony\"].astype(float)\n",
    "j_scrub=orl_players23.loc[\"Jay Scrubb\"].astype(float)\n",
    "C_hou=orl_players23.loc[\"Caleb Houstan\"].astype(float)\n",
    "k_har=orl_players23.loc[\"Kevon Harris\"].astype(float)"
   ]
  },
  {
   "cell_type": "code",
   "execution_count": null,
   "metadata": {},
   "outputs": [],
   "source": [
    "#Used Loc to get each of the Forwards in the DF above so I can access each row\n",
    "p_banchero = orl_players23.loc[\"Paolo Banchero\"].astype(float)\n",
    "fr_wag = orl_players23.loc[\"Franz Wagner\"].astype(float)\n",
    "jon_isa = orl_players23.loc[\"Jonathan Isaac\"].astype(float)\n",
    "ad_s = orl_players23.loc[\"Admiral Schofield\"].astype(float)\n",
    "c_oke = orl_players23.loc[\"Chuma Okeke\"].astype(float)"
   ]
  },
  {
   "cell_type": "code",
   "execution_count": null,
   "metadata": {},
   "outputs": [],
   "source": [
    "bol = orl_players23.loc[\"Bol Bol\"].astype(float)\n",
    "wen_car = orl_players23.loc[\"Wendell Carter Jr.\"].astype(float)\n",
    "mo_wag = orl_players23.loc[\"Moritz Wagner\"].astype(float)\n",
    "go_bit = orl_players23.loc[\"Goga Bitadze\"].astype(float)"
   ]
  },
  {
   "cell_type": "code",
   "execution_count": null,
   "metadata": {},
   "outputs": [],
   "source": [
    "#\n",
    "plt.bar(league_average_guard[\"Games Played\"],league_average_guard[\"Minutes\"],color=\"r\",label=\"League Average\", width=1.5)\n",
    "plt.bar(m_fultz[\"Games Played\"],m_fultz[\"Minutes\"],color=\"blue\",label=\"Markelle Fultz\", width=1.5)\n",
    "plt.bar(mc_will[\"Games Played\"],mc_will[\"Minutes\"],color=\"g\",label=\"Michael Carter-Williams\", width=1.5)\n",
    "plt.bar(j_sug[\"Games Played\"],j_sug[\"Minutes\"],color=\"y\",label=\"Jalen Suggs\", width=1.5)\n",
    "plt.bar(g_har[\"Games Played\"],g_har[\"Minutes\"],color=\"orange\",label=\"Gary Harris\", width=1.5)\n",
    "plt.bar(c_ant[\"Games Played\"],c_ant[\"Minutes\"],color=\"black\",label=\"Cole Anthony\", width=1.5)\n",
    "plt.bar(j_scrub[\"Games Played\"],j_scrub[\"Minutes\"],color=\"silver\",label=\"Jay Scrubb\", width=1.5)\n",
    "plt.bar(C_hou[\"Games Played\"],C_hou[\"Minutes\"],color=\"purple\",label=\"Caleb Houstan\", width=1.5)\n",
    "plt.bar(k_har[\"Games Played\"],k_har[\"Minutes\"],color=\"pink\",label=\"Kevon Harris\", width=1.5)\n",
    "\n",
    "plt.title(\"2023 Season Guards Availablity\")\n",
    "plt.xlabel(\"Games Played\")\n",
    "plt.ylabel(\"Minutes Played\")\n",
    "plt.legend(fontsize=\"small\")\n",
    "plt.xlim(0,82)\n",
    "plt.grid()\n",
    "plt.show()"
   ]
  },
  {
   "cell_type": "code",
   "execution_count": null,
   "metadata": {},
   "outputs": [],
   "source": [
    "# Used the games plated as an X, then what i wanted to measure as a Y, and made a bar graph\n",
    "plt.bar(league_average_guard[\"Games Played\"],league_average_guard[\"Points\"],color=\"r\",label=\"League Average\")\n",
    "plt.bar(m_fultz[\"Games Played\"],m_fultz[\"Points\"],color=\"blue\",label=\"Markelle Fultz\")\n",
    "plt.bar(mc_will[\"Games Played\"],mc_will[\"Points\"],color=\"g\",label=\"Michael Carter-Williams\")\n",
    "plt.bar(j_sug[\"Games Played\"],j_sug[\"Points\"],color=\"y\",label=\"Jalen Suggs\")\n",
    "plt.bar(g_har[\"Games Played\"],g_har[\"Points\"],color=\"orange\",label=\"Gary Harris\")\n",
    "plt.bar(c_ant[\"Games Played\"],c_ant[\"Points\"],color=\"black\",label=\"Cole Anthony\")\n",
    "plt.bar(j_scrub[\"Games Played\"],j_scrub[\"Points\"],color=\"silver\",label=\"Jay Scrubb\")\n",
    "plt.bar(C_hou[\"Games Played\"],C_hou[\"Points\"],color=\"purple\",label=\"Caleb Houstan\", width=1.5)\n",
    "plt.bar(k_har[\"Games Played\"],k_har[\"Points\"],color=\"pink\",label=\"Kevon Harris\", width=1.5)\n",
    "\n",
    "plt.title(\"2023 Season Guards Points Average\")\n",
    "plt.xlabel(\"Games Played\")\n",
    "plt.ylabel(\"Points Scored\")\n",
    "plt.legend()\n",
    "plt.xlim(0,82)\n",
    "plt.grid()\n",
    "plt.show()"
   ]
  },
  {
   "cell_type": "code",
   "execution_count": null,
   "metadata": {},
   "outputs": [],
   "source": [
    "plt.scatter(league_average_guard[\"Field Goals Attmepted\"],league_average_guard[\"Field Goal %\"],color=\"r\",label=\"League Average\")\n",
    "plt.scatter(m_fultz[\"Field Goals Attmepted \"],m_fultz[\"Field Goal %\"],color=\"blue\",label=\"Markelle Fultz\")\n",
    "plt.scatter(mc_will[\"Field Goals Attmepted \"],mc_will[\"Field Goal %\"],color=\"g\",label=\"Michael Carter-Williams\")\n",
    "plt.scatter(j_sug[\"Field Goals Attmepted \"],j_sug[\"Field Goal %\"],color=\"y\",label=\"Jalen Suggs\")\n",
    "plt.scatter(g_har[\"Field Goals Attmepted \"],g_har[\"Field Goal %\"],color=\"orange\",label=\"Gary Harris\")\n",
    "plt.scatter(c_ant[\"Field Goals Attmepted \"],c_ant[\"Field Goal %\"],color=\"black\",label=\"Cole Anthony\")\n",
    "plt.scatter(j_scrub[\"Field Goals Attmepted \"],j_scrub[\"Field Goal %\"],color=\"brown\",label=\"Jay Scrubb\")\n",
    "plt.scatter(C_hou[\"Field Goals Attmepted \"],C_hou[\"Field Goal %\"],color=\"purple\",label=\"Caleb Houstan\")\n",
    "plt.scatter(k_har[\"Field Goals Attmepted \"],k_har[\"Field Goal %\"],color=\"pink\",label=\"Kevon Harris\")\n",
    "\n",
    "plt.title(\"2023 Guard Shooting Percentage Average Per Game\")\n",
    "plt.xlabel(\"Field Goals Attmepted\")\n",
    "plt.ylabel(\"Field Goals Percentage\")\n",
    "plt.legend(fontsize=\"small\")\n",
    "plt.xlim(0,20)\n",
    "plt.ylim(30,80)\n",
    "plt.grid()\n",
    "plt.show()"
   ]
  },
  {
   "cell_type": "code",
   "execution_count": null,
   "metadata": {},
   "outputs": [],
   "source": [
    "plt.scatter(league_average_guard[\"3 Points Attempted\"],league_average_guard[\"3 Point %\"],color=\"r\",label=\"League Average\")\n",
    "plt.scatter(m_fultz[\"3 Points Attempted\"],m_fultz[\"3 Point %\"],color=\"blue\",label=\"Markelle Fultz\")\n",
    "plt.scatter(mc_will[\"3 Points Attempted\"],mc_will[\"3 Point %\"],color=\"g\",label=\"Michael Carter-Williams\")\n",
    "plt.scatter(j_sug[\"3 Points Attempted\"],j_sug[\"3 Point %\"],color=\"y\",label=\"Jalen Suggs\")\n",
    "plt.scatter(g_har[\"3 Points Attempted\"],g_har[\"3 Point %\"],color=\"orange\",label=\"Gary Harris\")\n",
    "plt.scatter(c_ant[\"3 Points Attempted\"],c_ant[\"3 Point %\"],color=\"black\",label=\"Cole Anthony\")\n",
    "plt.scatter(j_scrub[\"3 Points Attempted\"],j_scrub[\"3 Point %\"],color=\"brown\",label=\"Jay Scrubb\")\n",
    "plt.scatter(C_hou[\"3 Points Attempted\"],C_hou[\"3 Point %\"],color=\"purple\",label=\"Caleb Houstan\")\n",
    "plt.scatter(k_har[\"3 Points Attempted\"],k_har[\"3 Point %\"],color=\"pink\",label=\"Kevon Harris\")\n",
    "\n",
    "plt.title(\"2023 Guard 3pt Shooting Percentage Average Per Game\")\n",
    "plt.xlabel(\"3pt Field Goals Attmepted\")\n",
    "plt.ylabel(\"3pt Field Goals Percentage\")\n",
    "plt.legend(fontsize=\"small\")\n",
    "plt.xlim(0,8)\n",
    "plt.ylim(20,105)\n",
    "plt.grid()\n",
    "plt.show()"
   ]
  },
  {
   "cell_type": "code",
   "execution_count": null,
   "metadata": {},
   "outputs": [],
   "source": [
    "plt.scatter(league_average_guard[\"Free throw Attempted\"],league_average_guard[\"Free Throw %\"],color=\"r\",label=\"League Average\")\n",
    "plt.scatter(m_fultz[\"Free throw Attempted\"],m_fultz[\"Free Throw %\"],color=\"blue\",label=\"Markelle Fultz\")\n",
    "plt.scatter(mc_will[\"Free throw Attempted\"],mc_will[\"Free Throw %\"],color=\"g\",label=\"Michael Carter-Williams\")\n",
    "plt.scatter(j_sug[\"Free throw Attempted\"],j_sug[\"Free Throw %\"],color=\"y\",label=\"Jalen Suggs\")\n",
    "plt.scatter(g_har[\"Free throw Attempted\"],g_har[\"Free Throw %\"],color=\"orange\",label=\"Gary Harris\")\n",
    "plt.scatter(c_ant[\"Free throw Attempted\"],c_ant[\"Free Throw %\"],color=\"black\",label=\"Cole Anthony\")\n",
    "plt.scatter(j_scrub[\"Free throw Attempted\"],j_scrub[\"Free Throw %\"],color=\"brown\",label=\"Jay Scrubb\")\n",
    "plt.scatter(C_hou[\"Free throw Attempted\"],C_hou[\"Free Throw %\"],color=\"purple\",label=\"Caleb Houstan\")\n",
    "plt.scatter(k_har[\"Free throw Attempted\"],k_har[\"Free Throw %\"],color=\"pink\",label=\"Kevon Harris\")\n",
    "\n",
    "plt.title(\"2023 Guard Free Throw Shooting Percentage Average Per Game\")\n",
    "plt.xlabel(\"Free Throws Attmepted\")\n",
    "plt.ylabel(\"Free Throws Percentage\")\n",
    "plt.legend(fontsize=\"small\")\n",
    "plt.xlim(0,8)\n",
    "plt.ylim(40,95)\n",
    "plt.grid()\n",
    "plt.show()"
   ]
  },
  {
   "cell_type": "code",
   "execution_count": null,
   "metadata": {},
   "outputs": [],
   "source": [
    "plt.bar(league_average_guard[\"Minutes\"],league_average_guard[\"Offensive Rebound\"],color=\"r\",label=\"League Average\")\n",
    "\n",
    "plt.bar(m_fultz[\"Minutes\"],m_fultz[\"Offensive Rebound\"],color=\"blue\",label=\"Markelle Fultz\", width=.5)\n",
    "\n",
    "plt.bar(mc_will[\"Minutes\"],mc_will[\"Offensive Rebound\"],color=\"g\",label=\"Michael Carter-Williams\")\n",
    "\n",
    "plt.bar(j_sug[\"Minutes\"],j_sug[\"Offensive Rebound\"],color=\"y\",label=\"Jalen Suggs\")\n",
    "\n",
    "plt.bar(g_har[\"Minutes\"],g_har[\"Offensive Rebound\"],color=\"orange\",label=\"Gary Harris\")\n",
    "\n",
    "plt.bar(c_ant[\"Minutes\"],c_ant[\"Offensive Rebound\"],color=\"black\",label=\"Cole Anthony\")\n",
    "\n",
    "plt.bar(j_scrub[\"Minutes\"],j_scrub[\"Offensive Rebound\"],color=\"silver\",label=\"Jay Scrubb\")\n",
    "plt.bar(C_hou[\"Minutes\"],C_hou[\"Offensive Rebound\"],color=\"purple\",label=\"Caleb Houstan\")\n",
    "plt.bar(k_har[\"Minutes\"],k_har[\"Offensive Rebound\"],color=\"pink\",label=\"Kevon Harris\")\n",
    "\n",
    "\n",
    "plt.title(\"2023 Guard Offensive Rebounds Average\")\n",
    "plt.xlabel(\"Minutes Played\")\n",
    "plt.ylabel(\"Offensive Rebounds\")\n",
    "plt.legend(fontsize=\"small\")\n",
    "plt.xlim(0,32)\n",
    "plt.grid()\n",
    "plt.show()"
   ]
  },
  {
   "cell_type": "code",
   "execution_count": null,
   "metadata": {},
   "outputs": [],
   "source": [
    "plt.bar(league_average_guard[\"Minutes\"],league_average_guard[\"Defensive Rebound\"],color=\"r\",label=\"League Average\")\n",
    "plt.bar(m_fultz[\"Minutes\"],m_fultz[\"Defensive Rebound\"],color=\"blue\",label=\"Markelle Fultz\")\n",
    "plt.bar(mc_will[\"Minutes\"],mc_will[\"Defensive Rebound\"],color=\"g\",label=\"Michael Carter-Williams\")\n",
    "plt.bar(j_sug[\"Minutes\"],j_sug[\"Defensive Rebound\"],color=\"y\",label=\"Jalen Suggs\")\n",
    "plt.bar(g_har[\"Minutes\"],g_har[\"Defensive Rebound\"],color=\"orange\",label=\"Gary Harris\")\n",
    "plt.bar(c_ant[\"Minutes\"],c_ant[\"Defensive Rebound\"],color=\"black\",label=\"Cole Anthony\")\n",
    "plt.bar(j_scrub[\"Minutes\"],j_scrub[\"Defensive Rebound\"],color=\"silver\",label=\"Jay Scrubb\")\n",
    "plt.bar(C_hou[\"Minutes\"],C_hou[\"Defensive Rebound\"],color=\"purple\",label=\"Caleb Houstan\")\n",
    "plt.bar(k_har[\"Minutes\"],k_har[\"Defensive Rebound\"],color=\"pink\",label=\"Kevon Harris\")\n",
    "\n",
    "plt.title(\"2023 Guard Defensive Rebounds Average\")\n",
    "plt.xlabel(\"Minutes Played\")\n",
    "plt.ylabel(\"Defensive Rebounds\")\n",
    "plt.legend(fontsize=\"small\")\n",
    "plt.xlim(0,32)\n",
    "plt.grid()\n",
    "plt.show()"
   ]
  },
  {
   "cell_type": "code",
   "execution_count": null,
   "metadata": {},
   "outputs": [],
   "source": [
    "plt.bar(league_average_guard[\"Minutes\"],league_average_guard[\"Assists\"],color=\"r\",label=\"League Average\")\n",
    "plt.bar(m_fultz[\"Minutes\"],m_fultz[\"Assists \"],color=\"blue\",label=\"Markelle Fultz\", width=.5)\n",
    "plt.bar(mc_will[\"Minutes\"],mc_will[\"Assists \"],color=\"g\",label=\"Michael Carter-Williams\")\n",
    "plt.bar(j_sug[\"Minutes\"],j_sug[\"Assists \"],color=\"y\",label=\"Jalen Suggs\")\n",
    "plt.bar(g_har[\"Minutes\"],g_har[\"Assists \"],color=\"orange\",label=\"Gary Harris\")\n",
    "plt.bar(c_ant[\"Minutes\"],c_ant[\"Assists \"],color=\"black\",label=\"Cole Anthony\")\n",
    "plt.bar(j_scrub[\"Minutes\"],j_scrub[\"Assists \"],color=\"silver\",label=\"Jay Scrubb\")\n",
    "plt.bar(C_hou[\"Minutes\"],C_hou[\"Assists \"],color=\"purple\",label=\"Caleb Houstan\")\n",
    "plt.bar(k_har[\"Minutes\"],k_har[\"Assists \"],color=\"pink\",label=\"Kevon Harris\")\n",
    "\n",
    "plt.title(\"2023 Guard Assists Average\")\n",
    "plt.xlabel(\"Minutes played\")\n",
    "plt.ylabel(\"Assists\")\n",
    "plt.legend(fontsize=\"x-small\")\n",
    "plt.xlim(0,32)\n",
    "plt.ylim(0,7)\n",
    "plt.grid()\n",
    "plt.show()"
   ]
  },
  {
   "cell_type": "code",
   "execution_count": null,
   "metadata": {},
   "outputs": [],
   "source": [
    "plt.bar(league_average_guard[\"Minutes\"],league_average_guard[\"Turnover\"],color=\"r\",label=\"League Average\")\n",
    "plt.bar(m_fultz[\"Minutes\"],m_fultz[\"Turnover\"],color=\"blue\",label=\"Markelle Fultz\", width=.5)\n",
    "plt.bar(mc_will[\"Minutes\"],mc_will[\"Turnover\"],color=\"g\",label=\"Michael Carter-Williams\")\n",
    "plt.bar(j_sug[\"Minutes\"],j_sug[\"Turnover\"],color=\"y\",label=\"Jalen Suggs\")\n",
    "plt.bar(g_har[\"Minutes\"],g_har[\"Turnover\"],color=\"orange\",label=\"Gary Harris\")\n",
    "plt.bar(c_ant[\"Minutes\"],c_ant[\"Turnover\"],color=\"black\",label=\"Cole Anthony\")\n",
    "plt.bar(j_scrub[\"Minutes\"],j_scrub[\"Turnover\"],color=\"silver\",label=\"Jay Scrubb\")\n",
    "plt.bar(C_hou[\"Minutes\"],C_hou[\"Turnover\"],color=\"purple\",label=\"Caleb Houstan\")\n",
    "plt.bar(k_har[\"Minutes\"],k_har[\"Turnover\"],color=\"pink\",label=\"Kevon Harris\")\n",
    "\n",
    "plt.title(\"2023 Guard Turnovers Average\")\n",
    "plt.xlabel(\"Minutes played\")\n",
    "plt.ylabel(\"Turnovers\")\n",
    "plt.legend(fontsize=\"x-small\")\n",
    "plt.xlim(0,32)\n",
    "plt.ylim(0,3)\n",
    "plt.grid()\n",
    "\n",
    "plt.show()"
   ]
  },
  {
   "cell_type": "code",
   "execution_count": null,
   "metadata": {},
   "outputs": [],
   "source": [
    "plt.bar(league_average_guard[\"Minutes\"],league_average_guard[\"Steals\"],color=\"r\",label=\"League Average\")\n",
    "plt.bar(m_fultz[\"Minutes\"],m_fultz[\"Steals\"],color=\"blue\",label=\"Markelle Fultz\", width=.5)\n",
    "plt.bar(mc_will[\"Minutes\"],mc_will[\"Steals\"],color=\"g\",label=\"Michael Carter-Williams\")\n",
    "plt.bar(j_sug[\"Minutes\"],j_sug[\"Steals\"],color=\"y\",label=\"Jalen Suggs\")\n",
    "plt.bar(g_har[\"Minutes\"],g_har[\"Steals\"],color=\"orange\",label=\"Gary Harris\")\n",
    "plt.bar(c_ant[\"Minutes\"],c_ant[\"Steals\"],color=\"black\",label=\"Cole Anthony\")\n",
    "plt.bar(j_scrub[\"Minutes\"],j_scrub[\"Steals\"],color=\"silver\",label=\"Jay Scrubb\")\n",
    "plt.bar(C_hou[\"Minutes\"],C_hou[\"Steals\"],color=\"purple\",label=\"Caleb Houstan\")\n",
    "plt.bar(k_har[\"Minutes\"],k_har[\"Steals\"],color=\"pink\",label=\"Kevon Harris\")\n",
    "\n",
    "plt.title(\"2023 Guard Steals Average\")\n",
    "plt.xlabel(\"Minutes played\")\n",
    "plt.ylabel(\"Steals\")\n",
    "plt.legend(fontsize=\"x-small\")\n",
    "plt.xlim(0,32)\n",
    "plt.ylim(0,2)\n",
    "plt.grid()\n",
    "plt.show()"
   ]
  },
  {
   "cell_type": "code",
   "execution_count": null,
   "metadata": {},
   "outputs": [],
   "source": [
    "plt.bar(league_average_guard[\"Minutes\"],league_average_guard[\"Blocks\"],color=\"r\",label=\"League Average\")\n",
    "plt.bar(m_fultz[\"Minutes\"],m_fultz[\"Blocks\"],color=\"blue\",label=\"Markelle Fultz\", width=.5)\n",
    "plt.bar(mc_will[\"Minutes\"],mc_will[\"Blocks\"],color=\"g\",label=\"Michael Carter-Williams\")\n",
    "plt.bar(j_sug[\"Minutes\"],j_sug[\"Blocks\"],color=\"y\",label=\"Jalen Suggs\")\n",
    "plt.bar(g_har[\"Minutes\"],g_har[\"Blocks\"],color=\"orange\",label=\"Gary Harris\")\n",
    "plt.bar(c_ant[\"Minutes\"],c_ant[\"Blocks\"],color=\"black\",label=\"Cole Anthony\")\n",
    "plt.bar(j_scrub[\"Minutes\"],j_scrub[\"Blocks\"],color=\"silver\",label=\"Jay Scrubb\")\n",
    "plt.bar(C_hou[\"Minutes\"],C_hou[\"Blocks\"],color=\"purple\",label=\"Caleb Houstan\")\n",
    "plt.bar(k_har[\"Minutes\"],k_har[\"Blocks\"],color=\"pink\",label=\"Kevon Harris\")\n",
    "\n",
    "plt.title(\"2023 Guards Blocks Average\")\n",
    "plt.xlabel(\"Minutes played\")\n",
    "plt.ylabel(\"Blocks\")\n",
    "plt.legend(fontsize=\"x-small\")\n",
    "plt.xlim(0,32)\n",
    "plt.ylim(0,.8)\n",
    "plt.grid()\n",
    "plt.show()"
   ]
  },
  {
   "cell_type": "code",
   "execution_count": null,
   "metadata": {},
   "outputs": [],
   "source": [
    "plt.bar(league_average_guard[\"Minutes\"],league_average_guard[\"Personal Foul\"],color=\"r\",label=\"League Average\")\n",
    "plt.bar(m_fultz[\"Minutes\"],m_fultz[\"Personal Foul\"],color=\"blue\",label=\"Markelle Fultz\", width=.5)\n",
    "plt.bar(mc_will[\"Minutes\"],mc_will[\"Personal Foul\"],color=\"g\",label=\"Michael Carter-Williams\")\n",
    "plt.bar(j_sug[\"Minutes\"],j_sug[\"Personal Foul\"],color=\"y\",label=\"Jalen Suggs\")\n",
    "plt.bar(g_har[\"Minutes\"],g_har[\"Personal Foul\"],color=\"orange\",label=\"Gary Harris\")\n",
    "plt.bar(c_ant[\"Minutes\"],c_ant[\"Personal Foul\"],color=\"black\",label=\"Cole Anthony\")\n",
    "plt.bar(j_scrub[\"Minutes\"],j_scrub[\"Personal Foul\"],color=\"silver\",label=\"Jay Scrubb\")\n",
    "plt.bar(C_hou[\"Minutes\"],C_hou[\"Personal Foul\"],color=\"purple\",label=\"Caleb Houstan\")\n",
    "plt.bar(k_har[\"Minutes\"],k_har[\"Personal Foul\"],color=\"pink\",label=\"Kevon Harris\")\n",
    "\n",
    "plt.title(\"2023 Guards Personal Fouls Average\")\n",
    "plt.xlabel(\"Minutes played\")\n",
    "plt.ylabel(\"Personal Fouls\")\n",
    "plt.legend(fontsize=\"x-small\")\n",
    "plt.xlim(0,32)\n",
    "plt.ylim(0,4)\n",
    "plt.grid()\n",
    "plt.show()"
   ]
  },
  {
   "cell_type": "code",
   "execution_count": null,
   "metadata": {},
   "outputs": [],
   "source": [
    "plt.scatter(league_average_guard[\"Minutes\"],league_average_guard[\"Plus-Minus\"],color=\"r\",label=\"League Average\")\n",
    "plt.scatter(m_fultz[\"Minutes\"],m_fultz[\"Plus-Minus\"],color=\"blue\",label=\"Markelle Fultz\")\n",
    "plt.scatter(mc_will[\"Minutes\"],mc_will[\"Plus-Minus\"],color=\"g\",label=\"Michael Carter-Williams\")\n",
    "plt.scatter(j_sug[\"Minutes\"],j_sug[\"Plus-Minus\"],color=\"y\",label=\"Jalen Suggs\")\n",
    "plt.scatter(g_har[\"Minutes\"],g_har[\"Plus-Minus\"],color=\"orange\",label=\"Gary Harris\")\n",
    "plt.scatter(c_ant[\"Minutes\"],c_ant[\"Plus-Minus\"],color=\"black\",label=\"Cole Anthony\")\n",
    "plt.scatter(j_scrub[\"Minutes\"],j_scrub[\"Plus-Minus\"],color=\"brown\",label=\"Jay Scrubb\")\n",
    "plt.scatter(C_hou[\"Minutes\"],C_hou[\"Plus-Minus\"],color=\"purple\",label=\"Caleb Houstan\")\n",
    "plt.scatter(k_har[\"Minutes\"],k_har[\"Plus-Minus\"],color=\"pink\",label=\"Kevon Harris\")\n",
    "\n",
    "plt.title(\"2023 Guards Plus-Minus Average\")\n",
    "plt.xlabel(\"Minutes played\")\n",
    "plt.ylabel(\"Plus-Minus\")\n",
    "plt.legend(fontsize=\"x-small\")\n",
    "plt.xlim(0,50)\n",
    "plt.ylim(-9,2)\n",
    "plt.grid()\n",
    "plt.show()"
   ]
  },
  {
   "cell_type": "markdown",
   "metadata": {},
   "source": [
    "# Orlando Magic Forwards Graphs"
   ]
  },
  {
   "cell_type": "code",
   "execution_count": null,
   "metadata": {},
   "outputs": [],
   "source": [
    "plt.bar(league_average_forward[\"Games Played\"],league_average_forward[\"Minutes\"],color=\"r\",label=\"League Average\",width=2)\n",
    "plt.bar(p_banchero[\"Games Played\"],p_banchero[\"Minutes\"],color=\"blue\",label=\"Paolo Banchero\",width=2)\n",
    "plt.bar(fr_wag[\"Games Played\"],fr_wag[\"Minutes\"],color=\"g\",label=\"Franz Wagner\",width=2)\n",
    "plt.bar(jon_isa[\"Games Played\"],jon_isa[\"Minutes\"],color=\"y\",label=\"Jonathan Isaac\",width=2)\n",
    "plt.bar(ad_s[\"Games Played\"],ad_s[\"Minutes\"],color=\"orange\",label=\"Admiral Schofield\",width=2)\n",
    "plt.bar(c_oke[\"Games Played\"],c_oke[\"Minutes\"],color=\"black\",label=\"Chuma Okeke\",width=2)\n",
    "\n",
    "\n",
    "plt.title(\"2023 Season Forwards Availablity\")\n",
    "plt.xlabel(\"Games Played\")\n",
    "plt.ylabel(\"Minutes Played\")\n",
    "plt.legend()\n",
    "plt.xlim(0,82)\n",
    "plt.grid()\n",
    "plt.show()"
   ]
  },
  {
   "cell_type": "code",
   "execution_count": null,
   "metadata": {},
   "outputs": [],
   "source": [
    "plt.bar(league_average_forward[\"Games Played\"],league_average_forward[\"Points\"],color=\"r\",label=\"League Average\",width=2)\n",
    "plt.bar(p_banchero[\"Games Played\"],p_banchero[\"Points\"],color=\"blue\",label=\"Paolo Banchero\",width=2)\n",
    "plt.bar(fr_wag[\"Games Played\"],fr_wag[\"Points\"],color=\"g\",label=\"Franz Wagner\",width=2)\n",
    "plt.bar(jon_isa[\"Games Played\"],jon_isa[\"Points\"],color=\"y\",label=\"Jonathan Isaac\",width=2)\n",
    "plt.bar(ad_s[\"Games Played\"],ad_s[\"Points\"],color=\"orange\",label=\"Admiral Schofield\",width=2)\n",
    "plt.bar(c_oke[\"Games Played\"],c_oke[\"Points\"],color=\"black\",label=\"Chuma Okeke\",width=2)\n",
    "\n",
    "\n",
    "plt.title(\"2023 Season Forward Points Average\")\n",
    "plt.xlabel(\"Games Played\")\n",
    "plt.ylabel(\"Points Scored\")\n",
    "plt.legend()\n",
    "plt.xlim(0,82)\n",
    "plt.grid()\n",
    "plt.show()"
   ]
  },
  {
   "cell_type": "code",
   "execution_count": null,
   "metadata": {},
   "outputs": [],
   "source": [
    "plt.scatter(league_average_forward[\"Field Goals Attmepted\"],league_average_forward[\"Field Goal %\"],color=\"r\",label=\"League Average\")\n",
    "plt.scatter(p_banchero[\"Field Goals Attmepted \"],p_banchero[\"Field Goal %\"],color=\"blue\",label=\"Paolo Banchero\")\n",
    "plt.scatter(fr_wag[\"Field Goals Attmepted \"],fr_wag[\"Field Goal %\"],color=\"g\",label=\"Franz Wagner\")\n",
    "plt.scatter(jon_isa[\"Field Goals Attmepted \"],jon_isa[\"Field Goal %\"],color=\"y\",label=\"Jonathan Isaac\")\n",
    "plt.scatter(ad_s[\"Field Goals Attmepted \"],ad_s[\"Field Goal %\"],color=\"orange\",label=\"Admiral Schofield\")\n",
    "plt.scatter(c_oke[\"Field Goals Attmepted \"],c_oke[\"Field Goal %\"],color=\"black\",label=\"Chuma Okeke\")\n",
    "\n",
    "\n",
    "plt.title(\"2023 Forward Shooting Percentage Average Per Game\")\n",
    "plt.xlabel(\"Field Goals Attmepted\")\n",
    "plt.ylabel(\"Field Goals Percentage\")\n",
    "plt.legend(fontsize=\"x-small\",loc=\"best\")\n",
    "plt.xlim(0,20)\n",
    "plt.ylim(30,55)\n",
    "plt.grid()\n",
    "plt.show()"
   ]
  },
  {
   "cell_type": "code",
   "execution_count": null,
   "metadata": {},
   "outputs": [],
   "source": [
    "plt.scatter(league_average_forward[\"3 Points Attempted\"],league_average_forward[\"3 Point %\"],color=\"r\",label=\"League Average\")\n",
    "plt.scatter(p_banchero[\"3 Points Attempted\"],p_banchero[\"3 Point %\"],color=\"blue\",label=\"Paolo Banchero\")\n",
    "plt.scatter(fr_wag[\"3 Points Attempted\"],fr_wag[\"3 Point %\"],color=\"g\",label=\"Franz Wagner\")\n",
    "plt.scatter(jon_isa[\"3 Points Attempted\"],jon_isa[\"3 Point %\"],color=\"y\",label=\"Jonathan Isaac\")\n",
    "plt.scatter(ad_s[\"3 Points Attempted\"],ad_s[\"3 Point %\"],color=\"orange\",label=\"Admiral Schofield\")\n",
    "plt.scatter(c_oke[\"3 Points Attempted\"],c_oke[\"3 Point %\"],color=\"black\",label=\"Chuma Okeke\")\n",
    "\n",
    "\n",
    "plt.title(\"2023 Forward 3pt Shooting Percentage Average Per Game\")\n",
    "plt.xlabel(\"3pt Field Goals Attmepted\")\n",
    "plt.ylabel(\"3pt Field Goals Percentage\")\n",
    "plt.legend(fontsize=\"small\")\n",
    "plt.xlim(0,8)\n",
    "plt.ylim(25,50)\n",
    "plt.grid()\n",
    "plt.show()"
   ]
  },
  {
   "cell_type": "code",
   "execution_count": null,
   "metadata": {},
   "outputs": [],
   "source": [
    "plt.scatter(league_average_forward[\"Free throw Attempted\"],league_average_forward[\"Free Throw %\"],color=\"r\",label=\"League Average\")\n",
    "plt.scatter(p_banchero[\"Free throw Attempted\"],p_banchero[\"Free Throw %\"],color=\"blue\",label=\"Paolo Banchero\")\n",
    "plt.scatter(fr_wag[\"Free throw Attempted\"],fr_wag[\"Free Throw %\"],color=\"g\",label=\"Franz Wagner\")\n",
    "plt.scatter(jon_isa[\"Free throw Attempted\"],jon_isa[\"Free Throw %\"],color=\"y\",label=\"Jonathan Isaac\")\n",
    "plt.scatter(ad_s[\"Free throw Attempted\"],ad_s[\"Free Throw %\"],color=\"orange\",label=\"Admiral Schofield\")\n",
    "plt.scatter(c_oke[\"Free throw Attempted\"],c_oke[\"Free Throw %\"],color=\"black\",label=\"Chuma Okeke\")\n",
    "\n",
    "\n",
    "plt.title(\"2023 Forward Free Throw Shooting Percentage Average Per Game\")\n",
    "plt.xlabel(\"Free Throws Attmepted\")\n",
    "plt.ylabel(\"Free Throws Percentage\")\n",
    "plt.legend(fontsize=\"small\")\n",
    "plt.xlim(0,8)\n",
    "plt.ylim(40,100)\n",
    "plt.grid()\n",
    "plt.show()"
   ]
  },
  {
   "cell_type": "code",
   "execution_count": null,
   "metadata": {},
   "outputs": [],
   "source": [
    "plt.bar(league_average_forward[\"Minutes\"],league_average_forward[\"Offensive Rebound\"],color=\"r\",label=\"League Average\")\n",
    "\n",
    "plt.bar(p_banchero[\"Minutes\"],p_banchero[\"Offensive Rebound\"],color=\"blue\",label=\"Paolo Banchero\")\n",
    "\n",
    "plt.bar(fr_wag[\"Minutes\"],fr_wag[\"Offensive Rebound\"],color=\"g\",label=\"Franz Wagner\")\n",
    "\n",
    "plt.bar(jon_isa[\"Minutes\"],jon_isa[\"Offensive Rebound\"],color=\"purple\",label=\"Jonathan Isaac\")\n",
    "\n",
    "plt.bar(ad_s[\"Minutes\"],ad_s[\"Offensive Rebound\"],color=\"orange\",label=\"Admiral Schofield\")\n",
    "\n",
    "plt.bar(c_oke[\"Minutes\"],c_oke[\"Offensive Rebound\"],color=\"black\",label=\"Chuma Okeke\")\n",
    "\n",
    "\n",
    "\n",
    "\n",
    "plt.title(\"2023 Forward Offensive Rebounds Average\")\n",
    "plt.xlabel(\"Minutes Played\")\n",
    "plt.ylabel(\"Offensive Rebounds\")\n",
    "plt.legend(fontsize=\"x-small\", loc=\"best\")\n",
    "plt.xlim(0,40)\n",
    "plt.grid()\n",
    "plt.show()"
   ]
  },
  {
   "cell_type": "code",
   "execution_count": null,
   "metadata": {},
   "outputs": [],
   "source": [
    "plt.bar(league_average_forward[\"Minutes\"],league_average_forward[\"Defensive Rebound\"],color=\"r\",label=\"League Average\")\n",
    "plt.bar(p_banchero[\"Minutes\"],p_banchero[\"Defensive Rebound\"],color=\"blue\",label=\"Paolo Banchero\")\n",
    "plt.bar(fr_wag[\"Minutes\"],fr_wag[\"Defensive Rebound\"],color=\"g\",label=\"Franz Wagner\")\n",
    "plt.bar(jon_isa[\"Minutes\"],jon_isa[\"Defensive Rebound\"],color=\"y\",label=\"Jonathan Isaac\")\n",
    "plt.bar(ad_s[\"Minutes\"],ad_s[\"Defensive Rebound\"],color=\"orange\",label=\"Admiral Schofield\")\n",
    "plt.bar(c_oke[\"Minutes\"],c_oke[\"Defensive Rebound\"],color=\"black\",label=\"Chuma Okeke\")\n",
    "\n",
    "\n",
    "plt.title(\"2023 Forward Defensive Rebounds Average\")\n",
    "plt.xlabel(\"Minutes Played\")\n",
    "plt.ylabel(\"Defensive Rebounds\")\n",
    "plt.legend(fontsize=\"small\")\n",
    "plt.xlim(0,40)\n",
    "plt.grid()\n",
    "plt.show()"
   ]
  },
  {
   "cell_type": "code",
   "execution_count": null,
   "metadata": {},
   "outputs": [],
   "source": [
    "plt.bar(league_average_forward[\"Minutes\"],league_average_forward[\"Assists\"],color=\"r\",label=\"League Average\")\n",
    "plt.bar(p_banchero[\"Minutes\"],p_banchero[\"Assists \"],color=\"blue\",label=\"Paolo Banchero\")\n",
    "plt.bar(fr_wag[\"Minutes\"],fr_wag[\"Assists \"],color=\"g\",label=\"Franz Wagner\")\n",
    "plt.bar(jon_isa[\"Minutes\"],jon_isa[\"Assists \"],color=\"y\",label=\"Jonathan Isaac\")\n",
    "plt.bar(ad_s[\"Minutes\"],ad_s[\"Assists \"],color=\"orange\",label=\"Admiral Schofield\")\n",
    "plt.bar(c_oke[\"Minutes\"],c_oke[\"Assists \"],color=\"black\",label=\"Chuma Okeke\")\n",
    "\n",
    "\n",
    "plt.title(\"2023 Forward Assists Average\")\n",
    "plt.xlabel(\"Minutes played\")\n",
    "plt.ylabel(\"Assists\")\n",
    "plt.legend(fontsize=\"x-small\")\n",
    "plt.xlim(0,40)\n",
    "plt.ylim(0,5)\n",
    "plt.grid()\n",
    "plt.show()"
   ]
  },
  {
   "cell_type": "code",
   "execution_count": null,
   "metadata": {},
   "outputs": [],
   "source": [
    "plt.bar(league_average_forward[\"Minutes\"],league_average_forward[\"Turnover\"],color=\"r\",label=\"League Average\")\n",
    "plt.bar(p_banchero[\"Minutes\"],p_banchero[\"Turnover\"],color=\"blue\",label=\"Paolo Banchero\")\n",
    "plt.bar(fr_wag[\"Minutes\"],fr_wag[\"Turnover\"],color=\"g\",label=\"Franz Wagner\")\n",
    "plt.bar(jon_isa[\"Minutes\"],jon_isa[\"Turnover\"],color=\"y\",label=\"Jonathan Isaac\")\n",
    "plt.bar(ad_s[\"Minutes\"],ad_s[\"Turnover\"],color=\"orange\",label=\"Admiral Schofield\")\n",
    "plt.bar(c_oke[\"Minutes\"],c_oke[\"Turnover\"],color=\"black\",label=\"Chuma Okeke\")\n",
    "\n",
    "\n",
    "plt.title(\"2023 Forward Turnovers Average\")\n",
    "plt.xlabel(\"Minutes played\")\n",
    "plt.ylabel(\"Turnovers\")\n",
    "plt.legend(fontsize=\"x-small\")\n",
    "plt.xlim(0,40)\n",
    "plt.ylim(0,3)\n",
    "plt.grid()\n",
    "plt.show()"
   ]
  },
  {
   "cell_type": "code",
   "execution_count": null,
   "metadata": {},
   "outputs": [],
   "source": [
    "plt.bar(league_average_forward[\"Minutes\"],league_average_forward[\"Steals\"],color=\"r\",label=\"League Average\")\n",
    "plt.bar(p_banchero[\"Minutes\"],p_banchero[\"Steals\"],color=\"blue\",label=\"Paolo Banchero\")\n",
    "plt.bar(fr_wag[\"Minutes\"],fr_wag[\"Steals\"],color=\"g\",label=\"Franz Wagner\")\n",
    "plt.bar(jon_isa[\"Minutes\"],jon_isa[\"Steals\"],color=\"y\",label=\"Jonathan Isaac\")\n",
    "plt.bar(ad_s[\"Minutes\"],ad_s[\"Steals\"],color=\"orange\",label=\"Admiral Schofield\")\n",
    "plt.bar(c_oke[\"Minutes\"],c_oke[\"Steals\"],color=\"black\",label=\"Chuma Okeke\")\n",
    "\n",
    "\n",
    "plt.title(\"2023 Forward Steals Average\")\n",
    "plt.xlabel(\"Minutes played\")\n",
    "plt.ylabel(\"Steals\")\n",
    "plt.legend(fontsize=\"x-small\")\n",
    "plt.xlim(0,40)\n",
    "plt.ylim(0,1.5)\n",
    "plt.grid()\n",
    "plt.show()"
   ]
  },
  {
   "cell_type": "code",
   "execution_count": null,
   "metadata": {},
   "outputs": [],
   "source": [
    "plt.bar(league_average_forward[\"Minutes\"],league_average_forward[\"Blocks\"],color=\"r\",label=\"League Average\")\n",
    "plt.bar(p_banchero[\"Minutes\"],p_banchero[\"Blocks\"],color=\"blue\",label=\"Paolo Banchero\")\n",
    "plt.bar(fr_wag[\"Minutes\"],fr_wag[\"Blocks\"],color=\"g\",label=\"Franz Wagner\")\n",
    "plt.bar(jon_isa[\"Minutes\"],jon_isa[\"Blocks\"],color=\"y\",label=\"Jonathan Isaac\")\n",
    "plt.bar(ad_s[\"Minutes\"],ad_s[\"Blocks\"],color=\"orange\",label=\"Admiral Schofield\")\n",
    "plt.bar(c_oke[\"Minutes\"],c_oke[\"Blocks\"],color=\"black\",label=\"Chuma Okeke\")\n",
    "\n",
    "\n",
    "plt.title(\"2023 Forward Blocks Average\")\n",
    "plt.xlabel(\"Minutes played\")\n",
    "plt.ylabel(\"Blocks\")\n",
    "plt.legend(fontsize=\"x-small\")\n",
    "plt.xlim(0,40)\n",
    "plt.ylim(0,.8)\n",
    "plt.grid()\n",
    "plt.show()"
   ]
  },
  {
   "cell_type": "code",
   "execution_count": null,
   "metadata": {},
   "outputs": [],
   "source": [
    "plt.bar(league_average_forward[\"Minutes\"],league_average_forward[\"Personal Foul\"],color=\"r\",label=\"League Average\")\n",
    "plt.bar(p_banchero[\"Minutes\"],p_banchero[\"Personal Foul\"],color=\"blue\",label=\"Paolo Banchero\")\n",
    "plt.bar(fr_wag[\"Minutes\"],fr_wag[\"Personal Foul\"],color=\"g\",label=\"Franz Wagner\")\n",
    "plt.bar(jon_isa[\"Minutes\"],jon_isa[\"Personal Foul\"],color=\"y\",label=\"Jonathan Isaac\")\n",
    "plt.bar(ad_s[\"Minutes\"],ad_s[\"Personal Foul\"],color=\"black\",label=\"Admiral Schofield\")\n",
    "plt.bar(c_oke[\"Minutes\"],c_oke[\"Personal Foul\"],color=\"silver\",label=\"Chuma Okeke\")\n",
    "\n",
    "plt.title(\"2023 Forward Personal Fouls Average\")\n",
    "plt.xlabel(\"Minutes played\")\n",
    "plt.ylabel(\"Personal Fouls\")\n",
    "plt.legend(fontsize=\"x-small\")\n",
    "plt.xlim(0,40)\n",
    "plt.ylim(0,3)\n",
    "plt.grid()\n",
    "plt.show()"
   ]
  },
  {
   "cell_type": "code",
   "execution_count": null,
   "metadata": {},
   "outputs": [],
   "source": [
    "plt.scatter(league_average_forward[\"Minutes\"],league_average_forward[\"Plus-Minus\"],color=\"r\",label=\"League Average\")\n",
    "plt.scatter(p_banchero[\"Minutes\"],p_banchero[\"Plus-Minus\"],color=\"blue\",label=\"Paolo Banchero\")\n",
    "plt.scatter(fr_wag[\"Minutes\"],fr_wag[\"Plus-Minus\"],color=\"g\",label=\"Franz Wagner\")\n",
    "plt.scatter(jon_isa[\"Minutes\"],jon_isa[\"Plus-Minus\"],color=\"y\",label=\"Jonathan Isaac\")\n",
    "plt.scatter(ad_s[\"Minutes\"],ad_s[\"Plus-Minus\"],color=\"orange\",label=\"Admiral Schofield\")\n",
    "plt.scatter(c_oke[\"Minutes\"],c_oke[\"Plus-Minus\"],color=\"black\",label=\"Chuma Okeke\")\n",
    "\n",
    "\n",
    "plt.title(\"2023 Forward Plus-Minus Average\")\n",
    "plt.xlabel(\"Minutes played\")\n",
    "plt.ylabel(\"Plus-Minus\")\n",
    "plt.legend(fontsize=\"x-small\")\n",
    "plt.xlim(0,50)\n",
    "plt.ylim(-5,1)\n",
    "plt.grid()\n",
    "plt.show()"
   ]
  },
  {
   "cell_type": "markdown",
   "metadata": {},
   "source": [
    "# Magic Centers Graphs"
   ]
  },
  {
   "cell_type": "code",
   "execution_count": null,
   "metadata": {},
   "outputs": [],
   "source": [
    "plt.bar(league_average_center[\"Games Played\"],league_average_center[\"Points\"],color=\"r\",label=\"League Average\",width=2)\n",
    "plt.bar(bol[\"Games Played\"],bol[\"Points\"],color=\"blue\",label=\"Bol Bol\",width=2)\n",
    "plt.bar(wen_car[\"Games Played\"],wen_car[\"Points\"],color=\"g\",label=\"Wendell Carter Jr.\",width=2)\n",
    "plt.bar(mo_wag[\"Games Played\"],mo_wag[\"Points\"],color=\"y\",label=\"Moritz Wagner\",width=2)\n",
    "plt.bar(go_bit[\"Games Played\"],go_bit[\"Points\"],color=\"orange\",label=\"Goga Bitadze\",width=2)\n",
    "\n",
    "\n",
    "\n",
    "plt.title(\"2023 Season Center Points Average\")\n",
    "plt.xlabel(\"Games Played\")\n",
    "plt.ylabel(\"Points Scored\")\n",
    "plt.legend()\n",
    "plt.xlim(0,82)\n",
    "plt.grid()\n",
    "plt.show()"
   ]
  },
  {
   "cell_type": "code",
   "execution_count": null,
   "metadata": {},
   "outputs": [],
   "source": [
    "plt.bar(league_average_center[\"Games Played\"],league_average_center[\"Minutes\"],color=\"r\",label=\"League Average\",width=2)\n",
    "plt.bar(bol[\"Games Played\"],bol[\"Minutes\"],color=\"blue\",label=\"Bol Bol\",width=2)\n",
    "plt.bar(wen_car[\"Games Played\"],wen_car[\"Minutes\"],color=\"g\",label=\"Wendell Carter Jr.\",width=2)\n",
    "plt.bar(mo_wag[\"Games Played\"],mo_wag[\"Minutes\"],color=\"y\",label=\"Moritz Wagner\",width=2)\n",
    "plt.bar(go_bit[\"Games Played\"],go_bit[\"Minutes\"],color=\"orange\",label=\"Goga Bitadze\",width=2)\n",
    "\n",
    "\n",
    "plt.title(\"2023 Season Centers Availablity\")\n",
    "plt.xlabel(\"Games Played\")\n",
    "plt.ylabel(\"Minutes Played\")\n",
    "plt.legend()\n",
    "plt.xlim(0,82)\n",
    "plt.grid()\n",
    "plt.show()"
   ]
  },
  {
   "cell_type": "code",
   "execution_count": null,
   "metadata": {},
   "outputs": [],
   "source": [
    "plt.scatter(league_average_center[\"Field Goals Attmepted\"],league_average_center[\"Field Goal %\"],color=\"r\",label=\"League Average\")\n",
    "plt.scatter(bol[\"Field Goals Attmepted \"],bol[\"Field Goal %\"],color=\"blue\",label=\"Bol Bol\")\n",
    "plt.scatter(wen_car[\"Field Goals Attmepted \"],wen_car[\"Field Goal %\"],color=\"g\",label=\"Wendell Carter Jr.\")\n",
    "plt.scatter(mo_wag[\"Field Goals Attmepted \"],mo_wag[\"Field Goal %\"],color=\"y\",label=\"Moritz Wagner\")\n",
    "plt.scatter(go_bit[\"Field Goals Attmepted \"],go_bit[\"Field Goal %\"],color=\"orange\",label=\"Goga Bitadze\")\n",
    "\n",
    "\n",
    "\n",
    "plt.title(\"2023 Center Shooting Percentage Average Per Game\")\n",
    "plt.xlabel(\"Field Goals Attmepted\")\n",
    "plt.ylabel(\"Field Goals Percentage\")\n",
    "plt.legend(fontsize=\"xx-small\",loc=\"upper right\")\n",
    "plt.xlim(0,20)\n",
    "plt.ylim(40,60)\n",
    "plt.grid()\n",
    "plt.show()"
   ]
  },
  {
   "cell_type": "code",
   "execution_count": null,
   "metadata": {},
   "outputs": [],
   "source": [
    "plt.scatter(league_average_center[\"3 Points Attempted\"],league_average_center[\"3 Point %\"],color=\"r\",label=\"League Average\")\n",
    "plt.scatter(bol[\"3 Points Attempted\"],bol[\"3 Point %\"],color=\"blue\",label=\"Bol Bol\")\n",
    "plt.scatter(wen_car[\"3 Points Attempted\"],wen_car[\"3 Point %\"],color=\"g\",label=\"Wendell Carter Jr.\")\n",
    "plt.scatter(mo_wag[\"3 Points Attempted\"],mo_wag[\"3 Point %\"],color=\"y\",label=\"Moritz Wagner\")\n",
    "plt.scatter(go_bit[\"3 Points Attempted\"],go_bit[\"3 Point %\"],color=\"orange\",label=\"Goga Bitadze\")\n",
    "\n",
    "\n",
    "plt.title(\"2023 Center 3pt Shooting Percentage Average Per Game\")\n",
    "plt.xlabel(\"3pt Field Goals Attmepted\")\n",
    "plt.ylabel(\"3pt Field Goals Percentage\")\n",
    "plt.legend(fontsize=\"small\")\n",
    "plt.xlim(0,8)\n",
    "plt.ylim(15,45)\n",
    "plt.grid()\n",
    "plt.show()"
   ]
  },
  {
   "cell_type": "code",
   "execution_count": null,
   "metadata": {},
   "outputs": [],
   "source": [
    "plt.scatter(league_average_center[\"Free throw Attempted\"],league_average_center[\"Free Throw %\"],color=\"r\",label=\"League Average\")\n",
    "plt.scatter(bol[\"Free throw Attempted\"],bol[\"Free Throw %\"],color=\"blue\",label=\"Bol Bol\")\n",
    "plt.scatter(wen_car[\"Free throw Attempted\"],wen_car[\"Free Throw %\"],color=\"g\",label=\"Wendell Carter Jr.\")\n",
    "plt.scatter(mo_wag[\"Free throw Attempted\"],mo_wag[\"Free Throw %\"],color=\"y\",label=\"Moritz Wagner\")\n",
    "plt.scatter(go_bit[\"Free throw Attempted\"],go_bit[\"Free Throw %\"],color=\"orange\",label=\"Goga Bitadze\")\n",
    "\n",
    "\n",
    "plt.title(\"2023 Center Free Throw Shooting Percentage Average Per Game\")\n",
    "plt.xlabel(\"Free Throws Attmepted\")\n",
    "plt.ylabel(\"Free Throws Percentage\")\n",
    "plt.legend(fontsize=\"small\")\n",
    "plt.xlim(0,8)\n",
    "plt.ylim(50,90)\n",
    "plt.grid()\n",
    "plt.show()"
   ]
  },
  {
   "cell_type": "code",
   "execution_count": null,
   "metadata": {},
   "outputs": [],
   "source": [
    "plt.bar(league_average_center[\"Minutes\"],league_average_center[\"Offensive Rebound\"],color=\"r\",label=\"League Average\")\n",
    "\n",
    "plt.bar(bol[\"Minutes\"],bol[\"Offensive Rebound\"],color=\"blue\",label=\"Bol Bol\", width=.75)\n",
    "\n",
    "plt.bar(wen_car[\"Minutes\"],wen_car[\"Offensive Rebound\"],color=\"g\",label=\"Wendell Carter Jr.\")\n",
    "\n",
    "plt.bar(mo_wag[\"Minutes\"],mo_wag[\"Offensive Rebound\"],color=\"purple\",label=\"Moritz Wagner\")\n",
    "\n",
    "plt.bar(go_bit[\"Minutes\"],go_bit[\"Offensive Rebound\"],color=\"orange\",label=\"Goga Bitadze\")\n",
    "\n",
    "\n",
    "\n",
    "\n",
    "\n",
    "plt.title(\"2023 Center Offensive Rebounds Average\")\n",
    "plt.xlabel(\"Minutes Played\")\n",
    "plt.ylabel(\"Offensive Rebounds\")\n",
    "plt.legend(fontsize=\"x-small\", loc=\"best\")\n",
    "plt.xlim(0,40)\n",
    "plt.grid()\n",
    "\n",
    "plt.show()"
   ]
  },
  {
   "cell_type": "code",
   "execution_count": null,
   "metadata": {},
   "outputs": [],
   "source": [
    "plt.bar(league_average_center[\"Minutes\"],league_average_center[\"Defensive Rebound\"],color=\"r\",label=\"League Average\")\n",
    "plt.bar(bol[\"Minutes\"],bol[\"Defensive Rebound\"],color=\"blue\",label=\"Bol Bol\")\n",
    "plt.bar(wen_car[\"Minutes\"],wen_car[\"Defensive Rebound\"],color=\"g\",label=\"Wendell Carter Jr.\")\n",
    "plt.bar(mo_wag[\"Minutes\"],mo_wag[\"Defensive Rebound\"],color=\"y\",label=\"Moritz Wagner\")\n",
    "plt.bar(go_bit[\"Minutes\"],go_bit[\"Defensive Rebound\"],color=\"orange\",label=\"Goga Bitadze\")\n",
    "\n",
    "\n",
    "\n",
    "plt.title(\"2023 Center Defensive Rebounds Average\")\n",
    "plt.xlabel(\"Minutes Played\")\n",
    "plt.ylabel(\"Defensive Rebounds\")\n",
    "plt.legend(fontsize=\"small\")\n",
    "plt.xlim(0,40)\n",
    "plt.grid()\n",
    "plt.show()"
   ]
  },
  {
   "cell_type": "code",
   "execution_count": null,
   "metadata": {},
   "outputs": [],
   "source": [
    "plt.bar(league_average_center[\"Minutes\"],league_average_center[\"Assists\"],color=\"r\",label=\"League Average\")\n",
    "plt.bar(bol[\"Minutes\"],bol[\"Assists \"],color=\"blue\",label=\"Bol Bol\", width=.75)\n",
    "plt.bar(wen_car[\"Minutes\"],wen_car[\"Assists \"],color=\"g\",label=\"Wendell Carter Jr.\")\n",
    "plt.bar(mo_wag[\"Minutes\"],mo_wag[\"Assists \"],color=\"y\",label=\"Moritz Wagner\")\n",
    "plt.bar(go_bit[\"Minutes\"],go_bit[\"Assists \"],color=\"orange\",label=\"Goga Bitadze\")\n",
    "\n",
    "\n",
    "plt.title(\"2023 Center Assists Average\")\n",
    "plt.xlabel(\"Minutes played\")\n",
    "plt.ylabel(\"Assists\")\n",
    "plt.legend(fontsize=\"x-small\")\n",
    "plt.xlim(0,40)\n",
    "plt.ylim(0,5)\n",
    "\n",
    "plt.grid()\n",
    "plt.show()"
   ]
  },
  {
   "cell_type": "code",
   "execution_count": null,
   "metadata": {},
   "outputs": [],
   "source": [
    "plt.bar(league_average_center[\"Minutes\"],league_average_center[\"Turnover\"],color=\"r\",label=\"League Average\")\n",
    "plt.bar(bol[\"Minutes\"],bol[\"Turnover\"],color=\"blue\",label=\"Bol Bol\")\n",
    "plt.bar(wen_car[\"Minutes\"],wen_car[\"Turnover\"],color=\"g\",label=\"Wendell Carter Jr.\")\n",
    "plt.bar(mo_wag[\"Minutes\"],mo_wag[\"Turnover\"],color=\"y\",label=\"Moritz Wagner\")\n",
    "plt.bar(go_bit[\"Minutes\"],go_bit[\"Turnover\"],color=\"black\",label=\"Goga Bitadze\")\n",
    "\n",
    "\n",
    "plt.title(\"2023 Center Turnovers Average\")\n",
    "plt.xlabel(\"Minutes played\")\n",
    "plt.ylabel(\"Turnovers\")\n",
    "plt.legend(fontsize=\"x-small\")\n",
    "plt.xlim(0,40)\n",
    "plt.ylim(0,3)\n",
    "plt.grid()\n",
    "plt.show()"
   ]
  },
  {
   "cell_type": "code",
   "execution_count": null,
   "metadata": {},
   "outputs": [],
   "source": [
    "plt.bar(league_average_center[\"Minutes\"],league_average_center[\"Steals\"],color=\"r\",label=\"League Average\")\n",
    "plt.bar(bol[\"Minutes\"],bol[\"Steals\"],color=\"blue\",label=\"Bol Bol\")\n",
    "plt.bar(wen_car[\"Minutes\"],wen_car[\"Steals\"],color=\"g\",label=\"Wendell Carter Jr.\")\n",
    "plt.bar(mo_wag[\"Minutes\"],mo_wag[\"Steals\"],color=\"y\",label=\"Moritz Wagner\")\n",
    "plt.bar(go_bit[\"Minutes\"],go_bit[\"Steals\"],color=\"orange\",label=\"Goga Bitadze\")\n",
    "\n",
    "\n",
    "\n",
    "plt.title(\"2023 Center Steals Average\")\n",
    "plt.xlabel(\"Minutes played\")\n",
    "plt.ylabel(\"Steals\")\n",
    "plt.legend(fontsize=\"x-small\")\n",
    "plt.xlim(0,40)\n",
    "plt.ylim(0,1.5)\n",
    "plt.grid()\n",
    "plt.show()"
   ]
  },
  {
   "cell_type": "code",
   "execution_count": null,
   "metadata": {},
   "outputs": [],
   "source": [
    "plt.bar(league_average_center[\"Minutes\"],league_average_center[\"Blocks\"],color=\"r\",label=\"League Average\")\n",
    "plt.bar(bol[\"Minutes\"],bol[\"Blocks\"],color=\"blue\",label=\"Bol Bol\")\n",
    "plt.bar(wen_car[\"Minutes\"],wen_car[\"Blocks\"],color=\"g\",label=\"Wendell Carter Jr.\", width=.75)\n",
    "plt.bar(mo_wag[\"Minutes\"],mo_wag[\"Blocks\"],color=\"y\",label=\"Moritz Wagner\")\n",
    "plt.bar(go_bit[\"Minutes\"],go_bit[\"Blocks\"],color=\"orange\",label=\"Goga Bitadze\")\n",
    "\n",
    "\n",
    "\n",
    "plt.title(\"2023 Center Blocks Average\")\n",
    "plt.xlabel(\"Minutes played\")\n",
    "plt.ylabel(\"Blocks\")\n",
    "plt.legend(fontsize=\"x-small\")\n",
    "plt.xlim(0,35)\n",
    "plt.ylim(0, 1.5)\n",
    "plt.grid()\n",
    "plt.show()"
   ]
  },
  {
   "cell_type": "code",
   "execution_count": null,
   "metadata": {},
   "outputs": [],
   "source": [
    "plt.bar(league_average_center[\"Minutes\"],league_average_center[\"Personal Foul\"],color=\"r\",label=\"League Average\")\n",
    "plt.bar(bol[\"Minutes\"],bol[\"Personal Foul\"],color=\"blue\",label=\"Bol Bol\")\n",
    "plt.bar(wen_car[\"Minutes\"],wen_car[\"Personal Foul\"],color=\"g\",label=\"Wendell Carter Jr.\", width=.75)\n",
    "plt.bar(mo_wag[\"Minutes\"],mo_wag[\"Personal Foul\"],color=\"y\",label=\"Moritz Wagner\")\n",
    "plt.bar(go_bit[\"Minutes\"],go_bit[\"Personal Foul\"],color=\"orange\",label=\"Goga Bitadze\")\n",
    "\n",
    "plt.title(\"2023 Center Personal Fouls Average\")\n",
    "plt.xlabel(\"Minutes played\")\n",
    "plt.ylabel(\"Personal Fouls\")\n",
    "plt.legend(fontsize=\"x-small\")\n",
    "plt.xlim(0,35)\n",
    "plt.ylim(0,4)\n",
    "plt.grid()\n",
    "plt.show()"
   ]
  },
  {
   "cell_type": "code",
   "execution_count": null,
   "metadata": {},
   "outputs": [],
   "source": [
    "plt.scatter(league_average_center[\"Minutes\"],league_average_center[\"Plus-Minus\"],color=\"r\",label=\"League Average\")\n",
    "plt.scatter(bol[\"Minutes\"],bol[\"Plus-Minus\"],color=\"blue\",label=\"Bol Bol\")\n",
    "plt.scatter(wen_car[\"Minutes\"],wen_car[\"Plus-Minus\"],color=\"g\",label=\"Wendell Carter Jr.\")\n",
    "plt.scatter(mo_wag[\"Minutes\"],mo_wag[\"Plus-Minus\"],color=\"y\",label=\"Moritz Wagner\")\n",
    "plt.scatter(go_bit[\"Minutes\"],go_bit[\"Plus-Minus\"],color=\"orange\",label=\"Goga Bitadze\")\n",
    "\n",
    "\n",
    "\n",
    "plt.title(\"2023 Center Plus-Minus Average\")\n",
    "plt.xlabel(\"Minutes played\")\n",
    "plt.ylabel(\"Plus-Minus\")\n",
    "plt.legend(fontsize=\"x-small\")\n",
    "plt.xlim(0,35)\n",
    "plt.ylim(-2.5,1)\n",
    "plt.grid()\n",
    "plt.show()\n"
   ]
  },
  {
   "cell_type": "markdown",
   "metadata": {},
   "source": [
    "## Bethel Brenton\n",
    "Linear Regression to determine which KPI(s) have a strong positive relationship with wins."
   ]
  },
  {
   "attachments": {},
   "cell_type": "markdown",
   "metadata": {},
   "source": [
    "### Question 4: Which KPIs most closely relate to wins for the Orlando Magic Team in the 2022 - 2023 Games?"
   ]
  },
  {
   "cell_type": "code",
   "execution_count": null,
   "metadata": {},
   "outputs": [],
   "source": [
    "# Display the data table for preview\n",
    "magic22_23_df.head(100)"
   ]
  },
  {
   "cell_type": "code",
   "execution_count": null,
   "metadata": {},
   "outputs": [],
   "source": [
    "#Create a function to create Linear Regression plots\n",
    "def plot_linear_regression(x_values,y_values,y_title,text_coordinates):\n",
    "    \n",
    "    # Run regression on Southern Hemisphere\n",
    "    (slope, intercept, rvalue, pvalue, stderr) = linregress (x_values,y_values)\n",
    "    regress_values = x_values * slope + intercept\n",
    "    line_eq = \"y = \" + str(round(slope,2)) + \" x + \" + str(round(intercept,2))\n",
    "    \n",
    "    # Plot\n",
    "    plt.scatter(x_values,y_values)\n",
    "    plt.plot(x_values, regress_values, \"r-\")\n",
    "    plt.annotate(line_eq,text_coordinates, fontsize=15, color=\"red\")\n",
    "    plt.xlabel(\"Wins\")\n",
    "    plt.ylabel(y_title)\n",
    "    print(f\"The r-squared is: {rvalue}\")\n",
    "    plt.show()\n",
    "    return rvalue"
   ]
  },
  {
   "cell_type": "code",
   "execution_count": null,
   "metadata": {},
   "outputs": [],
   "source": [
    "x_values = magic22_23_df [\"Wins\"]\n",
    "y_values = magic22_23_df [\"Blocks\"]\n",
    "r = plot_linear_regression(x_values,y_values,'Blocks',(2,90))\n",
    "\n",
    "magic_rvalues = pd.DataFrame({'KPI':[\"Blocks\"], 'r':[r]}) \n",
    "magic_rvalues.head()"
   ]
  },
  {
   "cell_type": "code",
   "execution_count": null,
   "metadata": {},
   "outputs": [],
   "source": [
    "x_values = magic22_23_df [\"Wins\"]\n",
    "y_values = magic22_23_df [\"Steals\"]\n",
    "r = plot_linear_regression(x_values,y_values,'Steals',(2,90))\n",
    "\n",
    "df_new_row = pd.DataFrame({'KPI':[\"Steals\"], 'r':[r]}) \n",
    "magic_rvalues = pd.concat([magic_rvalues, df_new_row])"
   ]
  },
  {
   "cell_type": "code",
   "execution_count": null,
   "metadata": {},
   "outputs": [],
   "source": [
    "x_values = magic22_23_df [\"Wins\"]\n",
    "y_values = magic22_23_df [\"Rebounds\"]\n",
    "r = plot_linear_regression(x_values,y_values,'Rebounds',(20,90))\n",
    "\n",
    "df_new_row = pd.DataFrame({'KPI':[\"Rebounds\"], 'r':[r]}) \n",
    "magic_rvalues = pd.concat([magic_rvalues, df_new_row])"
   ]
  },
  {
   "cell_type": "code",
   "execution_count": null,
   "metadata": {},
   "outputs": [],
   "source": [
    "x_values = magic22_23_df [\"Wins\"]\n",
    "y_values = magic22_23_df [\"Free Throw Made\"]\n",
    "r = plot_linear_regression(x_values,y_values,'Free Throw Made',(20,90))\n",
    "\n",
    "df_new_row = pd.DataFrame({'KPI':[\"Free Throw Made\"], 'r':[r]}) \n",
    "magic_rvalues = pd.concat([magic_rvalues, df_new_row])"
   ]
  },
  {
   "cell_type": "code",
   "execution_count": null,
   "metadata": {},
   "outputs": [],
   "source": [
    "x_values = magic22_23_df [\"Wins\"]\n",
    "y_values = magic22_23_df [\"3 Points Made\"]\n",
    "r = plot_linear_regression(x_values,y_values,'3 Points Made',(10,90))\n",
    "\n",
    "df_new_row = pd.DataFrame({'KPI':[\"3 Points Made\"], 'r':[r]}) \n",
    "magic_rvalues = pd.concat([magic_rvalues, df_new_row])"
   ]
  },
  {
   "cell_type": "code",
   "execution_count": null,
   "metadata": {},
   "outputs": [],
   "source": [
    "x_values = magic22_23_df [\"Wins\"]\n",
    "y_values = magic22_23_df [\"Turnover\"]\n",
    "r = plot_linear_regression(x_values,y_values,'Turnover',(10,90))\n",
    "\n",
    "df_new_row = pd.DataFrame({'KPI':[\"Turnover\"], 'r':[r]}) \n",
    "magic_rvalues = pd.concat([magic_rvalues, df_new_row])"
   ]
  },
  {
   "cell_type": "code",
   "execution_count": null,
   "metadata": {},
   "outputs": [],
   "source": [
    "x_values = magic22_23_df [\"Wins\"]\n",
    "y_values = magic22_23_df [\"Field Goals Made\"]\n",
    "r = plot_linear_regression(x_values,y_values,'Field Goals Made',(15,90))\n",
    "\n",
    "df_new_row = pd.DataFrame({'KPI':[\"Field Goals Made\"], 'r':[r]}) \n",
    "magic_rvalues = pd.concat([magic_rvalues, df_new_row], ignore_index=True)"
   ]
  },
  {
   "cell_type": "code",
   "execution_count": null,
   "metadata": {},
   "outputs": [],
   "source": [
    "magic_rvalues = magic_rvalues.sort_values(by='r', ascending=True, ignore_index=False)\n",
    "magic_rvalues.head(10)"
   ]
  },
  {
   "cell_type": "code",
   "execution_count": null,
   "metadata": {},
   "outputs": [],
   "source": [
    "plt.barh(magic_rvalues[\"KPI\"], magic_rvalues[\"r\"])\n",
    "plt.title(\"Correlation between KPIs and Wins\", size=14)\n",
    "plt.xlabel(\"Linear Regression (r)\")\n",
    "plt.ylabel(\"Key Performance Indicator(KPI)\")\n",
    "plt.show()"
   ]
  },
  {
   "cell_type": "markdown",
   "metadata": {},
   "source": [
    "##### Analysis: According to the Pearson Correlation Coefficient Table the KPIs all had a positive relations to wins, however, the ones that had a strong positive relationship with Wins are: Field Goals Made, Free Throws Made, and Rebounds. Whilst, 3 Points made shows a moderate positive effect on Wins. The KPIs least related to Wins are: Steals and Blocks."
   ]
  },
  {
   "cell_type": "markdown",
   "metadata": {},
   "source": [
    "# Jessica Richter"
   ]
  },
  {
   "attachments": {},
   "cell_type": "markdown",
   "metadata": {},
   "source": [
    "### Question 2: How does the team makeup and performance from last season compare to previous seasons?"
   ]
  },
  {
   "cell_type": "code",
   "execution_count": null,
   "metadata": {},
   "outputs": [],
   "source": [
    "# Set paths\n",
    "data_all_seasons = (\"data/All_Seasons.csv\")\n",
    "data96 = (\"data/1995_1996 Season.csv\")\n",
    "data10 = (\"data/2009_2010 Season.csv\")\n",
    "data09 = (\"data/2008_2009 Season.csv\")\n",
    "data95 = (\"data/1994_1995 Season.csv\")\n",
    "data99 = (\"data/1998_1999 Season.csv\")\n",
    "data23 = (\"data/2022_2023 Season.csv\")\n",
    "data22 = (\"data/2021_2022 Season.csv\")\n",
    "data04 = (\"data/2003_2004 Season.csv\")\n",
    "data92 = (\"data/1991_1992 Season.csv\")\n",
    "data13 = (\"data/2012_2013 Season.csv\")\n",
    "data90 = (\"data/1989_1990 Season.csv\")"
   ]
  },
  {
   "cell_type": "code",
   "execution_count": null,
   "metadata": {},
   "outputs": [],
   "source": [
    "# Read in data\n",
    "all_seasons_df = pd.read_csv(data_all_seasons)\n",
    "season96_df = pd.read_csv(data96)\n",
    "season10_df = pd.read_csv(data10)\n",
    "season09_df = pd.read_csv(data09)\n",
    "season95_df = pd.read_csv(data95)\n",
    "season99_df = pd.read_csv(data99)\n",
    "season23_df = pd.read_csv(data23)\n",
    "season22_df = pd.read_csv(data22)\n",
    "season04_df = pd.read_csv(data04)\n",
    "season92_df = pd.read_csv(data92)\n",
    "season13_df = pd.read_csv(data13)\n",
    "season90_df = pd.read_csv(data90)"
   ]
  },
  {
   "cell_type": "code",
   "execution_count": null,
   "metadata": {},
   "outputs": [],
   "source": [
    "# Set list for graph labels\n",
    "seasons = [\"1995_1996\", \"2009_2010\", \"2008-2009\", \"1994-1995\", \"1998_1999\", \"2022-2023\"] "
   ]
  },
  {
   "cell_type": "code",
   "execution_count": null,
   "metadata": {},
   "outputs": [],
   "source": [
    "# Create bar chart of all seasons' win/loss percentages\n",
    "fig = plt.figure(figsize = (12, 5))\n",
    "plt.bar(all_seasons_df[\"Season\"], all_seasons_df[\"W/L%\"])\n",
    "plt.xticks(rotation=60)\n",
    "plt.xlabel(\"Season\")\n",
    "plt.ylabel(\"Win/Loss Percentage\")\n",
    "plt.title(\"Orlando Magic Win/Loss Percentages per Season\")\n",
    "plt.show()"
   ]
  },
  {
   "cell_type": "code",
   "execution_count": null,
   "metadata": {},
   "outputs": [],
   "source": [
    "# Compare recent season's win/loss percentage to overall average.\n",
    "avg_wl_percentage = all_seasons_df[\"W/L%\"].mean()\n",
    "recent_wl_percentage = all_seasons_df.loc[all_seasons_df[\"Season\"] == \"2022-23\", \"W/L%\"]\n",
    "\n",
    "print(f\"The Orlando Magic's average win/loss percentage since 1989 is {round(avg_wl_percentage, 3)}.\")\n",
    "print(f\"The Orlando Magic's average win/loss percentage in the 2022-2023 season was {recent_wl_percentage}.\")"
   ]
  },
  {
   "cell_type": "code",
   "execution_count": null,
   "metadata": {},
   "outputs": [],
   "source": [
    "# Create dataframe to list top 5 seasons, last season, and bottom 5 seasons in terms of win/loss percentages\n",
    "top_bottom_current = all_seasons_df.loc[(all_seasons_df[\"W/L%\"] > 0.65) | (all_seasons_df[\"Season\"] == \"2022-23\") | (all_seasons_df[\"W/L%\"] < 0.28)]\n",
    "\n",
    "# Reset the index\n",
    "top_bottom_current = top_bottom_current.reset_index(drop=False, inplace=False)\n",
    "top_bottom_current"
   ]
  },
  {
   "cell_type": "code",
   "execution_count": null,
   "metadata": {},
   "outputs": [],
   "source": [
    "# Create a bar chart of top 5 seasons, last season, and bottom 5 seasons' win/loss percentages\n",
    "fig = plt.figure(figsize = (6, 5))\n",
    "\n",
    "x_data = top_bottom_current[\"Season\"]\n",
    "y_data = top_bottom_current[\"W/L%\"]\n",
    "\n",
    "plt.bar(x_data[0],y_data[0],color=\"green\")\n",
    "plt.bar(x_data[1],y_data[1],color=\"green\")\n",
    "plt.bar(x_data[2],y_data[2],color=\"green\")\n",
    "plt.bar(x_data[3],y_data[3],color=\"green\")\n",
    "plt.bar(x_data[4],y_data[4],color=\"green\")\n",
    "plt.bar(x_data[5],y_data[5],color=\"blue\")\n",
    "plt.bar(x_data[6],y_data[6],color=\"red\")\n",
    "plt.bar(x_data[7],y_data[7],color=\"red\")\n",
    "plt.bar(x_data[8],y_data[8],color=\"red\")\n",
    "plt.bar(x_data[9],y_data[9],color=\"red\")\n",
    "plt.bar(x_data[10],y_data[10],color=\"red\")\n",
    "\n",
    "plt.xticks(rotation=60)\n",
    "plt.xlabel(\"Season\")\n",
    "plt.ylabel(\"Win/Loss Percentage\")\n",
    "plt.title(\"Top, Most Recent, and Bottom Win/Loss Percentages\")\n",
    "plt.show()"
   ]
  },
  {
   "cell_type": "code",
   "execution_count": null,
   "metadata": {},
   "outputs": [],
   "source": [
    "# Create a scatter plot of offensive versus defensive ratings\n",
    "x_data = top_bottom_current[\"ORtg\"]\n",
    "y_data = top_bottom_current[\"DRtg\"]\n",
    "\n",
    "plt.scatter(x_data[0],y_data[0],color=\"green\")\n",
    "plt.scatter(x_data[1],y_data[1],color=\"green\")\n",
    "plt.scatter(x_data[2],y_data[2],color=\"green\")\n",
    "plt.scatter(x_data[3],y_data[3],color=\"green\")\n",
    "plt.scatter(x_data[4],y_data[4],color=\"green\")\n",
    "plt.scatter(x_data[5],y_data[5],color=\"blue\")\n",
    "plt.scatter(x_data[6],y_data[6],color=\"red\")\n",
    "plt.scatter(x_data[7],y_data[7],color=\"red\")\n",
    "plt.scatter(x_data[8],y_data[8],color=\"red\")\n",
    "plt.scatter(x_data[9],y_data[9],color=\"red\")\n",
    "plt.scatter(x_data[10],y_data[10],color=\"red\")\n",
    "\n",
    "plt.title(\"Offensive vs Defensive Ratings\")\n",
    "plt.xlabel(\"Offensive Rating (Est. Points Produced/100 Possessions)\")\n",
    "plt.ylabel(\"Defensive Rating (Est. Points Allowed/100 Possessions)\")\n",
    "plt.show()"
   ]
  },
  {
   "cell_type": "code",
   "execution_count": null,
   "metadata": {},
   "outputs": [],
   "source": [
    "# Create a list of players' years of experience\n",
    "player_exp_list = [season96_df['Exp'], season10_df['Exp'], season09_df['Exp'], season95_df['Exp'], season99_df['Exp'], \n",
    "                  season23_df['Exp']]\n",
    "\n",
    "# Create a box plot of players' years of experience\n",
    "fig, ax = plt.subplots()\n",
    "ax.boxplot(player_exp_list)\n",
    "\n",
    "ax.set_xticklabels(seasons)\n",
    "plt.xticks(rotation=45)\n",
    "ax.set_xlabel(\"Season\")\n",
    "ax.set_ylabel(\"Players' Years of Experience\")\n",
    "plt.title(\"Top and Most Recent Seasons\")\n",
    "plt.show()"
   ]
  },
  {
   "cell_type": "code",
   "execution_count": null,
   "metadata": {},
   "outputs": [],
   "source": [
    "# Create a list of players' average years of experience\n",
    "avg_player_exp_list = [season96_df['Exp'].mean(), season10_df['Exp'].mean(), season09_df['Exp'].mean(), season95_df['Exp'].mean(), \n",
    "                       season99_df['Exp'].mean(), season23_df['Exp'].mean()]\n",
    "\n",
    "# Create a bar chart of players' average years of experience\n",
    "fig = plt.figure(figsize = (7, 5))\n",
    "plt.bar(seasons, avg_player_exp_list)\n",
    "plt.xticks(rotation=60)\n",
    "plt.xlabel(\"Season\")\n",
    "plt.ylabel(\"Players' Average Years of Experience\")\n",
    "plt.title(\"Top and Most Recent Seasons\")\n",
    "plt.show()"
   ]
  },
  {
   "cell_type": "code",
   "execution_count": null,
   "metadata": {},
   "outputs": [],
   "source": [
    "# Create a list of players' ages\n",
    "player_age_list = [season96_df['Age'], season10_df['Age'], season09_df['Age'], season95_df['Age'], season99_df['Age'], season23_df['Age']]\n",
    "\n",
    "# Generate a box plot that shows the distrubution of the tumor volume for each treatment group. \n",
    "fig, ax = plt.subplots()\n",
    "ax.boxplot(player_age_list)\n",
    "\n",
    "ax.set_xticklabels(seasons)\n",
    "plt.xticks(rotation=45)\n",
    "ax.set_xlabel(\"Season\")\n",
    "ax.set_ylabel(\"Player Ages\")\n",
    "plt.title(\"Top and Most Recent Seasons\")\n",
    "plt.show()"
   ]
  },
  {
   "cell_type": "code",
   "execution_count": null,
   "metadata": {},
   "outputs": [],
   "source": [
    "# Create empty list to fill with player ages\n",
    "player_height_list = [season96_df['Height'], season10_df['Height'], season09_df['Height'], season95_df['Height'], season99_df['Height'], season23_df['Height']]\n",
    "\n",
    "# Generate a box plot that shows the distrubution of the tumor volume for each treatment group. \n",
    "fig, ax = plt.subplots()\n",
    "ax.boxplot(player_height_list)\n",
    "\n",
    "ax.set_xticklabels(seasons)\n",
    "plt.xticks(rotation=45)\n",
    "ax.set_xlabel(\"Season\")\n",
    "ax.set_ylabel(\"Player Heights\")\n",
    "plt.title(\"Top and Most Recent Seasons\")\n",
    "plt.show()"
   ]
  },
  {
   "cell_type": "markdown",
   "metadata": {},
   "source": [
    "# Candace Stingley"
   ]
  },
  {
   "attachments": {},
   "cell_type": "markdown",
   "metadata": {},
   "source": [
    "### Question 3: How does the Orlando Magic, as a team, compare to other teams in the league and the league as a whole?"
   ]
  },
  {
   "cell_type": "markdown",
   "metadata": {},
   "source": [
    "## Find Top, Middle, and Bottom Ranked Teams"
   ]
  },
  {
   "cell_type": "code",
   "execution_count": null,
   "metadata": {},
   "outputs": [],
   "source": [
    "# Combine East and West csv to find top, middle, and bottom teams\n",
    "east_con_csv = Path(\"Resources/NBA_East_Con.csv\")\n",
    "east_con_data = pd.read_csv(east_con_csv)\n",
    "\n",
    "west_con_csv = Path(\"Resources/NBA_West_Con.csv\")\n",
    "west_con_data = pd.read_csv(west_con_csv)\n",
    "\n",
    "frames = [east_con_data, west_con_data]\n",
    "combined_con_df = pd.concat(frames)\n",
    "\n",
    "#Sort dataframe and put in descending order\n",
    "sorted_con_df = combined_con_df.sort_values(by=['WIN%'], ascending = False)\n",
    "\n",
    "# Reset the index and drop unneeded column\n",
    "league_rank_df = sorted_con_df.reset_index(drop = True)\n",
    "league_rank_df.index = np.arange(1, len(league_rank_df) + 1)\n",
    "league_rank_df = league_rank_df.drop(['Unnamed: 0'], axis = 1)\n",
    "league_rank_df.head()"
   ]
  },
  {
   "cell_type": "code",
   "execution_count": null,
   "metadata": {},
   "outputs": [],
   "source": [
    "# Find Orlando's ranking based on Win%\n",
    "orl_team_rank = league_rank_df.loc[league_rank_df['TEAM'] == 'Orlando Magic']\n",
    "orl_team_rank"
   ]
  },
  {
   "cell_type": "code",
   "execution_count": null,
   "metadata": {},
   "outputs": [],
   "source": [
    "# Find the top, middle, and bottom ranked teams based on the index\n",
    "tmb_teams_df = league_rank_df.iloc[[0, 14,29]]\n",
    "tmb_teams_df"
   ]
  },
  {
   "cell_type": "markdown",
   "metadata": {},
   "source": [
    "## Orlando Magic Dataframe and Pie Chart"
   ]
  },
  {
   "cell_type": "code",
   "execution_count": null,
   "metadata": {},
   "outputs": [],
   "source": [
    "# Create ORL dataframe from csv\n",
    "# Filter out unneeded columns and rename where needed\n",
    "orl_team_csv = Path(\"Resources/NBA_ORL_Team.csv\")\n",
    "orl_team_data = pd.read_csv(orl_team_csv)\n",
    "\n",
    "orl_team_df = orl_team_data[['Unnamed: 0', 'Unnamed: 1', 'GP', 'MIN', 'PTS', 'WIN%', 'FG%', '3P%', 'FT%', 'REB', 'AST', 'TOV', 'STL', 'BLK']]\n",
    "\n",
    "orl_team_df = orl_team_df.rename(columns = {'Unnamed: 0' : 'Department', \n",
    "                              'Unnamed: 1' : 'Category', \n",
    "                              'GP' : 'Games Played', 'MIN' : 'Minutes Played', \n",
    "                              'PTS' : 'Points', 'WIN%' : 'Win Percentage', \n",
    "                              'FG%' : 'Field Goal Percentage', '3P%' : '3 Point Percentage', \n",
    "                              'FT%' : 'Free Throw Percentage', 'REB' : 'Rebounds', \n",
    "                              'AST' : 'Assists', 'TOV' : 'Turnovers', \n",
    "                              'STL' : 'Steals', 'BLK' : 'Blocks'})\n",
    "orl_team_df.head(7)"
   ]
  },
  {
   "cell_type": "code",
   "execution_count": null,
   "metadata": {},
   "outputs": [],
   "source": [
    "# Get OVERALL team stats\n",
    "orl_overall_df = orl_team_df.loc[orl_team_df['Department']=='OVERALL']\n",
    "orl_overall_df.head()"
   ]
  },
  {
   "cell_type": "code",
   "execution_count": null,
   "metadata": {},
   "outputs": [],
   "source": [
    "# Make Wins vs Losses dataframe and pie chart\n",
    "orl_win_loss = orl_team_df.iloc[ [3,4], [1,2]]\n",
    "orl_win_loss = orl_win_loss.set_index('Category')\n",
    "orl_win_loss"
   ]
  },
  {
   "cell_type": "code",
   "execution_count": null,
   "metadata": {},
   "outputs": [],
   "source": [
    "orl_wl_pie = orl_win_loss.plot(kind='pie', y='Games Played', \n",
    "                               title='Orlando Magic Wins vs Losses', \n",
    "                               legend=False, autopct='%1.1f%%',\n",
    "                               shadow=True, startangle=45)\n",
    "\n",
    "plt.savefig(\"ORLwlPie.png\")"
   ]
  },
  {
   "cell_type": "markdown",
   "metadata": {},
   "source": [
    "## Milwaukee Bucks Dataframe and Pie Chart"
   ]
  },
  {
   "cell_type": "code",
   "execution_count": null,
   "metadata": {},
   "outputs": [],
   "source": [
    "# Create top team (MKE) dataframe from csv\n",
    "# Filter out unneeded columns and rename where needed\n",
    "top_team_csv = Path(\"Resources/NBA_MKE_Team.csv\")\n",
    "top_team_data = pd.read_csv(top_team_csv)\n",
    "\n",
    "top_team_df = top_team_data[['Unnamed: 0', 'Unnamed: 1', 'GP', 'MIN', 'PTS', 'WIN%', 'FG%', '3P%', 'FT%', 'REB', 'AST', 'TOV', 'STL', 'BLK']]\n",
    "\n",
    "top_team_df = top_team_df.rename(columns = {'Unnamed: 0' : 'Department', \n",
    "                              'Unnamed: 1' : 'Category', \n",
    "                              'GP' : 'Games Played', 'MIN' : 'Minutes Played', \n",
    "                              'PTS' : 'Points', 'WIN%' : 'Win Percentage', \n",
    "                              'FG%' : 'Field Goal Percentage', '3P%' : '3 Point Percentage', \n",
    "                              'FT%' : 'Free Throw Percentage', 'REB' : 'Rebounds', \n",
    "                              'AST' : 'Assists', 'TOV' : 'Turnovers', \n",
    "                              'STL' : 'Steals', 'BLK' : 'Blocks'})\n",
    "top_team_df.head()"
   ]
  },
  {
   "cell_type": "code",
   "execution_count": null,
   "metadata": {},
   "outputs": [],
   "source": [
    "# Get OVERALL MKE team stats\n",
    "top_overall_df = top_team_df.loc[top_team_df['Department']=='OVERALL']\n",
    "top_overall_df.head()"
   ]
  },
  {
   "cell_type": "code",
   "execution_count": null,
   "metadata": {},
   "outputs": [],
   "source": [
    "# Make MKE Wins vs Losses dataframe and pie chart\n",
    "top_win_loss = top_team_df.iloc[[3,4],[1,2]]\n",
    "top_win_loss = top_win_loss.set_index('Category')\n",
    "top_win_loss"
   ]
  },
  {
   "cell_type": "code",
   "execution_count": null,
   "metadata": {},
   "outputs": [],
   "source": [
    "top_wl_pie = top_win_loss.plot(kind='pie', y='Games Played', \n",
    "                               title='Milwaukee Bucks Wins vs Losses', \n",
    "                               legend=False, autopct='%1.1f%%',\n",
    "                               shadow=True, startangle=0)\n",
    "\n",
    "plt.savefig(\"MKEwlPie.png\")"
   ]
  },
  {
   "cell_type": "markdown",
   "metadata": {},
   "source": [
    "## Minnesota Timberwolves Dataframe and Pie Chart"
   ]
  },
  {
   "cell_type": "code",
   "execution_count": null,
   "metadata": {},
   "outputs": [],
   "source": [
    "# Create middle team (MIN) dataframe from csv\n",
    "# Filter out unneeded columns and rename where needed\n",
    "mid_team_csv = Path(\"Resources/NBA_MIN_Team.csv\")\n",
    "mid_team_data = pd.read_csv(mid_team_csv)\n",
    "\n",
    "mid_team_df = mid_team_data[['Unnamed: 0', 'Unnamed: 1', 'GP', 'MIN', 'PTS', 'WIN%', 'FG%', '3P%', 'FT%', 'REB', 'AST', 'TOV', 'STL', 'BLK']]\n",
    "\n",
    "mid_team_df = mid_team_df.rename(columns = {'Unnamed: 0' : 'Department', \n",
    "                              'Unnamed: 1' : 'Category', \n",
    "                              'GP' : 'Games Played', 'MIN' : 'Minutes Played', \n",
    "                              'PTS' : 'Points', 'WIN%' : 'Win Percentage', \n",
    "                              'FG%' : 'Field Goal Percentage', '3P%' : '3 Point Percentage', \n",
    "                              'FT%' : 'Free Throw Percentage', 'REB' : 'Rebounds', \n",
    "                              'AST' : 'Assists', 'TOV' : 'Turnovers', \n",
    "                              'STL' : 'Steals', 'BLK' : 'Blocks'})\n",
    "mid_team_df.head()"
   ]
  },
  {
   "cell_type": "code",
   "execution_count": null,
   "metadata": {},
   "outputs": [],
   "source": [
    "# Get OVERALL MIN team stats\n",
    "mid_overall_df = mid_team_df.loc[mid_team_df['Department']=='OVERALL']\n",
    "mid_overall_df.head()"
   ]
  },
  {
   "cell_type": "code",
   "execution_count": null,
   "metadata": {},
   "outputs": [],
   "source": [
    "# Make MIN Wins vs Losses dataframe and pie chart\n",
    "mid_win_loss = mid_team_df.iloc[[3,4],[1,2]]\n",
    "mid_win_loss = mid_win_loss.set_index('Category')\n",
    "\n",
    "mid_wl_pie = mid_win_loss.plot(kind='pie', y='Games Played', \n",
    "                               title='Minnesota Timberwolves Wins vs Losses', \n",
    "                               legend=False, autopct='%1.1f%%',\n",
    "                               shadow=True, startangle=45)\n",
    "\n",
    "plt.savefig(\"MINwlPie.png\")"
   ]
  },
  {
   "cell_type": "markdown",
   "metadata": {},
   "source": [
    "## Detroit Pistons Dataframe and Pie Chart"
   ]
  },
  {
   "cell_type": "code",
   "execution_count": null,
   "metadata": {},
   "outputs": [],
   "source": [
    "# Create bottom team (DET) dataframe from csv\n",
    "# Filter out unneeded columns and rename where needed\n",
    "bot_team_csv = Path(\"Resources/NBA_DET_Team.csv\")\n",
    "bot_team_data = pd.read_csv(bot_team_csv)\n",
    "\n",
    "bot_team_df = bot_team_data[['Unnamed: 0', 'Unnamed: 1', 'GP', 'MIN', 'PTS', 'WIN%', 'FG%', '3P%', 'FT%', 'REB', 'AST', 'TOV', 'STL', 'BLK']]\n",
    "\n",
    "bot_team_df = bot_team_df.rename(columns = {'Unnamed: 0' : 'Department', \n",
    "                              'Unnamed: 1' : 'Category', \n",
    "                              'GP' : 'Games Played', 'MIN' : 'Minutes Played', \n",
    "                              'PTS' : 'Points', 'WIN%' : 'Win Percentage', \n",
    "                              'FG%' : 'Field Goal Percentage', '3P%' : '3 Point Percentage', \n",
    "                              'FT%' : 'Free Throw Percentage', 'REB' : 'Rebounds', \n",
    "                              'AST' : 'Assists', 'TOV' : 'Turnovers', \n",
    "                              'STL' : 'Steals', 'BLK' : 'Blocks'})\n",
    "bot_team_df.head()"
   ]
  },
  {
   "cell_type": "code",
   "execution_count": null,
   "metadata": {},
   "outputs": [],
   "source": [
    "# Get OVERALL DET team stats\n",
    "bot_overall_df = bot_team_df.loc[bot_team_df['Department']=='OVERALL']\n",
    "bot_overall_df.head()"
   ]
  },
  {
   "cell_type": "code",
   "execution_count": null,
   "metadata": {},
   "outputs": [],
   "source": [
    "# Make DET Wins vs Losses dataframe and pie chart\n",
    "bot_win_loss = bot_team_df.iloc[[3,4],[1,2]]\n",
    "bot_win_loss = bot_win_loss.set_index('Category')\n",
    "\n",
    "bot_wl_pie = bot_win_loss.plot(kind='pie', y='Games Played', \n",
    "                               title='Detroit Pistons Wins vs Losses', \n",
    "                               legend=False, autopct='%1.1f%%',\n",
    "                               shadow=True, startangle=90)\n",
    "\n",
    "plt.savefig(\"DETwlPie.png\")"
   ]
  },
  {
   "cell_type": "markdown",
   "metadata": {},
   "source": [
    "## Top, Middle, and Bottom Points Bar Chart"
   ]
  },
  {
   "cell_type": "code",
   "execution_count": null,
   "metadata": {},
   "outputs": [],
   "source": [
    "# Merge 1st, 15th, and 30th place OVERALL dataframes \n",
    "frames = [orl_overall_df, top_overall_df, mid_overall_df, bot_overall_df]\n",
    "combined_tmb_df = pd.concat(frames)\n",
    "combined_tmb_df = combined_tmb_df.reset_index(drop = True)\n",
    "combined_tmb_df = combined_tmb_df.rename(columns = {'Department': 'Team', \n",
    "                              'Category' : 'Season'})\n",
    "combined_tmb_df = combined_tmb_df.astype({'Points':'float',\n",
    "                                          'Win Percentage':'float',\n",
    "                                          'Field Goal Percentage':'float',\n",
    "                                          '3 Point Percentage':'float',\n",
    "                                          'Free Throw Percentage':'float',\n",
    "                                          'Rebounds':'float',\n",
    "                                          'Turnovers':'float'\n",
    "                                         })\n",
    "\n",
    "combined_tmb_df.at[0, 'Team'] = 'Orlando Magic'\n",
    "combined_tmb_df.at[1, 'Team'] = 'Milwaukee Bucks'\n",
    "combined_tmb_df.at[2, 'Team'] = 'Minnesota Timberwolves'\n",
    "combined_tmb_df.at[3, 'Team'] = 'Detroit Pistons'\n",
    "\n",
    "combined_tmb_df.head()"
   ]
  },
  {
   "cell_type": "code",
   "execution_count": null,
   "metadata": {},
   "outputs": [],
   "source": [
    "# Create Points dataframe\n",
    "tmb_points_df = combined_tmb_df[['Team', 'Points']]\n",
    "tmb_points_df"
   ]
  },
  {
   "cell_type": "code",
   "execution_count": null,
   "metadata": {},
   "outputs": [],
   "source": [
    "#Find ORL points\n",
    "tmb_orl_points = tmb_points_df.loc[tmb_points_df['Team']=='Orlando Magic']\n",
    "tmb_orl_points = tmb_orl_points['Points'].values\n",
    "tmb_orl_points"
   ]
  },
  {
   "cell_type": "code",
   "execution_count": null,
   "metadata": {},
   "outputs": [],
   "source": [
    "# Make some bar chart comparing ORL with 3 other team Points\n",
    "figure1 = tmb_points_df.plot(kind=\"bar\", figsize=(6,3),\n",
    "                                title=\"Orlando vs 1st, 15th, & 30th Ranked Points\",\n",
    "                                xlabel=\"Team\",\n",
    "                                ylabel=\"Points\",\n",
    "                                legend=False)\n",
    "\n",
    "xticklabels = tmb_points_df['Team']\n",
    "figure1.set_xticklabels(xticklabels, rotation=45, rotation_mode=\"anchor\", ha=\"right\", wrap=True)\n",
    "figure1.set_ylim(100, 120)\n",
    "\n",
    "plt.axhline([tmb_orl_points], 0, len(tmb_points_df), color='red', linestyle='dotted')\n",
    "\n",
    "plt.show()\n",
    "plt.tight_layout()\n",
    "\n",
    "plt.savefig(\"TMBpointsBar.png\")"
   ]
  },
  {
   "cell_type": "markdown",
   "metadata": {},
   "source": [
    "## Top, Middle, and Bottom 3 Point % Bar Chart"
   ]
  },
  {
   "cell_type": "code",
   "execution_count": null,
   "metadata": {},
   "outputs": [],
   "source": [
    "# Create 3 Point Percentage dataframe\n",
    "tmb_tp_per_df = combined_tmb_df[['Team', '3 Point Percentage']]\n",
    "tmb_tp_per_df"
   ]
  },
  {
   "cell_type": "code",
   "execution_count": null,
   "metadata": {},
   "outputs": [],
   "source": [
    "tmb_orl_tp_per = tmb_tp_per_df.loc[tmb_tp_per_df['Team']=='Orlando Magic']\n",
    "tmb_orl_tp_per = tmb_orl_tp_per['3 Point Percentage'].values\n",
    "tmb_orl_tp_per"
   ]
  },
  {
   "cell_type": "code",
   "execution_count": null,
   "metadata": {},
   "outputs": [],
   "source": [
    "# Make some bar chart comparing ORL with 3 other team 3 Point Percentage\n",
    "figure2 = tmb_tp_per_df.plot(kind=\"bar\", figsize=(6,3),\n",
    "                                title=\"1st, 15th, & 30th Ranked 3 Point % v Orlando\",\n",
    "                                xlabel=\"Team\",\n",
    "                                ylabel=\"3 Point Percentage\",\n",
    "                                legend=False)\n",
    "\n",
    "xticklabels = tmb_tp_per_df['Team']\n",
    "figure2.set_xticklabels(xticklabels, rotation=45, rotation_mode=\"anchor\", ha=\"right\", wrap=True)\n",
    "\n",
    "plt.axhline([tmb_orl_tp_per], 0, len(tmb_tp_per_df), color='red', linestyle='dotted')\n",
    "\n",
    "plt.show()\n",
    "plt.tight_layout()\n",
    "\n",
    "plt.savefig(\"TMBtpperBar.png\")"
   ]
  },
  {
   "cell_type": "markdown",
   "metadata": {},
   "source": [
    "## Top, Middle, and Bottom FG% Bar Chart"
   ]
  },
  {
   "cell_type": "code",
   "execution_count": null,
   "metadata": {},
   "outputs": [],
   "source": [
    "# Create Field Goal Percentage dataframe\n",
    "tmb_fg_per_df = combined_tmb_df[['Team', 'Field Goal Percentage']]\n",
    "tmb_fg_per_df"
   ]
  },
  {
   "cell_type": "code",
   "execution_count": null,
   "metadata": {},
   "outputs": [],
   "source": [
    "tmb_orl_fg_per = tmb_fg_per_df.loc[tmb_fg_per_df['Team']=='Orlando Magic']\n",
    "tmb_orl_fg_per = tmb_orl_fg_per['Field Goal Percentage'].values\n",
    "tmb_orl_fg_per"
   ]
  },
  {
   "cell_type": "code",
   "execution_count": null,
   "metadata": {},
   "outputs": [],
   "source": [
    "# Make some bar chart comparing ORL with 3 other team Field Goal Percentage\n",
    "figure3 = tmb_fg_per_df.plot(kind=\"bar\", figsize=(6,3),\n",
    "                                title=\"1st, 15th, & 30th Ranked Field Goal % v Orlando\",\n",
    "                                xlabel=\"Team\",\n",
    "                                ylabel=\"Field Goal Percentage\",\n",
    "                                legend=False)\n",
    "\n",
    "xticklabels = tmb_fg_per_df['Team']\n",
    "figure3.set_xticklabels(xticklabels, rotation=45, rotation_mode=\"anchor\", ha=\"right\", wrap=True)\n",
    "figure3.set_ylim(35, 50)\n",
    "\n",
    "plt.axhline([tmb_orl_fg_per], 0, len(tmb_fg_per_df), color='red', linestyle='dotted')\n",
    "\n",
    "plt.show()\n",
    "plt.tight_layout()\n",
    "\n",
    "plt.savefig(\"TMBfgperBar.png\")"
   ]
  },
  {
   "cell_type": "markdown",
   "metadata": {},
   "source": [
    "## Top, Middle, and Bottom Rebounds Bar Chart"
   ]
  },
  {
   "cell_type": "code",
   "execution_count": null,
   "metadata": {},
   "outputs": [],
   "source": [
    "# Create Rebounds dataframe\n",
    "tmb_rb_per_df = combined_tmb_df[['Team', 'Rebounds']]\n",
    "tmb_rb_per_df"
   ]
  },
  {
   "cell_type": "code",
   "execution_count": null,
   "metadata": {},
   "outputs": [],
   "source": [
    "tmb_orl_rb_per = tmb_rb_per_df.loc[tmb_rb_per_df['Team']=='Orlando Magic']\n",
    "tmb_orl_rb_per = tmb_orl_rb_per['Rebounds'].values\n",
    "tmb_orl_rb_per"
   ]
  },
  {
   "cell_type": "code",
   "execution_count": null,
   "metadata": {},
   "outputs": [],
   "source": [
    "# Make some bar chart comparing ORL with 3 other team rebounds\n",
    "figure4 = tmb_rb_per_df.plot(kind=\"bar\", figsize=(6,3),\n",
    "                                title=\"1st, 15th, & 30th Ranked Rebounds v Orlando\",\n",
    "                                xlabel=\"Team\",\n",
    "                                ylabel=\"Rebounds\",\n",
    "                                legend=False)\n",
    "\n",
    "xticklabels = tmb_rb_per_df['Team']\n",
    "figure4.set_xticklabels(xticklabels, rotation=45, rotation_mode=\"anchor\", ha=\"right\", wrap=True)\n",
    "figure4.set_ylim(35, 50)\n",
    "\n",
    "plt.axhline([tmb_orl_rb_per], 0, len(tmb_rb_per_df), color='red', linestyle='dotted')\n",
    "\n",
    "plt.show()\n",
    "plt.tight_layout()\n",
    "\n",
    "plt.savefig(\"TMBrbBar.png\")"
   ]
  },
  {
   "cell_type": "markdown",
   "metadata": {},
   "source": [
    "## Top, Middle, and Bottom Rebounds Bar Chart"
   ]
  },
  {
   "cell_type": "code",
   "execution_count": null,
   "metadata": {},
   "outputs": [],
   "source": [
    "# Create Turnovers dataframe\n",
    "tmb_tov_df = combined_tmb_df[['Team', 'Turnovers']]\n",
    "tmb_tov_df"
   ]
  },
  {
   "cell_type": "code",
   "execution_count": null,
   "metadata": {},
   "outputs": [],
   "source": [
    "tmb_orl_tov = tmb_tov_df.loc[tmb_tov_df['Team']=='Orlando Magic']\n",
    "tmb_orl_tov = tmb_orl_tov['Turnovers'].values\n",
    "tmb_orl_tov"
   ]
  },
  {
   "cell_type": "code",
   "execution_count": null,
   "metadata": {},
   "outputs": [],
   "source": [
    "# Make some bar chart comparing ORL with 3 other team turnovers\n",
    "figure5 = tmb_tov_df.plot(kind=\"bar\", figsize=(6,3),\n",
    "                                title=\"1st, 15th, & 30th Ranked Turnovers v Orlando\",\n",
    "                                xlabel=\"Team\",\n",
    "                                ylabel=\"Turnovers\",\n",
    "                                legend=False)\n",
    "\n",
    "xticklabels = tmb_tov_df['Team']\n",
    "figure5.set_xticklabels(xticklabels, rotation=45, rotation_mode=\"anchor\", ha=\"right\", wrap=True)\n",
    "figure5.set_ylim(0, 20)\n",
    "\n",
    "plt.axhline([tmb_orl_tov], 0, len(tmb_tov_df), color='red', linestyle='dotted')\n",
    "\n",
    "plt.show()\n",
    "plt.tight_layout()\n",
    "\n",
    "plt.savefig(\"TMBtovBar.png\")"
   ]
  },
  {
   "cell_type": "markdown",
   "metadata": {},
   "source": [
    "## Full League Points Bar Chart, BW Plot, Stats, and Z-Score"
   ]
  },
  {
   "cell_type": "code",
   "execution_count": null,
   "metadata": {},
   "outputs": [],
   "source": [
    "# Read in Full League Data from csv \n",
    "full_league_csv = Path(\"Resources/NBA_ALL_Team.csv\")\n",
    "full_league_data = pd.read_csv(full_league_csv)\n",
    "\n",
    "full_league_data.head()"
   ]
  },
  {
   "cell_type": "code",
   "execution_count": null,
   "metadata": {},
   "outputs": [],
   "source": [
    "# Make dataframe with chosen columns\n",
    "# Teams + Points\n",
    "# Create dataframe\n",
    "full_points_df = full_league_data[['TEAM', 'PTS']]\n",
    "full_points_df = full_points_df.sort_values(by=['PTS'], ascending = False)\n",
    "\n",
    "# Find average of league points\n",
    "avg_points = full_points_df['PTS'].mean()\n",
    "avg_points"
   ]
  },
  {
   "cell_type": "code",
   "execution_count": null,
   "metadata": {},
   "outputs": [],
   "source": [
    "#Find ORL points\n",
    "orl_points = full_points_df.loc[full_points_df['TEAM']=='Orlando Magic']\n",
    "orl_points = orl_points['PTS'].values\n",
    "orl_points"
   ]
  },
  {
   "cell_type": "code",
   "execution_count": null,
   "metadata": {},
   "outputs": [],
   "source": [
    "# Creat Bar Chart from dataframe\n",
    "figure6 = full_points_df.plot(kind=\"bar\",\n",
    "                                title=\"NBA League Points\",\n",
    "                                xlabel=\"Team\",\n",
    "                                ylabel=\"Points\")\n",
    "\n",
    "xticklabels = full_points_df['TEAM']\n",
    "figure6.set_xticklabels(xticklabels, rotation=45, rotation_mode=\"anchor\", ha=\"right\", wrap=True)\n",
    "figure6.set_ylim(108, 122)\n",
    "\n",
    "# Plot average points and Orlando points\n",
    "plt.axhline([orl_points], 0, len(full_points_df), color='red', linestyle='dotted')\n",
    "plt.axhline([avg_points], 0, len(full_points_df), color='green', linestyle='dotted')\n",
    "\n",
    "plt.show()\n",
    "plt.tight_layout()\n",
    "\n",
    "plt.savefig(\"NBApointsBar.png\")"
   ]
  },
  {
   "cell_type": "code",
   "execution_count": null,
   "metadata": {},
   "outputs": [],
   "source": [
    "# Make Box and Whisker plot \n",
    "points = full_league_data['PTS']\n",
    "data1 = pd.DataFrame({'points':points})\n",
    "ax1 = data1[['points']].plot(kind='box', title='NBA League Points Distribution', showmeans=True)\n",
    "\n",
    "ax1.plot( 1, [orl_points], marker='o', color='red') \n",
    "\n",
    "plt.show()\n",
    "\n",
    "plt.savefig(\"NBApointsBWP.png\")"
   ]
  },
  {
   "cell_type": "code",
   "execution_count": null,
   "metadata": {},
   "outputs": [],
   "source": [
    "full_points_stats = full_points_df.describe()\n",
    "full_points_stats"
   ]
  },
  {
   "cell_type": "code",
   "execution_count": null,
   "metadata": {},
   "outputs": [],
   "source": [
    "full_p_zscore = stats.zscore(points)\n",
    "orl_p_zscore = full_p_zscore.loc[24]\n",
    "orl_p_zscore"
   ]
  },
  {
   "cell_type": "markdown",
   "metadata": {},
   "source": [
    "## Full League 3 Point Made Bar Chart, BW Plot, Stats, and Z-Score"
   ]
  },
  {
   "cell_type": "code",
   "execution_count": null,
   "metadata": {},
   "outputs": [],
   "source": [
    "# Make dataframe with chosen columns\n",
    "# Teams + 3PM\n",
    "# Create Bar Chart from dataframe\n",
    "full_tp_made_df = full_league_data[['TEAM', '3PM']]\n",
    "full_tp_made_df = full_tp_made_df.sort_values(by=['3PM'], ascending = False)\n",
    "\n",
    "# Find average of league points\n",
    "avg_tp_made = full_tp_made_df['3PM'].mean()\n",
    "avg_tp_made"
   ]
  },
  {
   "cell_type": "code",
   "execution_count": null,
   "metadata": {},
   "outputs": [],
   "source": [
    "#Find ORL 3 Point Percentage\n",
    "orl_tp_made = full_tp_made_df.loc[full_tp_made_df['TEAM']=='Orlando Magic']\n",
    "orl_tp_made = orl_tp_made['3PM'].values\n",
    "orl_tp_made"
   ]
  },
  {
   "cell_type": "code",
   "execution_count": null,
   "metadata": {},
   "outputs": [],
   "source": [
    "figure7 = full_tp_made_df.plot(kind=\"bar\",\n",
    "                                title=\"NBA League 3 Points Made\",\n",
    "                                xlabel=\"Team\",\n",
    "                                ylabel=\"3 Points Made\")\n",
    "\n",
    "xticklabels = full_tp_made_df['TEAM']\n",
    "figure7.set_xticklabels(xticklabels, rotation=45, rotation_mode=\"anchor\", ha=\"right\", wrap=True)\n",
    "figure7.set_ylim(0, 18)\n",
    "\n",
    "plt.axhline([orl_tp_made], 0, len(full_tp_made_df), color='red', linestyle='dotted')\n",
    "plt.axhline([avg_tp_made], 0, len(full_tp_made_df), color='green', linestyle='dotted')\n",
    "\n",
    "plt.show()\n",
    "plt.tight_layout()\n",
    "\n",
    "plt.savefig(\"NBAtpmadeBar.png\")"
   ]
  },
  {
   "cell_type": "code",
   "execution_count": null,
   "metadata": {},
   "outputs": [],
   "source": [
    "# Make Box and Whisker plot \n",
    "tp_made = full_league_data['3PM']\n",
    "data2 = pd.DataFrame({'tp_made':tp_made})\n",
    "ax2 = data2[['tp_made']].plot(kind='box', title='NBA League 3 Points Made Distribution', showmeans=True)\n",
    "\n",
    "ax2.plot( 1, [orl_tp_made], marker='o', color='red') \n",
    "\n",
    "plt.show()\n",
    "\n",
    "plt.savefig(\"NBAtpmadeBWP.png\")"
   ]
  },
  {
   "cell_type": "code",
   "execution_count": null,
   "metadata": {},
   "outputs": [],
   "source": [
    "full_tp_made_df.describe()"
   ]
  },
  {
   "cell_type": "code",
   "execution_count": null,
   "metadata": {},
   "outputs": [],
   "source": [
    "full_tp_zscore = stats.zscore(tp_made)\n",
    "orl_tp_zscore = full_tp_zscore.loc[24]\n",
    "orl_tp_zscore"
   ]
  },
  {
   "cell_type": "markdown",
   "metadata": {},
   "source": [
    "## Full League Field Goals Made Bar Chart, BW Plot, Stats, and Z-Score"
   ]
  },
  {
   "cell_type": "code",
   "execution_count": null,
   "metadata": {},
   "outputs": [],
   "source": [
    "# Make dataframe with chosen columns\n",
    "# Teams + FGM\n",
    "# Create Bar Chart from dataframe\n",
    "full_fg_made_df = full_league_data[['TEAM', 'FGM']]\n",
    "full_fg_made_df = full_fg_made_df.sort_values(by=['FGM'], ascending = False)\n",
    "\n",
    "# Find average of league points\n",
    "avg_fg_made = full_fg_made_df['FGM'].mean()\n",
    "avg_fg_made"
   ]
  },
  {
   "cell_type": "code",
   "execution_count": null,
   "metadata": {},
   "outputs": [],
   "source": [
    "#Find ORL field goal percentage\n",
    "orl_fg_made = full_fg_made_df.loc[full_fg_made_df['TEAM']=='Orlando Magic']\n",
    "orl_fg_made = orl_fg_made['FGM'].values\n",
    "orl_fg_made"
   ]
  },
  {
   "cell_type": "code",
   "execution_count": null,
   "metadata": {},
   "outputs": [],
   "source": [
    "figure8 = full_fg_made_df.plot(kind=\"bar\",\n",
    "                                title=\"NBA League Field Goals Made\",\n",
    "                                xlabel=\"Team\",\n",
    "                                ylabel=\"Field Goals Made\")\n",
    "\n",
    "xticklabels = full_fg_made_df['TEAM']\n",
    "figure8.set_xticklabels(xticklabels, rotation=45, rotation_mode=\"anchor\", ha=\"right\", wrap=True)\n",
    "figure8.set_ylim(38, 45)\n",
    "\n",
    "plt.axhline([orl_fg_made], 0, len(full_fg_made_df), color='red', linestyle='dotted')\n",
    "plt.axhline([avg_fg_made], 0, len(full_fg_made_df), color='green', linestyle='dotted')\n",
    "\n",
    "plt.show()\n",
    "plt.tight_layout()\n",
    "\n",
    "plt.savefig(\"NBAfgmadeBar.png\")"
   ]
  },
  {
   "cell_type": "code",
   "execution_count": null,
   "metadata": {},
   "outputs": [],
   "source": [
    "# Make Box and Whisker plot \n",
    "fg_made = full_league_data['FGM']\n",
    "data3 = pd.DataFrame({'fg_made':fg_made})\n",
    "ax3 = data3[['fg_made']].plot(kind='box', title='NBA League FG Made Distribution', showmeans=True)\n",
    "\n",
    "ax3.plot( 1, [orl_fg_made], marker='o', color='red') \n",
    "\n",
    "plt.show()\n",
    "\n",
    "plt.savefig(\"NBAfgmadeBWP.png\")"
   ]
  },
  {
   "cell_type": "code",
   "execution_count": null,
   "metadata": {},
   "outputs": [],
   "source": [
    "full_fg_made_df.describe()"
   ]
  },
  {
   "cell_type": "code",
   "execution_count": null,
   "metadata": {},
   "outputs": [],
   "source": [
    "full_fg_zscore = stats.zscore(fg_made)\n",
    "orl_fg_zscore = full_fg_zscore.loc[24]\n",
    "orl_fg_zscore"
   ]
  },
  {
   "cell_type": "code",
   "execution_count": null,
   "metadata": {},
   "outputs": [],
   "source": [
    "Full League Rebounds Bar Chart, BW Plot, Stats, and Z-Score\n",
    "# Make dataframe with chosen columns\n",
    "# Teams + REB\n",
    "# Create Bar Chart from dataframe\n",
    "full_rb_df = full_league_data[['TEAM', 'REB']]\n",
    "full_rb_df = full_rb_df.sort_values(by=['REB'], ascending = False)\n",
    "\n",
    "# Find average of league rebounds\n",
    "avg_rb = full_rb_df['REB'].mean()\n",
    "avg_rb"
   ]
  },
  {
   "cell_type": "code",
   "execution_count": null,
   "metadata": {},
   "outputs": [],
   "source": [
    "#Find ORL rebounds\n",
    "orl_rb = full_rb_df.loc[full_rb_df['TEAM']=='Orlando Magic']\n",
    "orl_rb = orl_rb['REB'].values\n",
    "orl_rb"
   ]
  },
  {
   "cell_type": "code",
   "execution_count": null,
   "metadata": {},
   "outputs": [],
   "source": [
    "figure9 = full_rb_df.plot(kind=\"bar\",\n",
    "                                title=\"NBA League Rebounds\",\n",
    "                                xlabel=\"Team\",\n",
    "                                ylabel=\"Rebounds\")\n",
    "\n",
    "xticklabels = full_rb_df['TEAM']\n",
    "figure9.set_xticklabels(xticklabels, rotation=45, rotation_mode=\"anchor\", ha=\"right\", wrap=True)\n",
    "figure9.set_ylim(37, 50)\n",
    "\n",
    "plt.axhline([orl_rb], 0, len(full_rb_df), color='red', linestyle='dotted')\n",
    "plt.axhline([avg_rb], 0, len(full_rb_df), color='green', linestyle='dotted')\n",
    "\n",
    "plt.show()\n",
    "plt.tight_layout()\n",
    "\n",
    "plt.savefig(\"NBArbBar.png\")"
   ]
  },
  {
   "cell_type": "code",
   "execution_count": null,
   "metadata": {},
   "outputs": [],
   "source": [
    "# Make Box and Whisker plot \n",
    "rebounds = full_league_data['REB']\n",
    "data4 = pd.DataFrame({'rebounds':rebounds})\n",
    "ax4 = data4[['rebounds']].plot(kind='box', title='NBA League Rebounds Distribution', showmeans=True)\n",
    "\n",
    "ax4.plot( 1, [orl_rb], marker='o', color='red') \n",
    "\n",
    "plt.show()\n",
    "\n",
    "plt.savefig(\"NBArbBWP.png\")"
   ]
  },
  {
   "cell_type": "code",
   "execution_count": null,
   "metadata": {},
   "outputs": [],
   "source": [
    "full_rb_df.describe()"
   ]
  },
  {
   "cell_type": "code",
   "execution_count": null,
   "metadata": {},
   "outputs": [],
   "source": [
    "full_rb_zscore = stats.zscore(rebounds)\n",
    "orl_rb_zscore = full_rb_zscore.loc[24]\n",
    "orl_rb_zscore"
   ]
  },
  {
   "cell_type": "markdown",
   "metadata": {},
   "source": [
    "## Full League Turnovers Bar Chart, BW Plot, Stats, and Z-Score"
   ]
  },
  {
   "cell_type": "code",
   "execution_count": null,
   "metadata": {},
   "outputs": [],
   "source": [
    "# Make dataframe with chosen columns\n",
    "# Teams + TOV\n",
    "# Create Bar Chart from dataframe\n",
    "full_tov_df = full_league_data[['TEAM', 'TOV']]\n",
    "full_tov_df = full_tov_df.sort_values(by=['TOV'], ascending = False)\n",
    "\n",
    "# Find average of league rebounds\n",
    "avg_tov = full_tov_df['TOV'].mean()\n",
    "avg_tov"
   ]
  },
  {
   "cell_type": "code",
   "execution_count": null,
   "metadata": {},
   "outputs": [],
   "source": [
    "#Find ORL rebounds\n",
    "orl_tov = full_tov_df.loc[full_tov_df['TEAM']=='Orlando Magic']\n",
    "orl_tov = orl_tov['TOV'].values\n",
    "orl_tov"
   ]
  },
  {
   "cell_type": "code",
   "execution_count": null,
   "metadata": {},
   "outputs": [],
   "source": [
    "figure10 = full_tov_df.plot(kind=\"bar\",\n",
    "                                title=\"NBA League Turnovers\",\n",
    "                                xlabel=\"Team\",\n",
    "                                ylabel=\"Turnovers\")\n",
    "\n",
    "xticklabels = full_tov_df['TEAM']\n",
    "figure10.set_xticklabels(xticklabels, rotation=45, rotation_mode=\"anchor\", ha=\"right\", wrap=True)\n",
    "figure10.set_ylim(10, 20)\n",
    "\n",
    "plt.axhline([orl_tov], 0, len(full_tov_df), color='red', linestyle='dotted')\n",
    "plt.axhline([avg_tov], 0, len(full_tov_df), color='green', linestyle='dotted')\n",
    "\n",
    "plt.show()\n",
    "plt.tight_layout()\n",
    "\n",
    "plt.savefig(\"NBAtovBar.png\")"
   ]
  },
  {
   "cell_type": "code",
   "execution_count": null,
   "metadata": {},
   "outputs": [],
   "source": [
    "# Make Box and Whisker plot \n",
    "turnovers = full_league_data['TOV']\n",
    "data5 = pd.DataFrame({'turnovers':turnovers})\n",
    "ax5 = data5[['turnovers']].plot(kind='box', title='NBA League Turnover Distribution', showmeans=True)\n",
    "\n",
    "ax5.plot( 1, [orl_tov], marker='o', color='red') \n",
    "\n",
    "plt.show()\n",
    "\n",
    "plt.savefig(\"NBAtovBWP.png\")"
   ]
  },
  {
   "cell_type": "code",
   "execution_count": null,
   "metadata": {},
   "outputs": [],
   "source": [
    "full_tov_df.describe()"
   ]
  },
  {
   "cell_type": "code",
   "execution_count": null,
   "metadata": {},
   "outputs": [],
   "source": [
    "full_tov_zscore = stats.zscore(turnovers)\n",
    "orl_tov_zscore = full_tov_zscore.loc[24]\n",
    "orl_tov_zscore"
   ]
  },
  {
   "cell_type": "markdown",
   "metadata": {},
   "source": [
    "## Mark Meinhardt\n",
    "### Question 1: Is there a correlation between regular season and post season winning percentage?"
   ]
  },
  {
   "cell_type": "code",
   "execution_count": null,
   "metadata": {},
   "outputs": [],
   "source": [
    "# Dependencies and Setup\n",
    "%matplotlib inline\n",
    "\n",
    "import matplotlib.pyplot as plt\n",
    "import pandas as pd\n",
    "import scipy.stats as st\n",
    "import requests\n",
    "import numpy as np\n",
    "\n",
    "\n",
    "from nba_api.stats.static import teams\n",
    "from nba_api.stats.endpoints import teamyearbyyearstats"
   ]
  },
  {
   "cell_type": "code",
   "execution_count": null,
   "metadata": {},
   "outputs": [],
   "source": [
    "### Find team data through nba_api python module\n",
    "#### https://github.com/swar/nba_api/blob/master/docs/table_of_contents.md"
   ]
  },
  {
   "cell_type": "code",
   "execution_count": null,
   "metadata": {},
   "outputs": [],
   "source": [
    "#Get Team ID\n",
    "team_data = pd.DataFrame.from_dict(teams.find_teams_by_full_name('magic'))\n",
    "team_id = team_data.loc[0,'id']\n",
    "print(f\"Magic Team ID: {team_id}\")"
   ]
  },
  {
   "cell_type": "code",
   "execution_count": null,
   "metadata": {},
   "outputs": [],
   "source": [
    "#Get teamyearbyyearstats for the Magic\n",
    "team_years = teamyearbyyearstats.TeamYearByYearStats(per_mode_simple='Totals'\n",
    "                                                     ,season_type_all_star='Regular Season'\n",
    "                                                     ,team_id=team_id)\n",
    "df = team_years.get_data_frames()[0]\n",
    "df.to_csv('orl_teamyears.csv')"
   ]
  },
  {
   "cell_type": "markdown",
   "metadata": {},
   "source": [
    "## Line and Bar Charts"
   ]
  },
  {
   "cell_type": "markdown",
   "metadata": {},
   "source": [
    "### Correlation - Regular season winning percentage vs number of games played in the playoffs during playoff years"
   ]
  },
  {
   "cell_type": "code",
   "execution_count": null,
   "metadata": {},
   "outputs": [],
   "source": [
    "# Genrate dataframe to only contain years in the playoffs\n",
    "playoff_df = df.loc[(df['PO_WINS'] > 0) | (df['PO_LOSSES'] > 0)].copy()\n",
    "playoff_df.head()"
   ]
  },
  {
   "cell_type": "code",
   "execution_count": null,
   "metadata": {},
   "outputs": [],
   "source": [
    "#Generate Line Chart of winning percentage by playoff year\n",
    "plt.figure(figsize=(12,8))\n",
    "\n",
    "magic_pct, = plt.plot(playoff_df.loc[:,'YEAR']\n",
    "                     ,playoff_df.loc[:,'WIN_PCT']\n",
    "                     ,color='blue'\n",
    "                     ,label='Regular Season')\n",
    "\n",
    "playoff_pct, = plt.plot(playoff_df.loc[:,'YEAR']\n",
    "                       ,playoff_df.loc[:,'PO_WINS']/(playoff_df.loc[:,'PO_WINS'] + playoff_df.loc[:,'PO_LOSSES'])\n",
    "                       ,color='red'\n",
    "                       ,label='Playoffs')\n",
    "\n",
    "plt.legend(handles=[magic_pct, playoff_pct], loc='best')\n",
    "plt.title(\"Magic Winning Percentage by Playoff Year\")\n",
    "plt.xlabel(\"Season\")\n",
    "plt.ylabel(\"Winning Percentage\")\n",
    "plt.ylim(0, 1)\n",
    "plt.xticks(rotation='vertical', color='black')\n",
    "\n",
    "plt.savefig('orl_win_pct_history.png')\n",
    "plt.show()"
   ]
  },
  {
   "cell_type": "code",
   "execution_count": null,
   "metadata": {},
   "outputs": [],
   "source": [
    "#Magic Bar Chart\n",
    "plt.figure(figsize=(12,6))\n",
    "\n",
    "x_axis = np.arange(len(playoff_df))\n",
    "tick_locations = [value for value in x_axis]\n",
    "tick_values = [r for r in playoff_df.loc[:,'YEAR']]\n",
    "\n",
    "plt.bar(x_axis\n",
    "       ,playoff_df.loc[:,'PO_WINS'] + playoff_df.loc[:,'PO_LOSSES']\n",
    "       ,color='blue'\n",
    "       )\n",
    "\n",
    "plt.xticks(tick_locations\n",
    "           ,tick_values\n",
    "          ,rotation='vertical'\n",
    "          )\n",
    "\n",
    "plt.title(\"Magic Playoff Wins by Year\")\n",
    "plt.xlabel(\"Season\")\n",
    "plt.ylabel(\"Playoff Games Played\")\n",
    "\n",
    "plt.savefig('orl_playoff_history.png')\n",
    "plt.show()\n"
   ]
  },
  {
   "cell_type": "code",
   "execution_count": null,
   "metadata": {},
   "outputs": [],
   "source": [
    "# Set populations\n",
    "reg_season_df = playoff_df[['YEAR','WIN_PCT']].copy()\n",
    "reg_season_df['YEAR'] = pd.to_numeric(reg_season_df['YEAR'].str.slice(0,4)) \n",
    "\n",
    "playoff_df['PO_WIN_PCT'] = round(playoff_df['PO_WINS']/(playoff_df['PO_WINS'] + playoff_df['PO_LOSSES']),3)\n",
    "playoff_pct_df = playoff_df[['YEAR','PO_WIN_PCT']].copy()\n",
    "playoff_pct_df['YEAR'] = pd.to_numeric(playoff_pct_df['YEAR'].str.slice(0,4))\n",
    "\n",
    "st.ttest_ind(reg_season_df, playoff_pct_df)\n"
   ]
  },
  {
   "cell_type": "code",
   "execution_count": null,
   "metadata": {},
   "outputs": [],
   "source": []
  }
 ],
 "metadata": {
  "kernelspec": {
   "display_name": "Python 3 (ipykernel)",
   "language": "python",
   "name": "python3"
  },
  "language_info": {
   "codemirror_mode": {
    "name": "ipython",
    "version": 3
   },
   "file_extension": ".py",
   "mimetype": "text/x-python",
   "name": "python",
   "nbconvert_exporter": "python",
   "pygments_lexer": "ipython3",
   "version": "3.9.16"
  },
  "vscode": {
   "interpreter": {
    "hash": "eb882ed8c848f19c90fcc85379b3fbc89a66895657e7761325dfc0ccc5dd370c"
   }
  }
 },
 "nbformat": 4,
 "nbformat_minor": 2
}
